{
 "cells": [
  {
   "cell_type": "markdown",
   "id": "7ccda5de-e9fe-4a48-ac3e-97f9fbafd9cb",
   "metadata": {},
   "source": [
    "# import "
   ]
  },
  {
   "cell_type": "code",
   "execution_count": 1,
   "id": "731d7716-0c96-4413-855a-a7b7dc9590c9",
   "metadata": {},
   "outputs": [],
   "source": [
    "from cov.covSum import covSum\n",
    "from cov.covSEard import covSEard\n",
    "from cov.covNoise import covNoise\n",
    "from lik.loglikelihood import loglikelihood\n",
    "import numpy as np\n",
    "from scipy.optimize import minimize\n",
    "from local_linearfit import local_linearfit\n",
    "from calculate_gx import calculate_gx\n",
    "from maximize_PD import maximize_PD\n",
    "from JumpGP_LD import JumpGP_LD\n",
    "\n",
    "import matplotlib.pyplot as plt"
   ]
  },
  {
   "cell_type": "code",
   "execution_count": 2,
   "id": "92a5fad1-79d4-4f15-8f90-50d71b88e877",
   "metadata": {},
   "outputs": [
    {
     "data": {
      "text/plain": [
       "array([[0.46580639],\n",
       "       [0.54375783],\n",
       "       [0.03625517],\n",
       "       [0.21676809],\n",
       "       [0.99111089]])"
      ]
     },
     "execution_count": 2,
     "metadata": {},
     "output_type": "execute_result"
    }
   ],
   "source": [
    "y = np.random.rand(5, 1)\n",
    "y"
   ]
  },
  {
   "cell_type": "markdown",
   "id": "7a8b9934-585c-47ea-84ea-7b2a47a95d4d",
   "metadata": {},
   "source": [
    "# data generation"
   ]
  },
  {
   "cell_type": "code",
   "execution_count": 4,
   "id": "490248d6-1ff3-449b-82f8-b8f2342efe24",
   "metadata": {},
   "outputs": [],
   "source": [
    "loghyper = np.array([ 1.07160318,0.47091217,-1.3225513,-1.12983861,5])\n",
    "x = np.array([[1.20663103, 2.06896326, 0.81121173],\n",
    "              [-0.91507893, 1.82804932, -0.57245283],\n",
    "              [-0.15962585, -0.71187307, -0.21697617],\n",
    "              [0.24503187, 0.26066701, -1.0035294],\n",
    "              [-1.48781972, -1.05787692, -0.17660721]])\n",
    "\n",
    "z = np.array([[0.10125506, 0.48125236, 1.08439458],\n",
    "              [2.24963887, -1.26946239, -1.38533352],\n",
    "              [0.85889631, -1.45310838, 0.25771964],\n",
    "              [-1.7467173, 0.30137992, 0.87534816]])\n",
    "y = np.array([[0.44464869],\n",
    "       [0.00961669],\n",
    "       [0.83954647],\n",
    "       [0.065795  ],\n",
    "       [0.66915748]])\n",
    "# covNoise(loghyper, x, 1)"
   ]
  },
  {
   "cell_type": "code",
   "execution_count": 5,
   "id": "b67bdfa5-92cd-404c-baa9-09105c8b7dfb",
   "metadata": {},
   "outputs": [
    {
     "data": {
      "text/plain": [
       "array([-9.16469727,  9.03479284, -1.41166437, 41.13526925])"
      ]
     },
     "execution_count": 5,
     "metadata": {},
     "output_type": "execute_result"
    }
   ],
   "source": [
    "# test sq_dist\n",
    "import numpy as np\n",
    "a = np.array([[ 0.25903865,  0.31306065, -1.15598174,  0.99072761, -1.32016278],\n",
    " [-1.30192679, -1.57205916,  1.39791904,  0.31796323, -0.23612809],\n",
    " [-0.60551855,  0.16873188, -0.84142728,  0.33235275,  0.85889901],\n",
    " [-0.42114252,  2.08631723,  0.68038556,  0.3891035 ,  0.49618429]])\n",
    "b = np.array([[-0.93938823,  0.57699803, -1.53625711,  0.78658444, -1.84761247,  0.82575864],\n",
    " [-0.00366112, -1.15524271,  0.50133093, -0.3120692 , -1.03505102,  0.56341386],\n",
    " [-0.55393028, -1.12327986, -1.38202594,  0.9614004 , -0.11471635,  0.91662938],\n",
    " [-0.98173329,  0.38871642,  1.12640807, -0.60718787, -1.03781187, -0.6775957 ]])\n",
    "Q = np.array([[ 1.09937429, -0.44825199, -1.11177016, -1.14566427, -0.01635297, -0.97182717],\n",
    " [ 1.56652462,  1.19099735, -0.43719879,  1.44931222, -0.53721698,  2.46452119],\n",
    " [ 0.8183128 , -0.40648116, -0.09076264,  0.01602344,  0.04018956,  0.11369391],\n",
    " [-0.7141464 ,  1.0681882 ,  0.10476072,  0.20973321, -1.06478112, -0.27394617],\n",
    " [ 1.08310582,  0.43906602, -1.13341128,  0.28604578,  0.02441914,  0.47179674]])\n",
    "\n",
    "from cov.sq_dist import sq_dist\n",
    "sq_dist(a,b,Q)"
   ]
  },
  {
   "cell_type": "code",
   "execution_count": 2,
   "id": "9d7d22f0-b1db-4e71-bde3-754798cfeb67",
   "metadata": {
    "scrolled": true
   },
   "outputs": [
    {
     "name": "stdout",
     "output_type": "stream",
     "text": [
      "Training Inputs (x):\n",
      "[[ 0.49671415 -0.1382643   0.64768854]\n",
      " [ 1.52302986 -0.23415337 -0.23413696]\n",
      " [ 1.57921282  0.76743473 -0.46947439]\n",
      " [ 0.54256004 -0.46341769 -0.46572975]\n",
      " [ 0.24196227 -1.91328024 -1.72491783]\n",
      " [-0.56228753 -1.01283112  0.31424733]\n",
      " [-0.90802408 -1.4123037   1.46564877]\n",
      " [-0.2257763   0.0675282  -1.42474819]\n",
      " [-0.54438272  0.11092259 -1.15099358]\n",
      " [ 0.37569802 -0.60063869 -0.29169375]]\n",
      "\n",
      "Training Responses (y):\n",
      "[[-0.60170661]\n",
      " [ 1.85227818]\n",
      " [-0.01349722]\n",
      " [-1.05771093]\n",
      " [ 0.82254491]\n",
      " [-1.22084365]\n",
      " [ 0.2088636 ]\n",
      " [-1.95967012]\n",
      " [-1.32818605]\n",
      " [ 0.19686124]]\n",
      "\n",
      "Test Inputs (xt):\n",
      "[[ 0.73846658  0.17136828 -0.11564828]\n",
      " [-0.3011037  -1.47852199 -0.71984421]\n",
      " [-0.46063877  1.05712223  0.34361829]]\n"
     ]
    }
   ],
   "source": [
    "import numpy as np\n",
    "\n",
    "# Set the random seed for reproducibility\n",
    "np.random.seed(42)\n",
    "\n",
    "# Sample sizes\n",
    "n_train = 10  # Number of training samples\n",
    "n_test = 3   # Number of test samples\n",
    "d = 3        # Number of dimensions\n",
    "\n",
    "# Generate random training inputs (x) and responses (y)\n",
    "x = np.random.randn(n_train, d)  # Training inputs: shape (n_train, d)\n",
    "y = np.random.randn(n_train, 1)   # Training responses: shape (n_train, 1)\n",
    "\n",
    "# Generate random test inputs (xt)\n",
    "xt = np.random.randn(n_test, d)    # Test inputs: shape (n_test, d)\n",
    "\n",
    "# Print the generated data\n",
    "print(\"Training Inputs (x):\")\n",
    "print(x)\n",
    "print(\"\\nTraining Responses (y):\")\n",
    "print(y)\n",
    "print(\"\\nTest Inputs (xt):\")\n",
    "print(xt)"
   ]
  },
  {
   "cell_type": "code",
   "execution_count": 2,
   "id": "52d6f8de-e8e8-4e9f-bc48-3f1982dd3ef2",
   "metadata": {},
   "outputs": [
    {
     "name": "stdout",
     "output_type": "stream",
     "text": [
      "***loglike:14.127100243267126\n",
      "MATLAB 赋值语句：\n",
      "x = [-0.3629163872262656 0.019544576934477108 1.2532350272399682\n",
      "1.0770379256517997 1.3987988402233253 -2.099457011776422\n",
      "0.3462855517957601 -0.4658533202530635 1.4035426871381558\n",
      "0.40544047535455846 -0.4479688925513312 -0.6256008370522506\n",
      "2.222169720618512 0.5693623630726297 1.3327048433605533\n",
      "0.49638802427956635 0.16309809871015982 0.16820127453765393\n",
      "0.47805208862940407 0.8039793322546238 1.1710775013837855\n",
      "0.21722653194139271 0.7519773571851857 0.5465335283157677\n",
      "-1.6623415946607938 0.5714552724503461 0.7067304012072794\n",
      "1.2946737385756037 -0.35692202935637496 -0.23604717873447037];\n",
      "y = [-0.9381491367580996\n",
      "-0.23498769482801435\n",
      "-0.5598784551947247\n",
      "0.2146168498134148\n",
      "-0.3938001689899772\n",
      "-0.44926157016496154\n",
      "-0.29221889794828565\n",
      "2.657688562748624\n",
      "-0.2007077921316548\n",
      "-0.02729179050687259];\n",
      "x0 = [-0.45466842628217546 0.40107485284136835 -0.328934392916298];\n",
      "logtheta = [0.37819801895034943;\n",
      "-1.9411040794264927;\n",
      "0.3582505979485107;\n",
      "-1.1493243416342278;\n",
      "-0.3050125550081455];\n",
      "loglike = loglikelihood(logtheta, cv,x,y);\n"
     ]
    }
   ],
   "source": [
    "import numpy as np\n",
    "\n",
    "# 随机生成 Training Inputs (x)\n",
    "n = 10  # 行数\n",
    "D = 3  # 列数\n",
    "n_test = 1\n",
    "\n",
    "x = np.random.randn(n, D)  # 生成 n x D 的随机矩阵\n",
    "x0 = np.random.randn(n_test, D)\n",
    "\n",
    "# 随机生成 Target Outputs (y)\n",
    "y = np.random.randn(n, 1)  # 生成 n 行 1 列的随机列向量\n",
    "\n",
    "# 随机生成 logtheta\n",
    "logtheta = np.random.randn(D+2)  # 生成 D+1 维的随机向量\n",
    "loglike = loglikelihood(logtheta, covSum, [covSEard, covNoise], x, y)\n",
    "print(f\"***loglike:{loglike}\")\n",
    "\n",
    "# 转换为 MATLAB 赋值语句\n",
    "x_matlab = '\\n'.join([' '.join(map(str, row)) for row in x])\n",
    "y_matlab = '\\n'.join(map(str, y.flatten()))\n",
    "x_test_matlab = '\\n'.join([' '.join(map(str, row)) for row in x0])\n",
    "logtheta_matlab = ';\\n'.join(map(str, logtheta))\n",
    "\n",
    "print(\"MATLAB 赋值语句：\")\n",
    "print(f\"x = [{x_matlab}];\")\n",
    "print(f\"y = [{y_matlab}];\")\n",
    "print(f\"x0 = [{x_test_matlab}];\")\n",
    "print(f\"logtheta = [{logtheta_matlab}];\")\n",
    "print(f\"loglike = loglikelihood(logtheta, cv,x,y);\")\n"
   ]
  },
  {
   "cell_type": "markdown",
   "id": "848f6095-604b-4748-bcef-f01cbe17a975",
   "metadata": {},
   "source": [
    "# test codes\n",
    "\n",
    "## covSEard"
   ]
  },
  {
   "cell_type": "code",
   "execution_count": 3,
   "id": "7bf03d0a-638a-49d1-87a1-fd6176cbc791",
   "metadata": {
    "scrolled": true
   },
   "outputs": [
    {
     "name": "stdout",
     "output_type": "stream",
     "text": [
      "Running covSEard function with loghyper: [ 1.07160318  0.47091217 -1.3225513  -1.12983861]\n",
      "Input data matrix x: [[ 1.20663103  2.06896326  0.81121173]\n",
      " [-0.91507893  1.82804932 -0.57245283]\n",
      " [-0.15962585 -0.71187307 -0.21697617]\n",
      " [ 0.24503187  0.26066701 -1.0035294 ]\n",
      " [-1.48781972 -1.05787692 -0.17660721]]\n",
      "Test set data matrix z: [[ 0.10125506  0.48125236  1.08439458]\n",
      " [ 2.24963887 -1.26946239 -1.38533352]\n",
      " [ 0.85889631 -1.45310838  0.25771964]\n",
      " [-1.7467173   0.30137992  0.87534816]]\n",
      "Number of hyperparameters (Step 1): (D+1)\n",
      "Covariance matrix K (Step 2):\n",
      " [[1.04384173e-01 1.10536433e-07 1.21058727e-05 4.42310192e-12\n",
      "  1.05071893e-05]\n",
      " [1.10536433e-07 1.04384173e-01 1.17869079e-02 1.61437193e-02\n",
      "  6.69669878e-03]\n",
      " [1.21058727e-05 1.17869079e-02 1.04384173e-01 1.10203342e-03\n",
      "  9.09050948e-02]\n",
      " [4.42310192e-12 1.61437193e-02 1.10203342e-03 1.04384173e-01\n",
      "  5.05314853e-04]\n",
      " [1.05071893e-05 6.69669878e-03 9.09050948e-02 5.05314853e-04\n",
      "  1.04384173e-01]]\n",
      "Variance for test set A (Step 3):\n",
      " [[0.10438417]\n",
      " [0.10438417]\n",
      " [0.10438417]\n",
      " [0.10438417]]\n",
      "Cross-covariance matrix B (Step 3):\n",
      " [[3.51422745e-02 1.95265301e-17 1.06722204e-03 3.30666848e-02]\n",
      " [2.77168549e-10 8.51595138e-05 8.29986019e-05 2.46993322e-08]\n",
      " [5.20724698e-07 4.67156257e-06 1.80512282e-02 1.65290372e-05]\n",
      " [4.79406723e-15 1.87159762e-02 7.85351868e-07 1.31955024e-12]\n",
      " [7.76894431e-07 1.55092502e-06 1.94181568e-02 2.99180447e-05]]\n",
      "Derivative matrix A for z=1 (Step 4):\n",
      " [[0.00000000e+00 5.83572445e-08 2.65019681e-06 4.79658782e-13\n",
      "  8.94631857e-06]\n",
      " [5.83572445e-08 0.00000000e+00 7.88918583e-04 2.54811977e-03\n",
      "  2.57628731e-04]\n",
      " [2.65019681e-06 7.88918583e-04 0.00000000e+00 2.11635111e-05\n",
      "  1.88073873e-02]\n",
      " [4.79658782e-13 2.54811977e-03 2.11635111e-05 0.00000000e+00\n",
      "  1.77951684e-04]\n",
      " [8.94631857e-06 2.57628731e-04 1.88073873e-02 1.77951684e-04\n",
      "  0.00000000e+00]]\n",
      "Derivative matrix A for z=2 (Step 4):\n",
      " [[0.00000000e+00 2.50149821e-09 3.65020996e-05 5.63945321e-12\n",
      "  4.00561140e-05]\n",
      " [2.50149821e-09 0.00000000e+00 2.96491106e-02 1.54640899e-02\n",
      "  2.17471378e-02]\n",
      " [3.65020996e-05 2.96491106e-02 0.00000000e+00 4.06425234e-04\n",
      "  4.24346859e-03]\n",
      " [5.63945321e-12 1.54640899e-02 4.06425234e-04 0.00000000e+00\n",
      "  3.42548572e-04]\n",
      " [4.00561140e-05 2.17471378e-02 4.24346859e-03 3.42548572e-04\n",
      "  0.00000000e+00]]\n",
      "Derivative matrix A for z=3 (Step 4):\n",
      " [[0.00000000e+00 2.98071557e-06 1.80257994e-04 2.05168067e-10\n",
      "  1.44409151e-04]\n",
      " [2.98071557e-06 0.00000000e+00 2.09785530e-02 4.22538116e-02\n",
      "  1.47797094e-02]\n",
      " [1.80257994e-04 2.09785530e-02 0.00000000e+00 9.60294536e-03\n",
      "  2.08658781e-03]\n",
      " [2.05168067e-10 4.22538116e-02 9.60294536e-03 0.00000000e+00\n",
      "  4.86681464e-03]\n",
      " [1.44409151e-04 1.47797094e-02 2.08658781e-03 4.86681464e-03\n",
      "  0.00000000e+00]]\n",
      "Derivative matrix A for z=4 (Step 4):\n",
      " [[2.08768346e-01 2.21072866e-07 2.42117453e-05 8.84620384e-12\n",
      "  2.10143786e-05]\n",
      " [2.21072866e-07 2.08768346e-01 2.35738159e-02 3.22874386e-02\n",
      "  1.33933976e-02]\n",
      " [2.42117453e-05 2.35738159e-02 2.08768346e-01 2.20406683e-03\n",
      "  1.81810190e-01]\n",
      " [8.84620384e-12 3.22874386e-02 2.20406683e-03 2.08768346e-01\n",
      "  1.01062971e-03]\n",
      " [2.10143786e-05 1.33933976e-02 1.81810190e-01 1.01062971e-03\n",
      "  2.08768346e-01]]\n"
     ]
    }
   ],
   "source": [
    "# test covSEard\n",
    "import numpy as np\n",
    "from cov.covSEard import covSEard\n",
    "\n",
    "# 假设的超参数(log(ell_1), ..., log(ell_D), log(sqrt(sf2)))\n",
    "D = 3  # 维度\n",
    "loghyper = np.random.randn(D + 1)  # 超参数维度为D+1\n",
    "\n",
    "# 生成输入数据矩阵 x (n x D)\n",
    "n = 5  # 输入数据点的数量\n",
    "x = np.random.randn(n, D)  # 生成随机的 n x D 数据\n",
    "\n",
    "# 生成测试数据矩阵 z (m x D)\n",
    "m = 4  # 测试数据点的数量\n",
    "z = np.random.randn(m, D)  # 生成随机的 m x D 测试数据\n",
    "\n",
    "# 运行 covSEard 函数，并打印结果\n",
    "def test_covSEard():\n",
    "    print(\"Running covSEard function with loghyper:\", loghyper)\n",
    "    print(\"Input data matrix x:\", x)\n",
    "    print(\"Test set data matrix z:\", z)\n",
    "\n",
    "    # 测试 Step 1: 返回超参数数量\n",
    "    print(\"Number of hyperparameters (Step 1):\", covSEard(loghyper, None))\n",
    "\n",
    "    # 测试 Step 2: 计算协方差矩阵 (z 不提供)\n",
    "    K = covSEard(loghyper, x)\n",
    "    print(\"Covariance matrix K (Step 2):\\n\", K)\n",
    "\n",
    "    # 测试 Step 3: 计算测试集的协方差矩阵\n",
    "    A, B = covSEard(loghyper, x, z)\n",
    "    print(\"Variance for test set A (Step 3):\\n\", A)\n",
    "    print(\"Cross-covariance matrix B (Step 3):\\n\", B)\n",
    "\n",
    "    # 测试 Step 4: 计算导数矩阵\n",
    "    for i in range(1, D+2):  # z 的范围是 1 到 D+1\n",
    "        A = covSEard(loghyper, x, i)\n",
    "        print(f\"Derivative matrix A for z={i} (Step 4):\\n\", A)\n",
    "\n",
    "test_covSEard()\n"
   ]
  },
  {
   "cell_type": "code",
   "execution_count": 2,
   "id": "9ede8f86-5c2f-4e1f-963f-d790f8bc20ac",
   "metadata": {},
   "outputs": [],
   "source": [
    "import numpy as np\n",
    "from cov.covNoise import covNoise\n",
    "loghyper = np.array([ 1.07160318,0.47091217,-1.3225513,-1.12983861,2])\n",
    "x = np.array([[1.20663103, 2.06896326, 0.81121173],\n",
    "              [-0.91507893, 1.82804932, -0.57245283],\n",
    "              [-0.15962585, -0.71187307, -0.21697617],\n",
    "              [0.24503187, 0.26066701, -1.0035294],\n",
    "              [-1.48781972, -1.05787692, -0.17660721]])\n",
    "\n",
    "z = np.array([[0.10125506, 0.48125236, 1.08439458],\n",
    "              [2.24963887, -1.26946239, -1.38533352],\n",
    "              [0.85889631, -1.45310838, 0.25771964],\n",
    "              [-1.7467173, 0.30137992, 0.87534816]])\n",
    "# covNoise(loghyper, x, 1)"
   ]
  },
  {
   "cell_type": "markdown",
   "id": "a0708a6e-a28b-48a9-a7e9-663a221525ca",
   "metadata": {},
   "source": [
    "## covSum, loglikelihood"
   ]
  },
  {
   "cell_type": "code",
   "execution_count": 10,
   "id": "49bfc96c-88b8-4a27-8be1-f373d6a2415d",
   "metadata": {},
   "outputs": [
    {
     "data": {
      "text/plain": [
       "array([ 17.05346725,   5.12931192,   0.14199614,   0.20876834,\n",
       "       109.19630007])"
      ]
     },
     "execution_count": 10,
     "metadata": {},
     "output_type": "execute_result"
    }
   ],
   "source": [
    "s2 = np.exp(2 * loghyper)\n",
    "A = 2 * np.dot(s2, np.eye(x.shape[0]))\n",
    "A"
   ]
  },
  {
   "cell_type": "code",
   "execution_count": 9,
   "id": "f1f5acf9-6fb2-4191-bd1d-09cc0fec6ccb",
   "metadata": {},
   "outputs": [
    {
     "data": {
      "text/plain": [
       "array([[ 8.52673362,  0.        ,  0.        ,  0.        ,  0.        ],\n",
       "       [ 0.        ,  2.56465596,  0.        ,  0.        ,  0.        ],\n",
       "       [ 0.        ,  0.        ,  0.07099807,  0.        ,  0.        ],\n",
       "       [ 0.        ,  0.        ,  0.        ,  0.10438417,  0.        ],\n",
       "       [ 0.        ,  0.        ,  0.        ,  0.        , 54.59815003]])"
      ]
     },
     "execution_count": 9,
     "metadata": {},
     "output_type": "execute_result"
    }
   ],
   "source": [
    "s2*np.eye(x.shape[0])"
   ]
  },
  {
   "cell_type": "code",
   "execution_count": 1,
   "id": "f7c55eb8-e5fe-42f6-b547-c92211da8018",
   "metadata": {},
   "outputs": [
    {
     "data": {
      "text/plain": [
       "'(D+1)+1'"
      ]
     },
     "execution_count": 1,
     "metadata": {},
     "output_type": "execute_result"
    }
   ],
   "source": [
    "covSum([covSEard, covNoise])"
   ]
  },
  {
   "cell_type": "code",
   "execution_count": 9,
   "id": "5b39f8c7-92c3-4a1c-87ea-c1683c8cb8a2",
   "metadata": {},
   "outputs": [
    {
     "name": "stdout",
     "output_type": "stream",
     "text": [
      "4\n",
      "1\n"
     ]
    }
   ],
   "source": [
    "covfunc = [covSEard, covNoise]\n",
    "v = []\n",
    "x = np.array([[1.20663103, 2.06896326, 0.81121173],\n",
    "              [-0.91507893, 1.82804932, -0.57245283],\n",
    "              [-0.15962585, -0.71187307, -0.21697617],\n",
    "              [0.24503187, 0.26066701, -1.0035294],\n",
    "              [-1.48781972, -1.05787692, -0.17660721]])\n",
    "n, D = x.shape\n",
    "for i, func in enumerate(covfunc):\n",
    "    param_count = eval(func())  # Assuming func returns the number of parameters it needs\n",
    "    print(param_count)\n",
    "    v.extend([i+1] * param_count)"
   ]
  },
  {
   "cell_type": "code",
   "execution_count": 7,
   "id": "31881481-3df5-4c9a-b98c-078ff2b89ef5",
   "metadata": {},
   "outputs": [
    {
     "data": {
      "text/plain": [
       "array([[0.    , 0.    , 0.    , 0.    , 0.    ],\n",
       "       [0.    , 0.    , 0.0296, 0.0155, 0.0217],\n",
       "       [0.    , 0.0296, 0.    , 0.0004, 0.0042],\n",
       "       [0.    , 0.0155, 0.0004, 0.    , 0.0003],\n",
       "       [0.    , 0.0217, 0.0042, 0.0003, 0.    ]])"
      ]
     },
     "execution_count": 7,
     "metadata": {},
     "output_type": "execute_result"
    }
   ],
   "source": [
    "res = covSum([covSEard, covNoise], loghyper, x, 2)\n",
    "res = np.round(res, 4)\n",
    "res"
   ]
  },
  {
   "cell_type": "code",
   "execution_count": 7,
   "id": "563636bb-2806-4115-b479-4098b8448c38",
   "metadata": {},
   "outputs": [],
   "source": [
    "loglike, dloglike = loglikelihood(loghyper, covSum, [covSEard, covNoise], x, y, 2)"
   ]
  },
  {
   "cell_type": "code",
   "execution_count": 8,
   "id": "e3dbb071-31fc-475c-a838-2a12fa8b7b9e",
   "metadata": {},
   "outputs": [
    {
     "data": {
      "text/plain": [
       "(29.594735265959667,\n",
       " array([-7.31599687e-12, -2.54548921e-11, -8.17691216e-12, -7.31599687e-12,\n",
       "         4.99991480e+00]))"
      ]
     },
     "execution_count": 8,
     "metadata": {},
     "output_type": "execute_result"
    }
   ],
   "source": [
    "loglike, dloglike"
   ]
  },
  {
   "cell_type": "markdown",
   "id": "64162e75-7574-421b-8a95-d0b7370630d4",
   "metadata": {},
   "source": [
    "## minimize, localGP"
   ]
  },
  {
   "cell_type": "code",
   "execution_count": 2,
   "id": "82a53064-8848-47eb-bb4d-c763c4539468",
   "metadata": {},
   "outputs": [],
   "source": [
    "import numpy as np\n",
    "\n",
    "# Training Inputs (x)\n",
    "x = np.array([[0.49671415, -0.1382643,  0.64768854],\n",
    "              [1.52302986, -0.23415337, -0.23413696],\n",
    "              [1.57921282,  0.76743473, -0.46947439],\n",
    "              [0.54256004, -0.46341769, -0.46572975],\n",
    "              [0.24196227, -1.91328024, -1.72491783]])\n",
    "\n",
    "# Training Responses (y)\n",
    "y = np.array([[-0.56228753],\n",
    "              [-1.01283112],\n",
    "              [0.31424733],\n",
    "              [-0.90802408],\n",
    "              [-1.4123037]])\n",
    "\n",
    "# Test Inputs (xt)\n",
    "xt = np.array([[1.46564877, -0.2257763,  0.0675282],\n",
    "               [-1.42474819, -0.54438272,  0.11092259],\n",
    "               [-1.15099358,  0.37569802, -0.60063869]])\n"
   ]
  },
  {
   "cell_type": "code",
   "execution_count": 32,
   "id": "ae2cc139-9f23-4c4f-a100-c5b692cc99aa",
   "metadata": {},
   "outputs": [
    {
     "data": {
      "text/plain": [
       "(array([-1.60051223, -1.43325631, -4.6219148 , -1.22132937, -0.24714975]),\n",
       " 37.15202378490393)"
      ]
     },
     "execution_count": 32,
     "metadata": {},
     "output_type": "execute_result"
    }
   ],
   "source": [
    "d = x.shape[1]  # Number of input dimensions\n",
    "logtheta0 = -np.ones(d + 2)\n",
    "logtheta0[-1] = -1.15  # Set last element\n",
    "nIter=100\n",
    "res = minimize(loglikelihood, logtheta0, args=(covSum, [covSEard, covNoise], x, y), options={'maxiter': nIter})\n",
    "logtheta = res.x\n",
    "logtheta, loglikelihood(logtheta, covSum, [covSEard, covNoise], x, y)"
   ]
  },
  {
   "cell_type": "code",
   "execution_count": 33,
   "id": "ace461d8-4c76-4c0a-8065-60023345c6d0",
   "metadata": {},
   "outputs": [
    {
     "data": {
      "text/plain": [
       "4.715489363713786"
      ]
     },
     "execution_count": 33,
     "metadata": {},
     "output_type": "execute_result"
    }
   ],
   "source": [
    "logtheta = np.array([9.4020, -0.6285, 0.4536, -0.1519, -9.9082])\n",
    "loglikelihood(logtheta, covSum, [covSEard, covNoise], x, y)"
   ]
  },
  {
   "cell_type": "code",
   "execution_count": 23,
   "id": "137a0fad-33ab-4ab1-81cb-f34ec6cb646a",
   "metadata": {},
   "outputs": [
    {
     "data": {
      "text/plain": [
       "array([-1.  , -1.  , -1.  , -1.  , -1.15])"
      ]
     },
     "execution_count": 23,
     "metadata": {},
     "output_type": "execute_result"
    }
   ],
   "source": [
    "logtheta0"
   ]
  },
  {
   "cell_type": "code",
   "execution_count": 3,
   "id": "0d7734b4-87f2-48f8-9b82-49a5394be1fa",
   "metadata": {},
   "outputs": [
    {
     "data": {
      "text/plain": [
       "(array([[-0.75596461],\n",
       "        [-1.0314143 ],\n",
       "        [-0.14834665]]),\n",
       " array([[0.05024828],\n",
       "        [0.05439736],\n",
       "        [0.05608639]]),\n",
       " {'covfunc': [<function cov.covSum.covSum(covfunc, logtheta=None, x=None, z=None)>,\n",
       "   [<function cov.covSEard.covSEard(loghyper=None, x=None, z=None)>,\n",
       "    <function cov.covNoise.covNoise(logtheta=None, x=None, z=None)>]],\n",
       "  'logtheta': array([ 7.7467721 ,  0.52669   , 12.23026649,  0.08505115, -1.63115764]),\n",
       "  'x': array([[ 0.49671415, -0.1382643 ,  0.64768854],\n",
       "         [ 1.52302986, -0.23415337, -0.23413696],\n",
       "         [ 1.57921282,  0.76743473, -0.46947439],\n",
       "         [ 0.54256004, -0.46341769, -0.46572975],\n",
       "         [ 0.24196227, -1.91328024, -1.72491783]]),\n",
       "  'y': array([[-0.56228753],\n",
       "         [-1.01283112],\n",
       "         [ 0.31424733],\n",
       "         [-0.90802408],\n",
       "         [-1.4123037 ]]),\n",
       "  'xt': array([[ 1.46564877, -0.2257763 ,  0.0675282 ],\n",
       "         [-1.42474819, -0.54438272,  0.11092259],\n",
       "         [-1.15099358,  0.37569802, -0.60063869]]),\n",
       "  'L': array([[ 1.10622138,  0.        ,  0.        ,  0.        ,  0.        ],\n",
       "         [ 1.06988247,  0.28120676,  0.        ,  0.        ,  0.        ],\n",
       "         [ 0.92877488,  0.00533848,  0.60089473,  0.        ,  0.        ],\n",
       "         [ 1.05202423,  0.17449124, -0.1128583 ,  0.27163686,  0.        ],\n",
       "         [ 0.61862327,  0.22463393, -0.39472838,  0.32058746,  0.72937218]]),\n",
       "  'nll': 0.7597568362737491})"
      ]
     },
     "execution_count": 3,
     "metadata": {},
     "output_type": "execute_result"
    }
   ],
   "source": [
    "from LocalGP import LocalGP\n",
    "LocalGP(x,y,xt)"
   ]
  },
  {
   "cell_type": "code",
   "execution_count": 5,
   "id": "0c898af0-5a45-4041-9627-b5108dbe0f51",
   "metadata": {},
   "outputs": [],
   "source": [
    "logtheta = loghyper\n",
    "K = covSum([covSEard, covNoise], logtheta, x)"
   ]
  },
  {
   "cell_type": "code",
   "execution_count": 5,
   "id": "d6d53521-b630-418c-837b-9f89baefda35",
   "metadata": {},
   "outputs": [
    {
     "name": "stdout",
     "output_type": "stream",
     "text": [
      "(1,)\n",
      "1\n"
     ]
    }
   ],
   "source": [
    "s2=np.array([1])\n",
    "print(s2.shape)\n",
    "s2=s2.item()\n",
    "print(s2)"
   ]
  },
  {
   "cell_type": "code",
   "execution_count": 18,
   "id": "6e66c878-ac85-4138-b511-6a6660985f8b",
   "metadata": {},
   "outputs": [],
   "source": [
    "d = x.shape[1]  # Number of input dimensions\n",
    "logtheta0 = -np.ones(d + 2)\n",
    "logtheta0[-1] = -1.15  # Set last element\n",
    "\n",
    "# Optimize log likelihood\n",
    "nIter = 100\n",
    "res = minimize(lambda logtheta: loglikelihood(logtheta, covSum, [covSEard, covNoise], x, y), logtheta0,\n",
    "               options={'maxiter': 1000})"
   ]
  },
  {
   "cell_type": "code",
   "execution_count": 49,
   "id": "87e419e1-4faa-4d9f-ae54-78d5cd2fbf9e",
   "metadata": {},
   "outputs": [
    {
     "data": {
      "text/plain": [
       "array([ -0.36628323,   1.46074468,  -2.93212683, -69.75707752,\n",
       "       -52.45786309])"
      ]
     },
     "execution_count": 49,
     "metadata": {},
     "output_type": "execute_result"
    }
   ],
   "source": [
    "res = minimize(lambda logtheta: -loglikelihood(logtheta, covSum, [covSEard, covNoise], x, y), logtheta0, \n",
    "               options={'maxiter': 100})\n",
    "res.x"
   ]
  },
  {
   "cell_type": "code",
   "execution_count": 51,
   "id": "0e13c9f1-5ee8-4267-98b1-759d0f9d62f9",
   "metadata": {},
   "outputs": [
    {
     "data": {
      "text/plain": [
       "315934199.62900555"
      ]
     },
     "execution_count": 51,
     "metadata": {},
     "output_type": "execute_result"
    }
   ],
   "source": [
    "loglikelihood(res.x, covSum, [covSEard, covNoise], x, y)"
   ]
  },
  {
   "cell_type": "code",
   "execution_count": 7,
   "id": "62b5aad5-53f9-443d-8ec4-1c818acdd871",
   "metadata": {},
   "outputs": [
    {
     "data": {
      "text/plain": [
       "(array([-1.59228040e+00,  4.87919213e+02, -2.71275971e-01,  8.51975138e-02,\n",
       "        -8.72695391e+00]),\n",
       " 14.396296772672539)"
      ]
     },
     "execution_count": 7,
     "metadata": {},
     "output_type": "execute_result"
    }
   ],
   "source": [
    "res = minimize(loglikelihood, logtheta0, args=(covSum, [covSEard, covNoise], x, y), options={'maxiter': 100})\n",
    "res.x, loglikelihood(res.x, covSum, [covSEard, covNoise], x, y)"
   ]
  },
  {
   "cell_type": "code",
   "execution_count": 59,
   "id": "6210bb89-dfb1-4fc3-8655-82a632c7e75a",
   "metadata": {},
   "outputs": [
    {
     "data": {
      "text/plain": [
       "10.535499848415125"
      ]
     },
     "execution_count": 59,
     "metadata": {},
     "output_type": "execute_result"
    }
   ],
   "source": [
    "logtheta = np.array([-0.0046, -1.1644, 3.5451, -0.1352, -2.3868])\n",
    "loglikelihood(logtheta, covSum, [covSEard, covNoise], x, y)"
   ]
  },
  {
   "cell_type": "code",
   "execution_count": 7,
   "id": "c825d1a3-31b1-4576-93e4-35228a244ba4",
   "metadata": {},
   "outputs": [],
   "source": [
    "logtheta = np.array([3.6143, -0.6257, 0.4568, -0.1513, -4.2753])\n",
    "\n",
    "K = covSum([covSEard, covNoise], logtheta, x)  # K = feval(cv{:}, logtheta, x)\n",
    "Ktt, Kt = covSum([covSEard, covNoise], logtheta, x, xt)  # Ktt, Kt = feval(cv{:}, logtheta, x, xt)\n",
    "\n",
    "# Cholesky decomposition\n",
    "L = np.linalg.cholesky(K)  # Lower triangular matrix\n",
    "# model['L'] = L\n",
    "\n",
    "# Compute mean and variance\n",
    "Ly = np.linalg.solve(L, y)  # L \\ y\n",
    "LK = np.linalg.solve(L, Kt)  # L \\ Kt\n",
    "mu_t = LK.T @ Ly\n",
    "sig2_t = Ktt - np.sum(LK.T**2, axis=1)\n",
    "\n",
    "# Compute negative log likelihood\n",
    "nll = loglikelihood(logtheta, covSum, [covSEard, covNoise], x, y) / x.shape[0]"
   ]
  },
  {
   "cell_type": "code",
   "execution_count": 8,
   "id": "fd7f7149-345f-4455-9510-d23f15761707",
   "metadata": {},
   "outputs": [
    {
     "data": {
      "text/plain": [
       "array([[0.00348775, 0.05982177, 0.14444216],\n",
       "       [0.00348775, 0.05982177, 0.14444216],\n",
       "       [0.00348775, 0.05982177, 0.14444216]])"
      ]
     },
     "execution_count": 8,
     "metadata": {},
     "output_type": "execute_result"
    }
   ],
   "source": [
    "sig2_t"
   ]
  },
  {
   "cell_type": "code",
   "execution_count": 28,
   "id": "e6bca154-7b80-4f62-8404-d4b20d737417",
   "metadata": {},
   "outputs": [
    {
     "data": {
      "text/plain": [
       "array([[ 1.49014245, -0.4147929 ,  1.94306562],\n",
       "       [ 4.56908958, -0.70246011, -0.70241088],\n",
       "       [ 4.73763846,  2.30230419, -1.40842317],\n",
       "       [ 1.62768012, -1.39025307, -1.39718925],\n",
       "       [ 0.72588681, -5.73984072, -5.17475349]])"
      ]
     },
     "execution_count": 28,
     "metadata": {},
     "output_type": "execute_result"
    }
   ],
   "source": []
  },
  {
   "cell_type": "code",
   "execution_count": 9,
   "id": "051db1b6-a949-4bfd-89e6-0ab7708d7323",
   "metadata": {},
   "outputs": [
    {
     "data": {
      "text/plain": [
       "(array([[0.73908802],\n",
       "        [0.73908802],\n",
       "        [0.73908802]]),\n",
       " array([[6.81251986e-01, 5.22068584e-01, 3.40365792e-01],\n",
       "        [7.25442659e-01, 6.07851816e-01, 3.74522917e-01],\n",
       "        [1.24381431e-01, 3.40188948e-02, 5.61614685e-01],\n",
       "        [6.32149697e-01, 6.82396093e-01, 2.14850336e-01],\n",
       "        [2.67426374e-03, 1.42028856e-02, 6.04747405e-05]]))"
      ]
     },
     "execution_count": 9,
     "metadata": {},
     "output_type": "execute_result"
    }
   ],
   "source": [
    "covSum([covSEard, covNoise], logtheta, x, xt)"
   ]
  },
  {
   "cell_type": "code",
   "execution_count": 11,
   "id": "dd990e82-a1ea-4187-b7b8-cbfda5449fff",
   "metadata": {},
   "outputs": [
    {
     "data": {
      "text/plain": [
       "(3,)"
      ]
     },
     "execution_count": 11,
     "metadata": {},
     "output_type": "execute_result"
    }
   ],
   "source": [
    "t1 = np.sum(LK.T**2, axis=1)\n",
    "t1.shape"
   ]
  },
  {
   "cell_type": "code",
   "execution_count": 12,
   "id": "f7ae5ba1-c14a-4669-94d6-d71fafcaab33",
   "metadata": {},
   "outputs": [
    {
     "data": {
      "text/plain": [
       "array([[0.00348775, 0.05982177, 0.14444216],\n",
       "       [0.00348775, 0.05982177, 0.14444216],\n",
       "       [0.00348775, 0.05982177, 0.14444216]])"
      ]
     },
     "execution_count": 12,
     "metadata": {},
     "output_type": "execute_result"
    }
   ],
   "source": [
    "Ktt-t1"
   ]
  },
  {
   "cell_type": "code",
   "execution_count": 14,
   "id": "5767f3d4-7e37-4562-b8a6-caa7106517df",
   "metadata": {},
   "outputs": [
    {
     "data": {
      "text/plain": [
       "array([[0.7391, 0.6219, 0.1371, 0.479 , 0.001 ],\n",
       "       [0.6219, 0.7391, 0.1266, 0.6666, 0.0034],\n",
       "       [0.1371, 0.1266, 0.7391, 0.0523, 0.    ],\n",
       "       [0.479 , 0.6666, 0.0523, 0.7391, 0.0136],\n",
       "       [0.001 , 0.0034, 0.    , 0.0136, 0.7391]])"
      ]
     },
     "execution_count": 14,
     "metadata": {},
     "output_type": "execute_result"
    }
   ],
   "source": [
    "K=covSum([covSEard, covNoise], logtheta, x)\n",
    "np.round(K,4)"
   ]
  },
  {
   "cell_type": "code",
   "execution_count": 15,
   "id": "6dadfd03-95bf-4c9e-88ec-0e01fcfd552f",
   "metadata": {},
   "outputs": [
    {
     "data": {
      "text/plain": [
       "(5, 5)"
      ]
     },
     "execution_count": 15,
     "metadata": {},
     "output_type": "execute_result"
    }
   ],
   "source": [
    "K.shape"
   ]
  },
  {
   "cell_type": "code",
   "execution_count": 25,
   "id": "707cf709-8f43-40b1-8f8c-3896f52e1275",
   "metadata": {
    "scrolled": true
   },
   "outputs": [
    {
     "data": {
      "text/plain": [
       "(array([[-0.06649729],\n",
       "        [ 0.50689288],\n",
       "        [ 0.36064212]]),\n",
       " array([[0.40648072, 0.63842371, 0.5519463 ],\n",
       "        [0.40648072, 0.63842371, 0.5519463 ],\n",
       "        [0.40648072, 0.63842371, 0.5519463 ]]),\n",
       " {'covfunc': [<function cov.covSum.covSum(covfunc, logtheta=None, x=None, z=None)>,\n",
       "   [<function cov.covSEard.covSEard(loghyper=None, x=None, z=None)>,\n",
       "    <function cov.covNoise.covNoise(logtheta=None, x=None, z=None)>]],\n",
       "  'logtheta': array([-0.01150872, -1.15354942,  7.76158873, -0.13830129, -2.23669287]),\n",
       "  'x': array([[-2.12669895,  1.48969866,  0.41095277],\n",
       "         [-0.18461334,  0.10210906, -0.93122435],\n",
       "         [-1.13158492, -0.09928533, -0.37575387],\n",
       "         [ 0.70348769, -0.42226623,  1.14396595],\n",
       "         [ 0.32459073,  0.04039531, -0.66992482],\n",
       "         [ 2.04876894,  0.96906625,  1.09443431],\n",
       "         [ 2.09355374,  0.84007415,  0.40670904],\n",
       "         [-0.14026322, -1.00342109,  1.08257036],\n",
       "         [-1.08374291,  1.84459499,  1.13538058],\n",
       "         [ 0.65890607, -0.66903572, -0.83832655]]),\n",
       "  'y': array([[-1.26816435],\n",
       "         [ 0.11157421],\n",
       "         [ 1.34473128],\n",
       "         [ 0.58881663],\n",
       "         [-0.3418867 ],\n",
       "         [ 0.29582319],\n",
       "         [ 0.82042071],\n",
       "         [-0.30922376],\n",
       "         [-0.76491422],\n",
       "         [ 0.99236468]]),\n",
       "  'xt': array([[ 1.46564877, -0.2257763 ,  0.0675282 ],\n",
       "         [-1.42474819, -0.54438272,  0.11092259],\n",
       "         [-1.15099358,  0.37569802, -0.60063869]]),\n",
       "  'L': array([[ 8.77362212e-01,  0.00000000e+00,  0.00000000e+00,\n",
       "           0.00000000e+00,  0.00000000e+00,  0.00000000e+00,\n",
       "           0.00000000e+00,  0.00000000e+00,  0.00000000e+00,\n",
       "           0.00000000e+00],\n",
       "         [ 7.92012881e-06,  8.77362212e-01,  0.00000000e+00,\n",
       "           0.00000000e+00,  0.00000000e+00,  0.00000000e+00,\n",
       "           0.00000000e+00,  0.00000000e+00,  0.00000000e+00,\n",
       "           0.00000000e+00],\n",
       "         [ 1.61870450e-06,  4.45614532e-01,  7.55772545e-01,\n",
       "           0.00000000e+00,  0.00000000e+00,  0.00000000e+00,\n",
       "           0.00000000e+00,  0.00000000e+00,  0.00000000e+00,\n",
       "           0.00000000e+00],\n",
       "         [ 1.52365851e-10,  1.45093232e-01,  2.05394104e-02,\n",
       "           8.65037882e-01,  0.00000000e+00,  0.00000000e+00,\n",
       "           0.00000000e+00,  0.00000000e+00,  0.00000000e+00,\n",
       "           0.00000000e+00],\n",
       "         [ 1.04651289e-06,  7.42628480e-01, -1.30430010e-01,\n",
       "           1.56518807e-01,  4.20425104e-01,  0.00000000e+00,\n",
       "           0.00000000e+00,  0.00000000e+00,  0.00000000e+00,\n",
       "           0.00000000e+00],\n",
       "         [ 2.96090261e-05,  1.54472038e-03, -8.92411890e-04,\n",
       "          -2.17104039e-04,  2.25631835e-03,  8.77357470e-01,\n",
       "           0.00000000e+00,  0.00000000e+00,  0.00000000e+00,\n",
       "           0.00000000e+00],\n",
       "         [ 1.14445941e-05,  3.94031547e-03, -2.26499535e-03,\n",
       "          -4.98093715e-04,  7.17647195e-03,  7.94220425e-01,\n",
       "           3.72700901e-01,  0.00000000e+00,  0.00000000e+00,\n",
       "           0.00000000e+00],\n",
       "         [ 3.17491158e-15,  1.86330356e-03,  8.90120657e-03,\n",
       "           1.11145680e-01, -3.51232185e-02,  1.23603907e-04,\n",
       "           5.95851733e-04,  8.69536874e-01,  0.00000000e+00,\n",
       "           0.00000000e+00],\n",
       "         [ 2.63180326e-01, -2.23961288e-06,  7.62567559e-07,\n",
       "           3.57499717e-07,  3.45626146e-06,  1.12515330e-04,\n",
       "          -1.74730419e-04,  1.94645998e-07,  8.36959093e-01,\n",
       "           0.00000000e+00],\n",
       "         [ 1.11520237e-12,  3.03006567e-02,  2.02449892e-02,\n",
       "           6.39445853e-01, -1.49305038e-01,  5.09897669e-04,\n",
       "           2.45324528e-03,  2.70693185e-01,  7.86722727e-07,\n",
       "           5.13782434e-01]]),\n",
       "  'nll': 1.0534679133773248})"
      ]
     },
     "execution_count": 25,
     "metadata": {},
     "output_type": "execute_result"
    }
   ],
   "source": [
    "LocalGP(x,y,xt)"
   ]
  },
  {
   "cell_type": "code",
   "execution_count": 23,
   "id": "04bf3467-577c-45ed-a449-968061309da5",
   "metadata": {},
   "outputs": [
    {
     "data": {
      "text/plain": [
       "(50, 3)"
      ]
     },
     "execution_count": 23,
     "metadata": {},
     "output_type": "execute_result"
    }
   ],
   "source": [
    "x.shape"
   ]
  },
  {
   "cell_type": "code",
   "execution_count": 30,
   "id": "f1474e66-49cd-4f92-ad09-b9bef580a7e2",
   "metadata": {},
   "outputs": [
    {
     "name": "stdout",
     "output_type": "stream",
     "text": [
      "Python Optimize Result:\n",
      "Optimal x: [2.99999998]\n",
      "Objective Function Value: 2.5388963550532293e-16\n"
     ]
    }
   ],
   "source": [
    "import numpy as np\n",
    "from scipy.optimize import minimize\n",
    "\n",
    "# 定义目标函数\n",
    "def objective_function(x):\n",
    "    return (x - 3)**2\n",
    "\n",
    "# 初始猜测\n",
    "x0 = np.array([0])\n",
    "\n",
    "# 使用 scipy 的 minimize 函数进行优化\n",
    "result = minimize(objective_function, x0)\n",
    "\n",
    "# 打印结果\n",
    "print(\"Python Optimize Result:\")\n",
    "print(\"Optimal x:\", result.x)\n",
    "print(\"Objective Function Value:\", result.fun)\n"
   ]
  },
  {
   "cell_type": "markdown",
   "id": "b50391a4-f8e2-47b0-b2ee-485767d0c0cc",
   "metadata": {},
   "source": [
    "## local_linearfit, calculate_gx"
   ]
  },
  {
   "cell_type": "code",
   "execution_count": 5,
   "id": "3a412287-2791-40f4-b4d7-22d51e627735",
   "metadata": {},
   "outputs": [],
   "source": [
    "beta, xres = local_linearfit(x,y,x0)"
   ]
  },
  {
   "cell_type": "code",
   "execution_count": 6,
   "id": "80ccf969-7af3-4035-a388-15a20a72ff71",
   "metadata": {},
   "outputs": [
    {
     "data": {
      "text/plain": [
       "(array([[-0.13749049],\n",
       "        [-0.0543963 ],\n",
       "        [ 0.43472364],\n",
       "        [ 0.15136665]]),\n",
       " array([[ 1.        , -0.85294928,  0.32438774,  1.60301934],\n",
       "        [ 1.        , -1.53598657, -1.88764391,  0.09387935],\n",
       "        [ 1.        ,  1.2291152 , -0.28873589,  1.19747174],\n",
       "        [ 1.        , -0.26969994, -1.19331168,  2.74976996],\n",
       "        [ 1.        ,  0.09617802, -0.52097128,  0.35129774],\n",
       "        [ 1.        ,  0.01524129, -0.69841156, -0.3893607 ],\n",
       "        [ 1.        ,  0.3009691 , -3.25744475,  0.68978594],\n",
       "        [ 1.        , -0.57956827, -0.19745812, -0.02536188],\n",
       "        [ 1.        ,  0.23067498,  0.26256724,  1.53872054],\n",
       "        [ 1.        ,  1.64740512,  0.76496877, -0.5482036 ]]))"
      ]
     },
     "execution_count": 6,
     "metadata": {},
     "output_type": "execute_result"
    }
   ],
   "source": [
    "beta, xres"
   ]
  },
  {
   "cell_type": "code",
   "execution_count": 8,
   "id": "5979c27c-42a9-4585-95d8-eac59cb7d611",
   "metadata": {},
   "outputs": [
    {
     "data": {
      "text/plain": [
       "(4, 1)"
      ]
     },
     "execution_count": 8,
     "metadata": {},
     "output_type": "execute_result"
    }
   ],
   "source": [
    "beta.shape"
   ]
  },
  {
   "cell_type": "code",
   "execution_count": 10,
   "id": "57b4fa76-c5c9-4a38-8bff-46f152a6db0a",
   "metadata": {},
   "outputs": [
    {
     "data": {
      "text/plain": [
       "array([[-0.28437302],\n",
       "       [-0.11250844],\n",
       "       [ 0.89914347],\n",
       "       [ 0.31307323]])"
      ]
     },
     "execution_count": 10,
     "metadata": {},
     "output_type": "execute_result"
    }
   ],
   "source": [
    "beta/np.linalg.norm(beta)"
   ]
  },
  {
   "cell_type": "code",
   "execution_count": 12,
   "id": "0bb7461b-f97f-46cc-aa7e-2e07f4f2bc16",
   "metadata": {},
   "outputs": [
    {
     "name": "stdout",
     "output_type": "stream",
     "text": [
      "MATLAB 赋值语句：\n",
      "px = [0.93412755665614 0.8538739730577558\n",
      "0.7484278489057881 0.8929410898187504\n",
      "0.507488513519155 0.007553180178850427\n",
      "0.6075953140707727 0.5624990547222884\n",
      "0.06949993746049798 0.8714151522789947\n",
      "0.16932828802955624 0.7062028867981519\n",
      "0.7345594799813715 0.8214554359676086\n",
      "0.41972141208210245 0.5404564265001816\n",
      "0.2308844493697053 0.640996696757386\n",
      "0.8269677041540844 0.9878537687807731];\n",
      "w = [0.9554045011677034\n",
      "0.23863874833201115\n",
      "0.3379357266886174];\n"
     ]
    }
   ],
   "source": [
    "px = np.random.rand(10, 2)  # 100个样本，2维特征\n",
    "w = np.random.rand(3)        # 包含偏差项的权重向量\n",
    "gx, phi_x = calculate_gx(px, w)\n",
    "\n",
    "px_matlab = '\\n'.join([' '.join(map(str, row)) for row in px])\n",
    "w_matlab = '\\n'.join(map(str, w.flatten()))\n",
    "print(\"MATLAB 赋值语句：\")\n",
    "print(f\"px = [{px_matlab}];\")\n",
    "print(f\"w = [{w_matlab}];\")"
   ]
  },
  {
   "cell_type": "code",
   "execution_count": 14,
   "id": "0db2f4b8-34f0-4245-a687-a21c1f682b46",
   "metadata": {},
   "outputs": [
    {
     "data": {
      "text/plain": [
       "(array([1.46687805, 1.43576508, 1.07906341, 1.29048881, 1.26647219,\n",
       "        1.23446398, 1.408298  , 1.23820583, 1.22711816, 1.48658212]),\n",
       " (10,))"
      ]
     },
     "execution_count": 14,
     "metadata": {},
     "output_type": "execute_result"
    }
   ],
   "source": [
    "gx, gx.shape"
   ]
  },
  {
   "cell_type": "code",
   "execution_count": 15,
   "id": "e4808c65-d578-48b0-b0cd-b9886cf7f543",
   "metadata": {},
   "outputs": [
    {
     "data": {
      "text/plain": [
       "(array([[1.        , 0.93412756, 0.85387397],\n",
       "        [1.        , 0.74842785, 0.89294109],\n",
       "        [1.        , 0.50748851, 0.00755318],\n",
       "        [1.        , 0.60759531, 0.56249905],\n",
       "        [1.        , 0.06949994, 0.87141515],\n",
       "        [1.        , 0.16932829, 0.70620289],\n",
       "        [1.        , 0.73455948, 0.82145544],\n",
       "        [1.        , 0.41972141, 0.54045643],\n",
       "        [1.        , 0.23088445, 0.6409967 ],\n",
       "        [1.        , 0.8269677 , 0.98785377]]),\n",
       " (10, 3))"
      ]
     },
     "execution_count": 15,
     "metadata": {},
     "output_type": "execute_result"
    }
   ],
   "source": [
    "phi_x, phi_x.shape"
   ]
  },
  {
   "cell_type": "markdown",
   "id": "b1d1b491-fca4-41c9-b7da-2f1f1d1920f0",
   "metadata": {},
   "source": [
    "## JumpGP_LD, maximize_PD"
   ]
  },
  {
   "cell_type": "code",
   "execution_count": 4,
   "id": "f2b5a5d8-e9bc-418d-8621-b01394511a8b",
   "metadata": {},
   "outputs": [],
   "source": [
    "x, y, xt, mode, bVerbose = x, y, x0, 'CEM', True"
   ]
  },
  {
   "cell_type": "code",
   "execution_count": 5,
   "id": "de83424a-8291-4c9b-9215-5d66b202e271",
   "metadata": {},
   "outputs": [
    {
     "name": "stderr",
     "output_type": "stream",
     "text": [
      "C:\\Users\\yxu59\\AppData\\Local\\miniconda3\\envs\\jumpGP\\Lib\\site-packages\\numpy\\_core\\fromnumeric.py:4318: RuntimeWarning: Degrees of freedom <= 0 for slice\n",
      "  return _methods._var(a, axis=axis, dtype=dtype, out=out, ddof=ddof,\n",
      "C:\\Users\\yxu59\\AppData\\Local\\miniconda3\\envs\\jumpGP\\Lib\\site-packages\\numpy\\_core\\_methods.py:184: RuntimeWarning: invalid value encountered in divide\n",
      "  arrmean = um.true_divide(arrmean, div, out=arrmean,\n",
      "C:\\Users\\yxu59\\AppData\\Local\\miniconda3\\envs\\jumpGP\\Lib\\site-packages\\numpy\\_core\\_methods.py:219: RuntimeWarning: invalid value encountered in scalar divide\n",
      "  ret = ret.dtype.type(ret / rcount)\n"
     ]
    }
   ],
   "source": [
    "d = x.shape[1]  # Get the number of features (columns)\n",
    "px = x\n",
    "pxt = xt\n",
    "\n",
    "# Initial estimation of the boundary B(x)\n",
    "logtheta = np.zeros(d + 2)\n",
    "logtheta[d + 2 - 1] = -1.15\n",
    "w, _ = local_linearfit(x, y, xt)\n",
    "nw = np.linalg.norm(w)\n",
    "w = w / nw\n",
    "\n",
    "# Fine-tune the intercept term\n",
    "b = np.arange(-1 + w[0].item(), 1 + w[0].item() , 0.01)\n",
    "fd = []\n",
    "for bi in b:\n",
    "    w_d = w.copy()\n",
    "    w_d[0] = bi\n",
    "    gx, _ = calculate_gx(px, w_d)\n",
    "    r = gx >= 0\n",
    "    fd.append(np.mean(r) * np.var(y[r], ddof=1) + np.mean(~r) * np.var(y[~r], ddof=1))\n",
    "\n",
    "k = np.nanargmin(fd)\n",
    "w[0] = b[k]\n",
    "w = nw * w"
   ]
  },
  {
   "cell_type": "code",
   "execution_count": 5,
   "id": "d964c11c-c561-4723-af70-4a06a01844ec",
   "metadata": {},
   "outputs": [
    {
     "data": {
      "text/plain": [
       "array([[-0.05608472],\n",
       "       [-0.58767005],\n",
       "       [-0.08317208],\n",
       "       [-0.46698056]])"
      ]
     },
     "execution_count": 5,
     "metadata": {},
     "output_type": "execute_result"
    }
   ],
   "source": [
    "w"
   ]
  },
  {
   "cell_type": "code",
   "execution_count": 6,
   "id": "d6895f9d-0803-43d6-98c1-9f1e5815e637",
   "metadata": {},
   "outputs": [
    {
     "name": "stdout",
     "output_type": "stream",
     "text": [
      "Initial boundary visualization\n"
     ]
    },
    {
     "name": "stderr",
     "output_type": "stream",
     "text": [
      "C:\\Users\\yxu59\\autumn2024\\codeBase\\JumpGP_code_py\\maximize_PD.py:80: RuntimeWarning: divide by zero encountered in log\n",
      "  return -np.sum(r * np.log(1 / (1 + np.exp(-phi_w))) + (1 - r) * np.log(1 - 1 / (1 + np.exp(-phi_w))))\n",
      "C:\\Users\\yxu59\\autumn2024\\codeBase\\JumpGP_code_py\\maximize_PD.py:80: RuntimeWarning: invalid value encountered in multiply\n",
      "  return -np.sum(r * np.log(1 / (1 + np.exp(-phi_w))) + (1 - r) * np.log(1 - 1 / (1 + np.exp(-phi_w))))\n"
     ]
    }
   ],
   "source": [
    "model = maximize_PD(x, y, xt, px, pxt, w, logtheta, bVerbose)"
   ]
  },
  {
   "cell_type": "code",
   "execution_count": 7,
   "id": "728e0f75-5d53-450e-956f-18a706c5bb17",
   "metadata": {},
   "outputs": [
    {
     "data": {
      "text/plain": [
       "{'x': array([[ 0.72455236,  0.67461012, -0.18391898],\n",
       "        [-0.59805248,  1.0136701 , -2.26630132],\n",
       "        [-0.22401374,  1.3304645 ,  0.11651335],\n",
       "        [ 0.9153449 ,  0.08479118, -0.32698971],\n",
       "        [-0.39812446,  1.1984447 , -1.21771673],\n",
       "        [ 0.61722467,  0.15402828, -1.24865376],\n",
       "        [-0.23068582,  0.87489988, -0.40777458],\n",
       "        [ 2.29940337, -1.04304476,  1.25578485],\n",
       "        [-1.60660428,  0.92918058,  0.95929227],\n",
       "        [ 0.45952823,  3.22715979,  0.26772478]]),\n",
       " 'y': array([[ 0.13132505],\n",
       "        [-1.06218893],\n",
       "        [ 0.0233761 ],\n",
       "        [ 0.09244945],\n",
       "        [-0.51414862],\n",
       "        [-0.62847518],\n",
       "        [ 0.71596307],\n",
       "        [-0.2866855 ],\n",
       "        [-1.04251878],\n",
       "        [-0.40359891]]),\n",
       " 'RR': np.float64(101889.09983234115),\n",
       " 'fs': array([[-0.45273361]]),\n",
       " 'sigma': np.float64(1.7203312741413376e-07),\n",
       " 'xt': array([[1.61694692, 1.40294251, 0.61592247]]),\n",
       " 'px': array([[ 0.72455236,  0.67461012, -0.18391898],\n",
       "        [-0.59805248,  1.0136701 , -2.26630132],\n",
       "        [-0.22401374,  1.3304645 ,  0.11651335],\n",
       "        [ 0.9153449 ,  0.08479118, -0.32698971],\n",
       "        [-0.39812446,  1.1984447 , -1.21771673],\n",
       "        [ 0.61722467,  0.15402828, -1.24865376],\n",
       "        [-0.23068582,  0.87489988, -0.40777458],\n",
       "        [ 2.29940337, -1.04304476,  1.25578485],\n",
       "        [-1.60660428,  0.92918058,  0.95929227],\n",
       "        [ 0.45952823,  3.22715979,  0.26772478]]),\n",
       " 'pxt': array([[1.61694692, 1.40294251, 0.61592247]]),\n",
       " 'nll': np.float64(0.32665031044665493),\n",
       " 'r': array([[ True],\n",
       "        [False],\n",
       "        [ True],\n",
       "        [ True],\n",
       "        [False],\n",
       "        [ True],\n",
       "        [ True],\n",
       "        [ True],\n",
       "        [False],\n",
       "        [ True]]),\n",
       " 'gamma': array([[0.89163298],\n",
       "        [0.        ],\n",
       "        [0.95955992],\n",
       "        [0.89378093],\n",
       "        [0.        ],\n",
       "        [0.94960147],\n",
       "        [0.92328699],\n",
       "        [0.95870896],\n",
       "        [0.        ],\n",
       "        [0.93693856]]),\n",
       " 'nw': np.float64(0.8472693516488746),\n",
       " 'w': array([ 1.00000000e+00, -3.51354546e-06, -1.15110908e-05,  1.70939420e-05]),\n",
       " 'ms': -0.05080655898288332,\n",
       " 'logtheta': array([ 0.19215555,  7.86790683, -0.75258235, -0.71137505, -8.48542693]),\n",
       " 'cv': [<function cov.covSum.covSum(covfunc, logtheta=None, x=None, z=None)>,\n",
       "  [<function cov.covSEard.covSEard(loghyper=None, x=None, z=None)>,\n",
       "   <function cov.covNoise.covNoise(logtheta=None, x=None, z=None)>]],\n",
       " 'mu_t': array([[-0.45273361]]),\n",
       " 'sig2_t': array([[0.12375133]])}"
      ]
     },
     "execution_count": 7,
     "metadata": {},
     "output_type": "execute_result"
    }
   ],
   "source": [
    "model"
   ]
  },
  {
   "cell_type": "code",
   "execution_count": 17,
   "id": "90360c0e-9024-4348-9ad0-ddb2c6b0a89b",
   "metadata": {},
   "outputs": [
    {
     "data": {
      "image/png": "[encoded data removed]",
      "text/plain": [
       "<Figure size 640x480 with 1 Axes>"
      ]
     },
     "metadata": {},
     "output_type": "display_data"
    }
   ],
   "source": [
    "mu_t = model['mu_t']\n",
    "sig2_t = model['sig2_t']\n",
    "\n",
    "h = []\n",
    "if bVerbose:\n",
    "    a = np.array([[1, -0.5], [1, 0.5]])\n",
    "    b_plot = -np.dot(a, model['w'][0:2]) / model['w'][2]\n",
    "    h1 = plt.plot(a, b_plot, 'r', linewidth=3)\n",
    "    gx, _ = calculate_gx(px, model['w'])\n",
    "    h2 = plt.scatter(x[gx >= 0, 0], x[gx >= 0, 1], color='g', marker='s')\n",
    "    h = [h2, h1]\n",
    "    plt.show()"
   ]
  },
  {
   "cell_type": "code",
   "execution_count": 20,
   "id": "4dc9971e-7883-4b60-bb7f-db55012bbd00",
   "metadata": {},
   "outputs": [
    {
     "ename": "AttributeError",
     "evalue": "'PathCollection' object has no attribute 'show'",
     "output_type": "error",
     "traceback": [
      "\u001b[1;31m---------------------------------------------------------------------------\u001b[0m",
      "\u001b[1;31mAttributeError\u001b[0m                            Traceback (most recent call last)",
      "Cell \u001b[1;32mIn[20], line 1\u001b[0m\n\u001b[1;32m----> 1\u001b[0m h2\u001b[38;5;241m.\u001b[39mshow()\n",
      "\u001b[1;31mAttributeError\u001b[0m: 'PathCollection' object has no attribute 'show'"
     ]
    }
   ],
   "source": [
    "h2.show()"
   ]
  },
  {
   "cell_type": "code",
   "execution_count": 167,
   "id": "be089340-891f-427a-b8b1-0aa85bc3fd55",
   "metadata": {},
   "outputs": [],
   "source": [
    "nw = np.linalg.norm(w)\n",
    "w = w / nw\n",
    "nIter = 100\n",
    "\n",
    "phi_xt = np.dot(np.hstack(([1], pxt[0])), w)\n",
    "w = w * np.sign(phi_xt)\n",
    "gx, phi_x = calculate_gx(px, w)\n",
    "\n",
    "r = gx >= 0"
   ]
  },
  {
   "cell_type": "code",
   "execution_count": 168,
   "id": "883f1965-b0c7-4577-bbe9-395ef7582b18",
   "metadata": {},
   "outputs": [
    {
     "data": {
      "text/plain": [
       "(10, 1)"
      ]
     },
     "execution_count": 168,
     "metadata": {},
     "output_type": "execute_result"
    }
   ],
   "source": [
    "r.shape"
   ]
  },
  {
   "cell_type": "code",
   "execution_count": 106,
   "id": "bc3c27c0-4be8-4b62-83a8-5fc3195a3d82",
   "metadata": {},
   "outputs": [],
   "source": [
    "k = 1\n",
    "ms = np.mean(y[r])"
   ]
  },
  {
   "cell_type": "code",
   "execution_count": 108,
   "id": "53889592-af77-467a-b0e1-b0e36a9feed7",
   "metadata": {},
   "outputs": [
    {
     "ename": "IndexError",
     "evalue": "too many indices for array: array is 2-dimensional, but 3 were indexed",
     "output_type": "error",
     "traceback": [
      "\u001b[1;31m---------------------------------------------------------------------------\u001b[0m",
      "\u001b[1;31mIndexError\u001b[0m                                Traceback (most recent call last)",
      "Cell \u001b[1;32mIn[108], line 1\u001b[0m\n\u001b[1;32m----> 1\u001b[0m logtheta \u001b[38;5;241m=\u001b[39m minimize(loglikelihood, logtheta, args\u001b[38;5;241m=\u001b[39m(covSum, [covSEard, covNoise], x[r,:], y[r,:] \u001b[38;5;241m-\u001b[39m ms), options\u001b[38;5;241m=\u001b[39m{\u001b[38;5;124m'\u001b[39m\u001b[38;5;124mmaxiter\u001b[39m\u001b[38;5;124m'\u001b[39m: nIter})\u001b[38;5;241m.\u001b[39mx\n",
      "\u001b[1;31mIndexError\u001b[0m: too many indices for array: array is 2-dimensional, but 3 were indexed"
     ]
    }
   ],
   "source": [
    "logtheta = minimize(loglikelihood, logtheta, args=(covSum, [covSEard, covNoise], x[r,:], y[r,:] - ms), options={'maxiter': nIter}).x"
   ]
  },
  {
   "cell_type": "code",
   "execution_count": 177,
   "id": "6874c06b-0a10-40b0-a309-78b13f589407",
   "metadata": {},
   "outputs": [],
   "source": [
    "r1 = r.flatten()\n",
    "ms = np.mean(y[r1]).item()\n",
    "logtheta = minimize(loglikelihood, logtheta, args=(covSum, [covSEard, covNoise], x[r1,:], y[r] - ms), options={'maxiter': nIter}).x"
   ]
  },
  {
   "cell_type": "code",
   "execution_count": 178,
   "id": "28d49da4-68d6-4fa5-88d9-12f2f196c32c",
   "metadata": {},
   "outputs": [
    {
     "data": {
      "text/plain": [
       "((5,), (10, 1))"
      ]
     },
     "execution_count": 178,
     "metadata": {},
     "output_type": "execute_result"
    }
   ],
   "source": [
    "logtheta.shape, r.shape"
   ]
  },
  {
   "cell_type": "code",
   "execution_count": 179,
   "id": "6b1d0057-1f7f-482f-8ec5-aaa26feb15c3",
   "metadata": {},
   "outputs": [
    {
     "data": {
      "text/plain": [
       "array([[ True],\n",
       "       [False],\n",
       "       [False],\n",
       "       [False],\n",
       "       [ True],\n",
       "       [False],\n",
       "       [False],\n",
       "       [False],\n",
       "       [False],\n",
       "       [ True]])"
      ]
     },
     "execution_count": 179,
     "metadata": {},
     "output_type": "execute_result"
    }
   ],
   "source": [
    "r"
   ]
  },
  {
   "cell_type": "code",
   "execution_count": 180,
   "id": "98c538cc-e4d9-4f13-bd19-006b88a4b16b",
   "metadata": {},
   "outputs": [],
   "source": [
    "K = covSum([covSEard, covNoise], logtheta, x[r1,:])\n",
    "_, Kt = covSum([covSEard, covNoise], logtheta, x[r1,:], x)"
   ]
  },
  {
   "cell_type": "code",
   "execution_count": 203,
   "id": "880b168a-8516-4456-bcc1-55b4d9980727",
   "metadata": {},
   "outputs": [],
   "source": [
    "L = cholesky(K, lower=True)\n",
    "Ly = np.linalg.solve(L, y[r1] - ms)\n",
    "LK = np.linalg.solve(L, Kt)\n",
    "fs = np.dot(LK.T, Ly) + ms\n",
    "\n",
    "sigma = np.sqrt(np.mean((y[r1] - fs[r1]) ** 2)).item()\n",
    "\n",
    "like = norm.pdf(y, loc=fs, scale=sigma)\n",
    "RR = norm.pdf(2.5 * sigma, loc=0, scale=sigma)\n",
    "prior_z = 1 / (1 + np.exp(-0.05 * nw * gx))\n",
    "prior_z = prior_z.reshape(-1,1)\n",
    "pos_z = prior_z * like / (prior_z * like + (1 - prior_z) * RR)"
   ]
  },
  {
   "cell_type": "code",
   "execution_count": 204,
   "id": "a314fff3-dbb0-4544-a43b-15a31eb35cdf",
   "metadata": {},
   "outputs": [
    {
     "data": {
      "text/plain": [
       "(10, 1)"
      ]
     },
     "execution_count": 204,
     "metadata": {},
     "output_type": "execute_result"
    }
   ],
   "source": [
    "pos_z.shape"
   ]
  },
  {
   "cell_type": "code",
   "execution_count": 171,
   "id": "a17a838b-3206-4743-8a3d-a0d84c517411",
   "metadata": {},
   "outputs": [],
   "source": [
    "K = covSum([covSEard, covNoise], logtheta, x[r1,:])\n",
    "_, Kt = covSum([covSEard, covNoise], logtheta, x[r1,:], x)\n",
    "L = cholesky(K, lower=True)\n",
    "Ly = np.linalg.solve(L, y[r1] - ms)\n",
    "LK = np.linalg.solve(L, Kt)\n",
    "fs = np.dot(LK.T, Ly) + ms\n",
    "\n",
    "sigma = np.sqrt(np.mean((y[r1] - fs[r1]) ** 2))\n",
    "\n",
    "like = norm.pdf(y, loc=fs, scale=sigma)\n",
    "RR = norm.pdf(2.5 * sigma, loc=0, scale=sigma)\n",
    "prior_z = 1 / (1 + np.exp(-0.05 * nw * gx))\n",
    "pos_z = prior_z * like / (prior_z * like + (1 - prior_z) * RR)\n",
    "\n",
    "r = pos_z >= 0.5"
   ]
  },
  {
   "cell_type": "code",
   "execution_count": 172,
   "id": "1f880c10-3f20-4040-9210-0681412fa39f",
   "metadata": {},
   "outputs": [
    {
     "data": {
      "text/plain": [
       "(10, 1)"
      ]
     },
     "execution_count": 172,
     "metadata": {},
     "output_type": "execute_result"
    }
   ],
   "source": [
    "r.shape"
   ]
  },
  {
   "cell_type": "code",
   "execution_count": 173,
   "id": "5daf3e0b-1c37-4557-b507-6056f5984017",
   "metadata": {},
   "outputs": [],
   "source": [
    "def wfun(wo):\n",
    "    phi_w = np.dot(phi_x, wo)\n",
    "    return -np.sum(r * np.log(1 / (1 + np.exp(-phi_w))) + (1 - r) * np.log(1 - 1 / (1 + np.exp(-phi_w))))\n",
    "\n",
    "w_flattened = w.ravel()\n",
    "w_new = minimize(wfun, w_flattened, bounds=[(-np.inf, np.inf)], method='SLSQP').x\n",
    "# w_new = w_new.reshape(w.shape)\n",
    "conv_crit = np.linalg.norm(w_new / np.linalg.norm(w_new) - w / np.linalg.norm(w))"
   ]
  },
  {
   "cell_type": "code",
   "execution_count": 174,
   "id": "512e16c5-a2aa-4326-9027-5fcf5e4a4f79",
   "metadata": {},
   "outputs": [],
   "source": [
    "w = w_new\n",
    "nw = np.linalg.norm(w)\n",
    "w = w / nw\n",
    "gx, phi_x = calculate_gx(px, w)"
   ]
  },
  {
   "cell_type": "code",
   "execution_count": 175,
   "id": "86384b00-047f-4575-965c-7f7cc1f2b1e3",
   "metadata": {},
   "outputs": [
    {
     "data": {
      "text/plain": [
       "(np.float64(2.0732025991822853), (10, 1))"
      ]
     },
     "execution_count": 175,
     "metadata": {},
     "output_type": "execute_result"
    }
   ],
   "source": [
    "conv_crit, r.shape"
   ]
  },
  {
   "cell_type": "code",
   "execution_count": 176,
   "id": "851761a6-68ba-42f3-b32c-a53bdedaa476",
   "metadata": {},
   "outputs": [
    {
     "data": {
      "text/plain": [
       "array([[ True],\n",
       "       [False],\n",
       "       [False],\n",
       "       [False],\n",
       "       [ True],\n",
       "       [False],\n",
       "       [False],\n",
       "       [False],\n",
       "       [False],\n",
       "       [ True]])"
      ]
     },
     "execution_count": 176,
     "metadata": {},
     "output_type": "execute_result"
    }
   ],
   "source": [
    "r"
   ]
  },
  {
   "cell_type": "code",
   "execution_count": 205,
   "id": "3413432b-003e-4b9b-8424-a6eb41d711a8",
   "metadata": {},
   "outputs": [
    {
     "name": "stdout",
     "output_type": "stream",
     "text": [
      "Initial boundary visualization\n",
      "the 0th r: (10, 1)\n"
     ]
    }
   ],
   "source": [
    "import numpy as np\n",
    "from scipy.optimize import minimize\n",
    "from scipy.linalg import cholesky\n",
    "from scipy.stats import norm\n",
    "\n",
    "if bVerbose:\n",
    "    print(\"Initial boundary visualization\")\n",
    "# r1 = r.flatten()\n",
    "\n",
    "err_flag = False\n",
    "for k in range(10):\n",
    "    r1 = r.flatten()\n",
    "    ms = np.mean(y[r1]).item()\n",
    "    try:\n",
    "        logtheta = minimize(loglikelihood, logtheta, args=(covSum, [covSEard, covNoise], x[r1,:], y[r1] - ms), options={'maxiter': nIter}).x\n",
    "    except:\n",
    "        print(\"we fail!\")\n",
    "        err_flag = True\n",
    "\n",
    "    K = covSum([covSEard, covNoise], logtheta, x[r1,:])\n",
    "    _, Kt = covSum([covSEard, covNoise], logtheta, x[r1,:], x)\n",
    "    L = cholesky(K, lower=True)\n",
    "    Ly = np.linalg.solve(L, y[r1] - ms)\n",
    "    LK = np.linalg.solve(L, Kt)\n",
    "    fs = np.dot(LK.T, Ly) + ms\n",
    "    \n",
    "    sigma = np.sqrt(np.mean((y[r1] - fs[r1]) ** 2))\n",
    "    \n",
    "    like = norm.pdf(y, loc=fs, scale=sigma)\n",
    "    RR = norm.pdf(2.5 * sigma, loc=0, scale=sigma)\n",
    "    prior_z = 1 / (1 + np.exp(-0.05 * nw * gx))\n",
    "    prior_z = prior_z.reshape(-1,1)\n",
    "    pos_z = prior_z * like / (prior_z * like + (1 - prior_z) * RR)\n",
    "    \n",
    "    r = pos_z >= 0.5\n",
    "    print(f\"the {k}th r: {r.shape}\")\n",
    "    # r1 = r.flatten()\n",
    "    \n",
    "    def wfun(wo):\n",
    "        phi_w = np.dot(phi_x, wo)\n",
    "        return -np.sum(r * np.log(1 / (1 + np.exp(-phi_w))) + (1 - r) * np.log(1 - 1 / (1 + np.exp(-phi_w))))\n",
    "\n",
    "    w_flattened = w.ravel()\n",
    "    w_new = minimize(wfun, w_flattened, bounds=[(-np.inf, np.inf)], method='SLSQP').x\n",
    "    # w_new = w_new.reshape(w.shape)\n",
    "    conv_crit = np.linalg.norm(w_new / np.linalg.norm(w_new) - w / np.linalg.norm(w))\n",
    "    if conv_crit < 1e-3:\n",
    "        break\n",
    "    \n",
    "    w = w_new\n",
    "    nw = np.linalg.norm(w)\n",
    "    w = w / nw\n",
    "    gx, phi_x = calculate_gx(px, w)\n",
    "    \n",
    "    if err_flag:\n",
    "        break"
   ]
  },
  {
   "cell_type": "code",
   "execution_count": 208,
   "id": "88a9a7a6-2680-4978-b694-d4f2edf2fd37",
   "metadata": {},
   "outputs": [
    {
     "data": {
      "text/plain": [
       "np.float64(5.898508254695473e-05)"
      ]
     },
     "execution_count": 208,
     "metadata": {},
     "output_type": "execute_result"
    }
   ],
   "source": [
    "conv_crit"
   ]
  },
  {
   "cell_type": "code",
   "execution_count": 121,
   "id": "5d093ce9-67ad-491f-8aa4-c998cd3f776d",
   "metadata": {},
   "outputs": [
    {
     "ename": "IndexError",
     "evalue": "boolean index did not match indexed array along axis 0; size of axis is 10 but size of corresponding boolean axis is 100",
     "output_type": "error",
     "traceback": [
      "\u001b[1;31m---------------------------------------------------------------------------\u001b[0m",
      "\u001b[1;31mIndexError\u001b[0m                                Traceback (most recent call last)",
      "Cell \u001b[1;32mIn[121], line 2\u001b[0m\n\u001b[0;32m      1\u001b[0m r1 \u001b[38;5;241m=\u001b[39m r\u001b[38;5;241m.\u001b[39mflatten()\n\u001b[1;32m----> 2\u001b[0m K \u001b[38;5;241m=\u001b[39m covSum([covSEard, covNoise], logtheta, x[r1,:])\n\u001b[0;32m      3\u001b[0m Ktt, Kt \u001b[38;5;241m=\u001b[39m covSum([covSEard, covNoise], logtheta, x[r1,:], xt)\n\u001b[0;32m      4\u001b[0m L \u001b[38;5;241m=\u001b[39m cholesky(K, lower\u001b[38;5;241m=\u001b[39m\u001b[38;5;28;01mTrue\u001b[39;00m)\n",
      "\u001b[1;31mIndexError\u001b[0m: boolean index did not match indexed array along axis 0; size of axis is 10 but size of corresponding boolean axis is 100"
     ]
    }
   ],
   "source": [
    "r1 = r.flatten()\n",
    "K = covSum([covSEard, covNoise], logtheta, x[r1,:])\n",
    "Ktt, Kt = covSum([covSEard, covNoise], logtheta, x[r1,:], xt)\n",
    "L = cholesky(K, lower=True)\n",
    "Ly = np.linalg.solve(L, y[r1] - ms)\n",
    "LK = np.linalg.solve(L, Kt)\n",
    "fs = np.dot(LK.T, Ly) + ms"
   ]
  },
  {
   "cell_type": "code",
   "execution_count": 101,
   "id": "9e430fbc-695d-41a4-a6db-369351524258",
   "metadata": {},
   "outputs": [
    {
     "data": {
      "text/plain": [
       "((10, 1), (100,))"
      ]
     },
     "execution_count": 101,
     "metadata": {},
     "output_type": "execute_result"
    }
   ],
   "source": [
    "y.shape, r.shape"
   ]
  },
  {
   "cell_type": "code",
   "execution_count": 3,
   "id": "9648b82e-391d-44ef-8655-528e7ceae2b1",
   "metadata": {},
   "outputs": [
    {
     "name": "stderr",
     "output_type": "stream",
     "text": [
      "C:\\Users\\yxu59\\AppData\\Local\\miniconda3\\envs\\jumpGP\\Lib\\site-packages\\numpy\\_core\\fromnumeric.py:4318: RuntimeWarning: Degrees of freedom <= 0 for slice\n",
      "  return _methods._var(a, axis=axis, dtype=dtype, out=out, ddof=ddof,\n",
      "C:\\Users\\yxu59\\AppData\\Local\\miniconda3\\envs\\jumpGP\\Lib\\site-packages\\numpy\\_core\\_methods.py:219: RuntimeWarning: invalid value encountered in scalar divide\n",
      "  ret = ret.dtype.type(ret / rcount)\n",
      "C:\\Users\\yxu59\\AppData\\Local\\miniconda3\\envs\\jumpGP\\Lib\\site-packages\\numpy\\_core\\_methods.py:184: RuntimeWarning: invalid value encountered in divide\n",
      "  arrmean = um.true_divide(arrmean, div, out=arrmean,\n",
      "C:\\Users\\yxu59\\autumn2024\\codeBase\\JumpGP_code_py\\maximize_PD.py:80: RuntimeWarning: divide by zero encountered in log\n",
      "  return -np.sum(r * np.log(1 / (1 + np.exp(-phi_w))) + (1 - r) * np.log(1 - 1 / (1 + np.exp(-phi_w))))\n",
      "C:\\Users\\yxu59\\autumn2024\\codeBase\\JumpGP_code_py\\maximize_PD.py:80: RuntimeWarning: invalid value encountered in multiply\n",
      "  return -np.sum(r * np.log(1 / (1 + np.exp(-phi_w))) + (1 - r) * np.log(1 - 1 / (1 + np.exp(-phi_w))))\n"
     ]
    },
    {
     "name": "stdout",
     "output_type": "stream",
     "text": [
      "Initial boundary visualization\n"
     ]
    },
    {
     "data": {
      "image/png": "[encoded data removed]",
      "text/plain": [
       "<Figure size 640x480 with 1 Axes>"
      ]
     },
     "metadata": {},
     "output_type": "display_data"
    },
    {
     "data": {
      "text/plain": [
       "(array([[-0.07918491]]),\n",
       " array([[0.01090347]]),\n",
       " {'x': array([[-0.36291639,  0.01954458,  1.25323503],\n",
       "         [ 1.07703793,  1.39879884, -2.09945701],\n",
       "         [ 0.34628555, -0.46585332,  1.40354269],\n",
       "         [ 0.40544048, -0.44796889, -0.62560084],\n",
       "         [ 2.22216972,  0.56936236,  1.33270484],\n",
       "         [ 0.49638802,  0.1630981 ,  0.16820127],\n",
       "         [ 0.47805209,  0.80397933,  1.1710775 ],\n",
       "         [ 0.21722653,  0.75197736,  0.54653353],\n",
       "         [-1.66234159,  0.57145527,  0.7067304 ],\n",
       "         [ 1.29467374, -0.35692203, -0.23604718]]),\n",
       "  'y': array([[-0.93814914],\n",
       "         [-0.23498769],\n",
       "         [-0.55987846],\n",
       "         [ 0.21461685],\n",
       "         [-0.39380017],\n",
       "         [-0.44926157],\n",
       "         [-0.2922189 ],\n",
       "         [ 2.65768856],\n",
       "         [-0.20070779],\n",
       "         [-0.02729179]]),\n",
       "  'RR': np.float64(11769499.33555701),\n",
       "  'fs': array([[-0.07918491]]),\n",
       "  'sigma': np.float64(1.4892987368301665e-09),\n",
       "  'xt': array([[-0.45466843,  0.40107485, -0.32893439]]),\n",
       "  'px': array([[-0.36291639,  0.01954458,  1.25323503],\n",
       "         [ 1.07703793,  1.39879884, -2.09945701],\n",
       "         [ 0.34628555, -0.46585332,  1.40354269],\n",
       "         [ 0.40544048, -0.44796889, -0.62560084],\n",
       "         [ 2.22216972,  0.56936236,  1.33270484],\n",
       "         [ 0.49638802,  0.1630981 ,  0.16820127],\n",
       "         [ 0.47805209,  0.80397933,  1.1710775 ],\n",
       "         [ 0.21722653,  0.75197736,  0.54653353],\n",
       "         [-1.66234159,  0.57145527,  0.7067304 ],\n",
       "         [ 1.29467374, -0.35692203, -0.23604718]]),\n",
       "  'pxt': array([[-0.45466843,  0.40107485, -0.32893439]]),\n",
       "  'nll': np.float64(-0.05366940361856598),\n",
       "  'r': array([[ True],\n",
       "         [False],\n",
       "         [ True],\n",
       "         [ True],\n",
       "         [ True],\n",
       "         [ True],\n",
       "         [ True],\n",
       "         [False],\n",
       "         [ True],\n",
       "         [ True]]),\n",
       "  'gamma': array([[0.93364895],\n",
       "         [0.        ],\n",
       "         [0.96061215],\n",
       "         [0.91985392],\n",
       "         [0.95821065],\n",
       "         [0.95854058],\n",
       "         [0.9370767 ],\n",
       "         [0.        ],\n",
       "         [0.76640167],\n",
       "         [0.95745926]]),\n",
       "  'nw': np.float64(1.3863055365610626),\n",
       "  'w': array([ 9.99999999e-01, -4.70748034e-05,  1.73134629e-05,  3.26732973e-06]),\n",
       "  'ms': -0.33083637023514517,\n",
       "  'logtheta': array([ 18.459924  ,  -0.7120661 ,   0.64557605,  -0.73868448,\n",
       "         -11.01171483]),\n",
       "  'cv': [<function cov.covSum.covSum(covfunc, logtheta=None, x=None, z=None)>,\n",
       "   [<function cov.covSEard.covSEard(loghyper=None, x=None, z=None)>,\n",
       "    <function cov.covNoise.covNoise(logtheta=None, x=None, z=None)>]],\n",
       "  'mu_t': array([[-0.07918491]]),\n",
       "  'sig2_t': array([[0.01090347]])},\n",
       " [<matplotlib.collections.PathCollection at 0x1e5ac217bc0>,\n",
       "  [<matplotlib.lines.Line2D at 0x1e5ac25d730>,\n",
       "   <matplotlib.lines.Line2D at 0x1e5ac25d520>]])"
      ]
     },
     "execution_count": 3,
     "metadata": {},
     "output_type": "execute_result"
    }
   ],
   "source": [
    "JumpGP_LD(x, y, x0, 'CEM', bVerbose=True)"
   ]
  },
  {
   "cell_type": "code",
   "execution_count": null,
   "id": "0c8fd346-bd71-449d-a60f-bed6e797f75e",
   "metadata": {},
   "outputs": [],
   "source": []
  }
 ],
 "metadata": {
  "kernelspec": {
   "display_name": "Python 3 (ipykernel)",
   "language": "python",
   "name": "python3"
  },
  "language_info": {
   "codemirror_mode": {
    "name": "ipython",
    "version": 3
   },
   "file_extension": ".py",
   "mimetype": "text/x-python",
   "name": "python",
   "nbconvert_exporter": "python",
   "pygments_lexer": "ipython3",
   "version": "3.12.7"
  }
 },
 "nbformat": 4,
 "nbformat_minor": 5
}
