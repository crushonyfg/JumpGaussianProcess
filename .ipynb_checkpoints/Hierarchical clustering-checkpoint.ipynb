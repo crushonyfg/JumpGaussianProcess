{
 "cells": [
  {
   "cell_type": "code",
   "execution_count": 1,
   "id": "013e59e0-536b-4c19-be70-a99ab39df7d3",
   "metadata": {},
   "outputs": [],
   "source": [
    "from cov.covSum import covSum\n",
    "from cov.covSEard import covSEard\n",
    "from cov.covNoise import covNoise\n",
    "from lik.loglikelihood import loglikelihood\n",
    "import numpy as np\n",
    "from scipy.optimize import minimize\n",
    "from local_linearfit import local_linearfit\n",
    "from calculate_gx import calculate_gx\n",
    "from maximize_PD import maximize_PD\n",
    "from JumpGP_LD import JumpGP_LD\n",
    "from simulate_case import simulate_case\n",
    "\n",
    "import matplotlib.pyplot as plt\n",
    "from sklearn.neighbors import NearestNeighbors\n",
    "from skimage import measure\n",
    "\n",
    "import numpy as np\n",
    "from scipy.optimize import minimize\n",
    "from scipy.linalg import cholesky\n",
    "from scipy.stats import norm\n",
    "\n",
    "from lik.loglikelihood import loglikelihood\n",
    "from calculate_gx import calculate_gx\n",
    "from cov.covSum import covSum\n",
    "from cov.covSEard import covSEard\n",
    "from cov.covNoise import covNoise\n",
    "from lik.loglikelihood import loglikelihood\n",
    "\n",
    "from JumpGP_QD import JumpGP_QD"
   ]
  },
  {
   "cell_type": "code",
   "execution_count": 70,
   "id": "0019c88f-09f9-45ed-9b71-206ac0b5b8a4",
   "metadata": {},
   "outputs": [],
   "source": [
    "from itertools import combinations\n",
    "\n",
    "def compute_distance(set_a, set_b):\n",
    "    \"\"\"计算两个集合之间的距离\"\"\"\n",
    "    intersection_size = len(set_a & set_b)\n",
    "    min_size = min(len(set_a), len(set_b))\n",
    "    # return intersection_size / min_size if min_size > 0 else 0\n",
    "    return intersection_size\n",
    "\n",
    "def merge_groups(groups, tau):\n",
    "    \"\"\"合并组直到组间距离都大于阈值 tau\"\"\"\n",
    "    while True:\n",
    "        # 计算所有组间的距离\n",
    "        distances = []\n",
    "        for (i, group_a), (j, group_b) in combinations(enumerate(groups), 2):\n",
    "            distance = compute_distance(group_a, group_b)\n",
    "            distances.append((distance, i, j))\n",
    "\n",
    "        # 按距离从大到小排序\n",
    "        distances.sort(reverse=True, key=lambda x: x[0])\n",
    "        # print(distances)\n",
    "\n",
    "        # 如果最大距离小于等于 tau，停止合并\n",
    "        if distances[0][0] <= tau:\n",
    "            break\n",
    "\n",
    "        # 否则，合并距离最大的两个组\n",
    "        _, i, j = distances[0]\n",
    "        groups[i] = groups[i] | groups[j]  # 合并集合\n",
    "        del groups[j]  # 删除已合并的组\n",
    "        if len(groups)<5:\n",
    "            break\n",
    "\n",
    "    return groups\n",
    "\n",
    "# # 示例用法\n",
    "# groups = [\n",
    "#     {1, 2, 3},\n",
    "#     {2, 3, 4},\n",
    "#     {5, 6},\n",
    "#     {1, 7, 8}\n",
    "# ]\n",
    "# tau = 0.5\n",
    "# merged_groups = merge_groups(groups, tau)\n",
    "# print(\"合并后的组:\", merged_groups)\n"
   ]
  },
  {
   "cell_type": "code",
   "execution_count": 3,
   "id": "db44dc76-8fac-48b6-90d0-e6d5277e4180",
   "metadata": {},
   "outputs": [],
   "source": [
    "caseno, sig, percent_train = 6, 2, 0.5\n",
    "x, y, xt, yt, y0, gx, r, bw = simulate_case(caseno, sig, percent_train)\n",
    "L = len(gx)\n",
    "\n",
    "# 数据中心化\n",
    "my = np.mean(yt)\n",
    "y, yt, y0 = y - my, yt - my, y0 - my\n",
    "\n",
    "# 获取边界\n",
    "bw = bw.reshape(L, L)"
   ]
  },
  {
   "cell_type": "code",
   "execution_count": 4,
   "id": "e2ed42ce-445a-4720-b8e0-920afe62e185",
   "metadata": {},
   "outputs": [
    {
     "data": {
      "text/plain": [
       "(50, 2)"
      ]
     },
     "execution_count": 4,
     "metadata": {},
     "output_type": "execute_result"
    }
   ],
   "source": [
    "num_points = 50\n",
    "points = np.random.uniform(-0.5, 0.5, (num_points, 2))\n",
    "points.shape"
   ]
  },
  {
   "cell_type": "code",
   "execution_count": 29,
   "id": "086277da-4c58-4ec6-88c6-6773faf4c759",
   "metadata": {},
   "outputs": [],
   "source": [
    "def genPts(n=50):\n",
    "    num_points_per_side = int(np.sqrt(n))  # 根据需要生成的点数取整\n",
    "    x = np.linspace(-0.5, 0.5, num_points_per_side)\n",
    "    y = np.linspace(-0.5, 0.5, num_points_per_side)\n",
    "    \n",
    "    # 生成均匀分布的网格点\n",
    "    xv, yv = np.meshgrid(x, y)\n",
    "    points = np.column_stack([xv.ravel(), yv.ravel()])\n",
    "    return points"
   ]
  },
  {
   "cell_type": "code",
   "execution_count": 90,
   "id": "74f083b4-7112-4012-a857-fb07d47112c4",
   "metadata": {},
   "outputs": [
    {
     "data": {
      "text/plain": [
       "(49, 2)"
      ]
     },
     "execution_count": 90,
     "metadata": {},
     "output_type": "execute_result"
    }
   ],
   "source": [
    "num_points = 50\n",
    "xs = genPts(num_points)\n",
    "rand = 0\n",
    "xs.shape"
   ]
  },
  {
   "cell_type": "code",
   "execution_count": 21,
   "id": "6af46145-1d91-4c2b-857f-7ffc0fa14cf7",
   "metadata": {},
   "outputs": [],
   "source": [
    "xs = points\n",
    "rand = 1"
   ]
  },
  {
   "cell_type": "code",
   "execution_count": 91,
   "id": "66bc6128-e956-42d5-a5e8-fb389cc49c20",
   "metadata": {
    "scrolled": true
   },
   "outputs": [
    {
     "name": "stdout",
     "output_type": "stream",
     "text": [
      "Initial boundary visualization\n",
      "Plotting results for mode: CEM\n"
     ]
    },
    {
     "name": "stderr",
     "output_type": "stream",
     "text": [
      "C:\\Users\\yxu59\\autumn2024\\codeBase\\JumpGP_code_py\\maximize_PD.py:80: RuntimeWarning: divide by zero encountered in log\n",
      "  return -np.sum(r.T * np.log(1 / (1 + np.exp(-phi_w))) + (1 - r).T * np.log(1 - 1 / (1 + np.exp(-phi_w))) )\n",
      "C:\\Users\\yxu59\\autumn2024\\codeBase\\JumpGP_code_py\\maximize_PD.py:80: RuntimeWarning: invalid value encountered in multiply\n",
      "  return -np.sum(r.T * np.log(1 / (1 + np.exp(-phi_w))) + (1 - r).T * np.log(1 - 1 / (1 + np.exp(-phi_w))) )\n",
      "C:\\Users\\yxu59\\autumn2024\\codeBase\\JumpGP_code_py\\maximize_PD.py:80: RuntimeWarning: divide by zero encountered in log\n",
      "  return -np.sum(r.T * np.log(1 / (1 + np.exp(-phi_w))) + (1 - r).T * np.log(1 - 1 / (1 + np.exp(-phi_w))) )\n",
      "C:\\Users\\yxu59\\autumn2024\\codeBase\\JumpGP_code_py\\maximize_PD.py:80: RuntimeWarning: invalid value encountered in multiply\n",
      "  return -np.sum(r.T * np.log(1 / (1 + np.exp(-phi_w))) + (1 - r).T * np.log(1 - 1 / (1 + np.exp(-phi_w))) )\n"
     ]
    },
    {
     "name": "stdout",
     "output_type": "stream",
     "text": [
      "Initial boundary visualization\n"
     ]
    },
    {
     "name": "stderr",
     "output_type": "stream",
     "text": [
      "C:\\Users\\yxu59\\autumn2024\\codeBase\\JumpGP_code_py\\maximize_PD.py:80: RuntimeWarning: divide by zero encountered in log\n",
      "  return -np.sum(r.T * np.log(1 / (1 + np.exp(-phi_w))) + (1 - r).T * np.log(1 - 1 / (1 + np.exp(-phi_w))) )\n",
      "C:\\Users\\yxu59\\autumn2024\\codeBase\\JumpGP_code_py\\maximize_PD.py:80: RuntimeWarning: invalid value encountered in multiply\n",
      "  return -np.sum(r.T * np.log(1 / (1 + np.exp(-phi_w))) + (1 - r).T * np.log(1 - 1 / (1 + np.exp(-phi_w))) )\n",
      "C:\\Users\\yxu59\\autumn2024\\codeBase\\JumpGP_code_py\\maximize_PD.py:80: RuntimeWarning: divide by zero encountered in log\n",
      "  return -np.sum(r.T * np.log(1 / (1 + np.exp(-phi_w))) + (1 - r).T * np.log(1 - 1 / (1 + np.exp(-phi_w))) )\n",
      "C:\\Users\\yxu59\\autumn2024\\codeBase\\JumpGP_code_py\\maximize_PD.py:80: RuntimeWarning: invalid value encountered in multiply\n",
      "  return -np.sum(r.T * np.log(1 / (1 + np.exp(-phi_w))) + (1 - r).T * np.log(1 - 1 / (1 + np.exp(-phi_w))) )\n",
      "C:\\Users\\yxu59\\autumn2024\\codeBase\\JumpGP_code_py\\maximize_PD.py:80: RuntimeWarning: divide by zero encountered in log\n",
      "  return -np.sum(r.T * np.log(1 / (1 + np.exp(-phi_w))) + (1 - r).T * np.log(1 - 1 / (1 + np.exp(-phi_w))) )\n",
      "C:\\Users\\yxu59\\autumn2024\\codeBase\\JumpGP_code_py\\maximize_PD.py:80: RuntimeWarning: invalid value encountered in multiply\n",
      "  return -np.sum(r.T * np.log(1 / (1 + np.exp(-phi_w))) + (1 - r).T * np.log(1 - 1 / (1 + np.exp(-phi_w))) )\n",
      "C:\\Users\\yxu59\\autumn2024\\codeBase\\JumpGP_code_py\\maximize_PD.py:80: RuntimeWarning: divide by zero encountered in log\n",
      "  return -np.sum(r.T * np.log(1 / (1 + np.exp(-phi_w))) + (1 - r).T * np.log(1 - 1 / (1 + np.exp(-phi_w))) )\n",
      "C:\\Users\\yxu59\\autumn2024\\codeBase\\JumpGP_code_py\\maximize_PD.py:80: RuntimeWarning: invalid value encountered in multiply\n",
      "  return -np.sum(r.T * np.log(1 / (1 + np.exp(-phi_w))) + (1 - r).T * np.log(1 - 1 / (1 + np.exp(-phi_w))) )\n",
      "C:\\Users\\yxu59\\autumn2024\\codeBase\\JumpGP_code_py\\maximize_PD.py:80: RuntimeWarning: divide by zero encountered in log\n",
      "  return -np.sum(r.T * np.log(1 / (1 + np.exp(-phi_w))) + (1 - r).T * np.log(1 - 1 / (1 + np.exp(-phi_w))) )\n",
      "C:\\Users\\yxu59\\autumn2024\\codeBase\\JumpGP_code_py\\maximize_PD.py:80: RuntimeWarning: invalid value encountered in multiply\n",
      "  return -np.sum(r.T * np.log(1 / (1 + np.exp(-phi_w))) + (1 - r).T * np.log(1 - 1 / (1 + np.exp(-phi_w))) )\n",
      "C:\\Users\\yxu59\\autumn2024\\codeBase\\JumpGP_code_py\\maximize_PD.py:80: RuntimeWarning: divide by zero encountered in log\n",
      "  return -np.sum(r.T * np.log(1 / (1 + np.exp(-phi_w))) + (1 - r).T * np.log(1 - 1 / (1 + np.exp(-phi_w))) )\n",
      "C:\\Users\\yxu59\\autumn2024\\codeBase\\JumpGP_code_py\\maximize_PD.py:80: RuntimeWarning: invalid value encountered in multiply\n",
      "  return -np.sum(r.T * np.log(1 / (1 + np.exp(-phi_w))) + (1 - r).T * np.log(1 - 1 / (1 + np.exp(-phi_w))) )\n",
      "C:\\Users\\yxu59\\autumn2024\\codeBase\\JumpGP_code_py\\maximize_PD.py:80: RuntimeWarning: divide by zero encountered in log\n",
      "  return -np.sum(r.T * np.log(1 / (1 + np.exp(-phi_w))) + (1 - r).T * np.log(1 - 1 / (1 + np.exp(-phi_w))) )\n",
      "C:\\Users\\yxu59\\autumn2024\\codeBase\\JumpGP_code_py\\maximize_PD.py:80: RuntimeWarning: invalid value encountered in multiply\n",
      "  return -np.sum(r.T * np.log(1 / (1 + np.exp(-phi_w))) + (1 - r).T * np.log(1 - 1 / (1 + np.exp(-phi_w))) )\n"
     ]
    },
    {
     "name": "stdout",
     "output_type": "stream",
     "text": [
      "Plotting results for mode: CEM\n",
      "Initial boundary visualization\n",
      "Plotting results for mode: CEM\n"
     ]
    },
    {
     "name": "stderr",
     "output_type": "stream",
     "text": [
      "C:\\Users\\yxu59\\autumn2024\\codeBase\\JumpGP_code_py\\maximize_PD.py:80: RuntimeWarning: divide by zero encountered in log\n",
      "  return -np.sum(r.T * np.log(1 / (1 + np.exp(-phi_w))) + (1 - r).T * np.log(1 - 1 / (1 + np.exp(-phi_w))) )\n",
      "C:\\Users\\yxu59\\autumn2024\\codeBase\\JumpGP_code_py\\maximize_PD.py:80: RuntimeWarning: invalid value encountered in multiply\n",
      "  return -np.sum(r.T * np.log(1 / (1 + np.exp(-phi_w))) + (1 - r).T * np.log(1 - 1 / (1 + np.exp(-phi_w))) )\n",
      "C:\\Users\\yxu59\\autumn2024\\codeBase\\JumpGP_code_py\\maximize_PD.py:80: RuntimeWarning: divide by zero encountered in log\n",
      "  return -np.sum(r.T * np.log(1 / (1 + np.exp(-phi_w))) + (1 - r).T * np.log(1 - 1 / (1 + np.exp(-phi_w))) )\n",
      "C:\\Users\\yxu59\\autumn2024\\codeBase\\JumpGP_code_py\\maximize_PD.py:80: RuntimeWarning: invalid value encountered in multiply\n",
      "  return -np.sum(r.T * np.log(1 / (1 + np.exp(-phi_w))) + (1 - r).T * np.log(1 - 1 / (1 + np.exp(-phi_w))) )\n",
      "C:\\Users\\yxu59\\autumn2024\\codeBase\\JumpGP_code_py\\maximize_PD.py:80: RuntimeWarning: divide by zero encountered in log\n",
      "  return -np.sum(r.T * np.log(1 / (1 + np.exp(-phi_w))) + (1 - r).T * np.log(1 - 1 / (1 + np.exp(-phi_w))) )\n",
      "C:\\Users\\yxu59\\autumn2024\\codeBase\\JumpGP_code_py\\maximize_PD.py:80: RuntimeWarning: invalid value encountered in multiply\n",
      "  return -np.sum(r.T * np.log(1 / (1 + np.exp(-phi_w))) + (1 - r).T * np.log(1 - 1 / (1 + np.exp(-phi_w))) )\n"
     ]
    },
    {
     "name": "stdout",
     "output_type": "stream",
     "text": [
      "Initial boundary visualization\n",
      "Plotting results for mode: CEM\n"
     ]
    },
    {
     "name": "stderr",
     "output_type": "stream",
     "text": [
      "C:\\Users\\yxu59\\autumn2024\\codeBase\\JumpGP_code_py\\maximize_PD.py:80: RuntimeWarning: divide by zero encountered in log\n",
      "  return -np.sum(r.T * np.log(1 / (1 + np.exp(-phi_w))) + (1 - r).T * np.log(1 - 1 / (1 + np.exp(-phi_w))) )\n",
      "C:\\Users\\yxu59\\autumn2024\\codeBase\\JumpGP_code_py\\maximize_PD.py:80: RuntimeWarning: invalid value encountered in multiply\n",
      "  return -np.sum(r.T * np.log(1 / (1 + np.exp(-phi_w))) + (1 - r).T * np.log(1 - 1 / (1 + np.exp(-phi_w))) )\n",
      "C:\\Users\\yxu59\\autumn2024\\codeBase\\JumpGP_code_py\\maximize_PD.py:80: RuntimeWarning: divide by zero encountered in log\n",
      "  return -np.sum(r.T * np.log(1 / (1 + np.exp(-phi_w))) + (1 - r).T * np.log(1 - 1 / (1 + np.exp(-phi_w))) )\n",
      "C:\\Users\\yxu59\\autumn2024\\codeBase\\JumpGP_code_py\\maximize_PD.py:80: RuntimeWarning: invalid value encountered in multiply\n",
      "  return -np.sum(r.T * np.log(1 / (1 + np.exp(-phi_w))) + (1 - r).T * np.log(1 - 1 / (1 + np.exp(-phi_w))) )\n",
      "C:\\Users\\yxu59\\autumn2024\\codeBase\\JumpGP_code_py\\maximize_PD.py:80: RuntimeWarning: divide by zero encountered in log\n",
      "  return -np.sum(r.T * np.log(1 / (1 + np.exp(-phi_w))) + (1 - r).T * np.log(1 - 1 / (1 + np.exp(-phi_w))) )\n",
      "C:\\Users\\yxu59\\autumn2024\\codeBase\\JumpGP_code_py\\maximize_PD.py:80: RuntimeWarning: invalid value encountered in multiply\n",
      "  return -np.sum(r.T * np.log(1 / (1 + np.exp(-phi_w))) + (1 - r).T * np.log(1 - 1 / (1 + np.exp(-phi_w))) )\n"
     ]
    },
    {
     "name": "stdout",
     "output_type": "stream",
     "text": [
      "Initial boundary visualization\n"
     ]
    },
    {
     "name": "stderr",
     "output_type": "stream",
     "text": [
      "C:\\Users\\yxu59\\autumn2024\\codeBase\\JumpGP_code_py\\maximize_PD.py:80: RuntimeWarning: divide by zero encountered in log\n",
      "  return -np.sum(r.T * np.log(1 / (1 + np.exp(-phi_w))) + (1 - r).T * np.log(1 - 1 / (1 + np.exp(-phi_w))) )\n",
      "C:\\Users\\yxu59\\autumn2024\\codeBase\\JumpGP_code_py\\maximize_PD.py:80: RuntimeWarning: invalid value encountered in multiply\n",
      "  return -np.sum(r.T * np.log(1 / (1 + np.exp(-phi_w))) + (1 - r).T * np.log(1 - 1 / (1 + np.exp(-phi_w))) )\n",
      "C:\\Users\\yxu59\\autumn2024\\codeBase\\JumpGP_code_py\\maximize_PD.py:80: RuntimeWarning: divide by zero encountered in log\n",
      "  return -np.sum(r.T * np.log(1 / (1 + np.exp(-phi_w))) + (1 - r).T * np.log(1 - 1 / (1 + np.exp(-phi_w))) )\n",
      "C:\\Users\\yxu59\\autumn2024\\codeBase\\JumpGP_code_py\\maximize_PD.py:80: RuntimeWarning: invalid value encountered in multiply\n",
      "  return -np.sum(r.T * np.log(1 / (1 + np.exp(-phi_w))) + (1 - r).T * np.log(1 - 1 / (1 + np.exp(-phi_w))) )\n",
      "C:\\Users\\yxu59\\autumn2024\\codeBase\\JumpGP_code_py\\maximize_PD.py:80: RuntimeWarning: divide by zero encountered in log\n",
      "  return -np.sum(r.T * np.log(1 / (1 + np.exp(-phi_w))) + (1 - r).T * np.log(1 - 1 / (1 + np.exp(-phi_w))) )\n",
      "C:\\Users\\yxu59\\autumn2024\\codeBase\\JumpGP_code_py\\maximize_PD.py:80: RuntimeWarning: invalid value encountered in multiply\n",
      "  return -np.sum(r.T * np.log(1 / (1 + np.exp(-phi_w))) + (1 - r).T * np.log(1 - 1 / (1 + np.exp(-phi_w))) )\n",
      "C:\\Users\\yxu59\\autumn2024\\codeBase\\JumpGP_code_py\\maximize_PD.py:80: RuntimeWarning: divide by zero encountered in log\n",
      "  return -np.sum(r.T * np.log(1 / (1 + np.exp(-phi_w))) + (1 - r).T * np.log(1 - 1 / (1 + np.exp(-phi_w))) )\n",
      "C:\\Users\\yxu59\\autumn2024\\codeBase\\JumpGP_code_py\\maximize_PD.py:80: RuntimeWarning: invalid value encountered in multiply\n",
      "  return -np.sum(r.T * np.log(1 / (1 + np.exp(-phi_w))) + (1 - r).T * np.log(1 - 1 / (1 + np.exp(-phi_w))) )\n",
      "C:\\Users\\yxu59\\autumn2024\\codeBase\\JumpGP_code_py\\maximize_PD.py:80: RuntimeWarning: divide by zero encountered in log\n",
      "  return -np.sum(r.T * np.log(1 / (1 + np.exp(-phi_w))) + (1 - r).T * np.log(1 - 1 / (1 + np.exp(-phi_w))) )\n",
      "C:\\Users\\yxu59\\autumn2024\\codeBase\\JumpGP_code_py\\maximize_PD.py:80: RuntimeWarning: invalid value encountered in multiply\n",
      "  return -np.sum(r.T * np.log(1 / (1 + np.exp(-phi_w))) + (1 - r).T * np.log(1 - 1 / (1 + np.exp(-phi_w))) )\n"
     ]
    },
    {
     "name": "stdout",
     "output_type": "stream",
     "text": [
      "Plotting results for mode: CEM\n",
      "Initial boundary visualization\n",
      "Plotting results for mode: CEM\n"
     ]
    },
    {
     "name": "stderr",
     "output_type": "stream",
     "text": [
      "C:\\Users\\yxu59\\autumn2024\\codeBase\\JumpGP_code_py\\maximize_PD.py:80: RuntimeWarning: divide by zero encountered in log\n",
      "  return -np.sum(r.T * np.log(1 / (1 + np.exp(-phi_w))) + (1 - r).T * np.log(1 - 1 / (1 + np.exp(-phi_w))) )\n",
      "C:\\Users\\yxu59\\autumn2024\\codeBase\\JumpGP_code_py\\maximize_PD.py:80: RuntimeWarning: invalid value encountered in multiply\n",
      "  return -np.sum(r.T * np.log(1 / (1 + np.exp(-phi_w))) + (1 - r).T * np.log(1 - 1 / (1 + np.exp(-phi_w))) )\n",
      "C:\\Users\\yxu59\\autumn2024\\codeBase\\JumpGP_code_py\\maximize_PD.py:80: RuntimeWarning: divide by zero encountered in log\n",
      "  return -np.sum(r.T * np.log(1 / (1 + np.exp(-phi_w))) + (1 - r).T * np.log(1 - 1 / (1 + np.exp(-phi_w))) )\n",
      "C:\\Users\\yxu59\\autumn2024\\codeBase\\JumpGP_code_py\\maximize_PD.py:80: RuntimeWarning: invalid value encountered in multiply\n",
      "  return -np.sum(r.T * np.log(1 / (1 + np.exp(-phi_w))) + (1 - r).T * np.log(1 - 1 / (1 + np.exp(-phi_w))) )\n",
      "C:\\Users\\yxu59\\autumn2024\\codeBase\\JumpGP_code_py\\maximize_PD.py:80: RuntimeWarning: divide by zero encountered in log\n",
      "  return -np.sum(r.T * np.log(1 / (1 + np.exp(-phi_w))) + (1 - r).T * np.log(1 - 1 / (1 + np.exp(-phi_w))) )\n",
      "C:\\Users\\yxu59\\autumn2024\\codeBase\\JumpGP_code_py\\maximize_PD.py:80: RuntimeWarning: invalid value encountered in multiply\n",
      "  return -np.sum(r.T * np.log(1 / (1 + np.exp(-phi_w))) + (1 - r).T * np.log(1 - 1 / (1 + np.exp(-phi_w))) )\n"
     ]
    },
    {
     "name": "stdout",
     "output_type": "stream",
     "text": [
      "Initial boundary visualization\n"
     ]
    },
    {
     "name": "stderr",
     "output_type": "stream",
     "text": [
      "C:\\Users\\yxu59\\autumn2024\\codeBase\\JumpGP_code_py\\maximize_PD.py:80: RuntimeWarning: divide by zero encountered in log\n",
      "  return -np.sum(r.T * np.log(1 / (1 + np.exp(-phi_w))) + (1 - r).T * np.log(1 - 1 / (1 + np.exp(-phi_w))) )\n",
      "C:\\Users\\yxu59\\autumn2024\\codeBase\\JumpGP_code_py\\maximize_PD.py:80: RuntimeWarning: invalid value encountered in multiply\n",
      "  return -np.sum(r.T * np.log(1 / (1 + np.exp(-phi_w))) + (1 - r).T * np.log(1 - 1 / (1 + np.exp(-phi_w))) )\n",
      "C:\\Users\\yxu59\\autumn2024\\codeBase\\JumpGP_code_py\\maximize_PD.py:80: RuntimeWarning: divide by zero encountered in log\n",
      "  return -np.sum(r.T * np.log(1 / (1 + np.exp(-phi_w))) + (1 - r).T * np.log(1 - 1 / (1 + np.exp(-phi_w))) )\n",
      "C:\\Users\\yxu59\\autumn2024\\codeBase\\JumpGP_code_py\\maximize_PD.py:80: RuntimeWarning: invalid value encountered in multiply\n",
      "  return -np.sum(r.T * np.log(1 / (1 + np.exp(-phi_w))) + (1 - r).T * np.log(1 - 1 / (1 + np.exp(-phi_w))) )\n",
      "C:\\Users\\yxu59\\autumn2024\\codeBase\\JumpGP_code_py\\maximize_PD.py:80: RuntimeWarning: divide by zero encountered in log\n",
      "  return -np.sum(r.T * np.log(1 / (1 + np.exp(-phi_w))) + (1 - r).T * np.log(1 - 1 / (1 + np.exp(-phi_w))) )\n",
      "C:\\Users\\yxu59\\autumn2024\\codeBase\\JumpGP_code_py\\maximize_PD.py:80: RuntimeWarning: invalid value encountered in multiply\n",
      "  return -np.sum(r.T * np.log(1 / (1 + np.exp(-phi_w))) + (1 - r).T * np.log(1 - 1 / (1 + np.exp(-phi_w))) )\n",
      "C:\\Users\\yxu59\\autumn2024\\codeBase\\JumpGP_code_py\\maximize_PD.py:80: RuntimeWarning: divide by zero encountered in log\n",
      "  return -np.sum(r.T * np.log(1 / (1 + np.exp(-phi_w))) + (1 - r).T * np.log(1 - 1 / (1 + np.exp(-phi_w))) )\n",
      "C:\\Users\\yxu59\\autumn2024\\codeBase\\JumpGP_code_py\\maximize_PD.py:80: RuntimeWarning: invalid value encountered in multiply\n",
      "  return -np.sum(r.T * np.log(1 / (1 + np.exp(-phi_w))) + (1 - r).T * np.log(1 - 1 / (1 + np.exp(-phi_w))) )\n",
      "C:\\Users\\yxu59\\autumn2024\\codeBase\\JumpGP_code_py\\maximize_PD.py:80: RuntimeWarning: divide by zero encountered in log\n",
      "  return -np.sum(r.T * np.log(1 / (1 + np.exp(-phi_w))) + (1 - r).T * np.log(1 - 1 / (1 + np.exp(-phi_w))) )\n",
      "C:\\Users\\yxu59\\autumn2024\\codeBase\\JumpGP_code_py\\maximize_PD.py:80: RuntimeWarning: invalid value encountered in multiply\n",
      "  return -np.sum(r.T * np.log(1 / (1 + np.exp(-phi_w))) + (1 - r).T * np.log(1 - 1 / (1 + np.exp(-phi_w))) )\n",
      "C:\\Users\\yxu59\\autumn2024\\codeBase\\JumpGP_code_py\\maximize_PD.py:80: RuntimeWarning: divide by zero encountered in log\n",
      "  return -np.sum(r.T * np.log(1 / (1 + np.exp(-phi_w))) + (1 - r).T * np.log(1 - 1 / (1 + np.exp(-phi_w))) )\n",
      "C:\\Users\\yxu59\\autumn2024\\codeBase\\JumpGP_code_py\\maximize_PD.py:80: RuntimeWarning: invalid value encountered in multiply\n",
      "  return -np.sum(r.T * np.log(1 / (1 + np.exp(-phi_w))) + (1 - r).T * np.log(1 - 1 / (1 + np.exp(-phi_w))) )\n",
      "C:\\Users\\yxu59\\autumn2024\\codeBase\\JumpGP_code_py\\maximize_PD.py:80: RuntimeWarning: divide by zero encountered in log\n",
      "  return -np.sum(r.T * np.log(1 / (1 + np.exp(-phi_w))) + (1 - r).T * np.log(1 - 1 / (1 + np.exp(-phi_w))) )\n",
      "C:\\Users\\yxu59\\autumn2024\\codeBase\\JumpGP_code_py\\maximize_PD.py:80: RuntimeWarning: invalid value encountered in multiply\n",
      "  return -np.sum(r.T * np.log(1 / (1 + np.exp(-phi_w))) + (1 - r).T * np.log(1 - 1 / (1 + np.exp(-phi_w))) )\n",
      "C:\\Users\\yxu59\\autumn2024\\codeBase\\JumpGP_code_py\\maximize_PD.py:80: RuntimeWarning: divide by zero encountered in log\n",
      "  return -np.sum(r.T * np.log(1 / (1 + np.exp(-phi_w))) + (1 - r).T * np.log(1 - 1 / (1 + np.exp(-phi_w))) )\n",
      "C:\\Users\\yxu59\\autumn2024\\codeBase\\JumpGP_code_py\\maximize_PD.py:80: RuntimeWarning: invalid value encountered in multiply\n",
      "  return -np.sum(r.T * np.log(1 / (1 + np.exp(-phi_w))) + (1 - r).T * np.log(1 - 1 / (1 + np.exp(-phi_w))) )\n",
      "C:\\Users\\yxu59\\autumn2024\\codeBase\\JumpGP_code_py\\maximize_PD.py:80: RuntimeWarning: divide by zero encountered in log\n",
      "  return -np.sum(r.T * np.log(1 / (1 + np.exp(-phi_w))) + (1 - r).T * np.log(1 - 1 / (1 + np.exp(-phi_w))) )\n",
      "C:\\Users\\yxu59\\autumn2024\\codeBase\\JumpGP_code_py\\maximize_PD.py:80: RuntimeWarning: invalid value encountered in multiply\n",
      "  return -np.sum(r.T * np.log(1 / (1 + np.exp(-phi_w))) + (1 - r).T * np.log(1 - 1 / (1 + np.exp(-phi_w))) )\n"
     ]
    },
    {
     "name": "stdout",
     "output_type": "stream",
     "text": [
      "Plotting results for mode: CEM\n",
      "Initial boundary visualization\n",
      "Plotting results for mode: CEM\n",
      "Initial boundary visualization\n",
      "Plotting results for mode: CEM\n"
     ]
    },
    {
     "name": "stderr",
     "output_type": "stream",
     "text": [
      "C:\\Users\\yxu59\\autumn2024\\codeBase\\JumpGP_code_py\\maximize_PD.py:80: RuntimeWarning: divide by zero encountered in log\n",
      "  return -np.sum(r.T * np.log(1 / (1 + np.exp(-phi_w))) + (1 - r).T * np.log(1 - 1 / (1 + np.exp(-phi_w))) )\n",
      "C:\\Users\\yxu59\\autumn2024\\codeBase\\JumpGP_code_py\\maximize_PD.py:80: RuntimeWarning: invalid value encountered in multiply\n",
      "  return -np.sum(r.T * np.log(1 / (1 + np.exp(-phi_w))) + (1 - r).T * np.log(1 - 1 / (1 + np.exp(-phi_w))) )\n",
      "C:\\Users\\yxu59\\autumn2024\\codeBase\\JumpGP_code_py\\maximize_PD.py:80: RuntimeWarning: divide by zero encountered in log\n",
      "  return -np.sum(r.T * np.log(1 / (1 + np.exp(-phi_w))) + (1 - r).T * np.log(1 - 1 / (1 + np.exp(-phi_w))) )\n",
      "C:\\Users\\yxu59\\autumn2024\\codeBase\\JumpGP_code_py\\maximize_PD.py:80: RuntimeWarning: invalid value encountered in multiply\n",
      "  return -np.sum(r.T * np.log(1 / (1 + np.exp(-phi_w))) + (1 - r).T * np.log(1 - 1 / (1 + np.exp(-phi_w))) )\n"
     ]
    },
    {
     "name": "stdout",
     "output_type": "stream",
     "text": [
      "Initial boundary visualization\n",
      "Plotting results for mode: CEM\n"
     ]
    },
    {
     "name": "stderr",
     "output_type": "stream",
     "text": [
      "C:\\Users\\yxu59\\autumn2024\\codeBase\\JumpGP_code_py\\maximize_PD.py:80: RuntimeWarning: divide by zero encountered in log\n",
      "  return -np.sum(r.T * np.log(1 / (1 + np.exp(-phi_w))) + (1 - r).T * np.log(1 - 1 / (1 + np.exp(-phi_w))) )\n",
      "C:\\Users\\yxu59\\autumn2024\\codeBase\\JumpGP_code_py\\maximize_PD.py:80: RuntimeWarning: invalid value encountered in multiply\n",
      "  return -np.sum(r.T * np.log(1 / (1 + np.exp(-phi_w))) + (1 - r).T * np.log(1 - 1 / (1 + np.exp(-phi_w))) )\n"
     ]
    },
    {
     "name": "stdout",
     "output_type": "stream",
     "text": [
      "Initial boundary visualization\n",
      "Plotting results for mode: CEM\n"
     ]
    },
    {
     "name": "stderr",
     "output_type": "stream",
     "text": [
      "C:\\Users\\yxu59\\autumn2024\\codeBase\\JumpGP_code_py\\maximize_PD.py:80: RuntimeWarning: divide by zero encountered in log\n",
      "  return -np.sum(r.T * np.log(1 / (1 + np.exp(-phi_w))) + (1 - r).T * np.log(1 - 1 / (1 + np.exp(-phi_w))) )\n",
      "C:\\Users\\yxu59\\autumn2024\\codeBase\\JumpGP_code_py\\maximize_PD.py:80: RuntimeWarning: invalid value encountered in multiply\n",
      "  return -np.sum(r.T * np.log(1 / (1 + np.exp(-phi_w))) + (1 - r).T * np.log(1 - 1 / (1 + np.exp(-phi_w))) )\n",
      "C:\\Users\\yxu59\\autumn2024\\codeBase\\JumpGP_code_py\\maximize_PD.py:80: RuntimeWarning: divide by zero encountered in log\n",
      "  return -np.sum(r.T * np.log(1 / (1 + np.exp(-phi_w))) + (1 - r).T * np.log(1 - 1 / (1 + np.exp(-phi_w))) )\n",
      "C:\\Users\\yxu59\\autumn2024\\codeBase\\JumpGP_code_py\\maximize_PD.py:80: RuntimeWarning: invalid value encountered in multiply\n",
      "  return -np.sum(r.T * np.log(1 / (1 + np.exp(-phi_w))) + (1 - r).T * np.log(1 - 1 / (1 + np.exp(-phi_w))) )\n"
     ]
    },
    {
     "name": "stdout",
     "output_type": "stream",
     "text": [
      "Initial boundary visualization\n",
      "Plotting results for mode: CEM\n"
     ]
    },
    {
     "name": "stderr",
     "output_type": "stream",
     "text": [
      "C:\\Users\\yxu59\\autumn2024\\codeBase\\JumpGP_code_py\\maximize_PD.py:80: RuntimeWarning: divide by zero encountered in log\n",
      "  return -np.sum(r.T * np.log(1 / (1 + np.exp(-phi_w))) + (1 - r).T * np.log(1 - 1 / (1 + np.exp(-phi_w))) )\n",
      "C:\\Users\\yxu59\\autumn2024\\codeBase\\JumpGP_code_py\\maximize_PD.py:80: RuntimeWarning: invalid value encountered in multiply\n",
      "  return -np.sum(r.T * np.log(1 / (1 + np.exp(-phi_w))) + (1 - r).T * np.log(1 - 1 / (1 + np.exp(-phi_w))) )\n",
      "C:\\Users\\yxu59\\autumn2024\\codeBase\\JumpGP_code_py\\maximize_PD.py:80: RuntimeWarning: divide by zero encountered in log\n",
      "  return -np.sum(r.T * np.log(1 / (1 + np.exp(-phi_w))) + (1 - r).T * np.log(1 - 1 / (1 + np.exp(-phi_w))) )\n",
      "C:\\Users\\yxu59\\autumn2024\\codeBase\\JumpGP_code_py\\maximize_PD.py:80: RuntimeWarning: invalid value encountered in multiply\n",
      "  return -np.sum(r.T * np.log(1 / (1 + np.exp(-phi_w))) + (1 - r).T * np.log(1 - 1 / (1 + np.exp(-phi_w))) )\n",
      "C:\\Users\\yxu59\\autumn2024\\codeBase\\JumpGP_code_py\\maximize_PD.py:80: RuntimeWarning: divide by zero encountered in log\n",
      "  return -np.sum(r.T * np.log(1 / (1 + np.exp(-phi_w))) + (1 - r).T * np.log(1 - 1 / (1 + np.exp(-phi_w))) )\n",
      "C:\\Users\\yxu59\\autumn2024\\codeBase\\JumpGP_code_py\\maximize_PD.py:80: RuntimeWarning: invalid value encountered in multiply\n",
      "  return -np.sum(r.T * np.log(1 / (1 + np.exp(-phi_w))) + (1 - r).T * np.log(1 - 1 / (1 + np.exp(-phi_w))) )\n"
     ]
    },
    {
     "name": "stdout",
     "output_type": "stream",
     "text": [
      "Initial boundary visualization\n",
      "Plotting results for mode: CEM\n"
     ]
    },
    {
     "name": "stderr",
     "output_type": "stream",
     "text": [
      "C:\\Users\\yxu59\\autumn2024\\codeBase\\JumpGP_code_py\\maximize_PD.py:80: RuntimeWarning: divide by zero encountered in log\n",
      "  return -np.sum(r.T * np.log(1 / (1 + np.exp(-phi_w))) + (1 - r).T * np.log(1 - 1 / (1 + np.exp(-phi_w))) )\n",
      "C:\\Users\\yxu59\\autumn2024\\codeBase\\JumpGP_code_py\\maximize_PD.py:80: RuntimeWarning: invalid value encountered in multiply\n",
      "  return -np.sum(r.T * np.log(1 / (1 + np.exp(-phi_w))) + (1 - r).T * np.log(1 - 1 / (1 + np.exp(-phi_w))) )\n"
     ]
    },
    {
     "name": "stdout",
     "output_type": "stream",
     "text": [
      "Initial boundary visualization\n",
      "Plotting results for mode: CEM\n"
     ]
    },
    {
     "name": "stderr",
     "output_type": "stream",
     "text": [
      "C:\\Users\\yxu59\\autumn2024\\codeBase\\JumpGP_code_py\\maximize_PD.py:80: RuntimeWarning: divide by zero encountered in log\n",
      "  return -np.sum(r.T * np.log(1 / (1 + np.exp(-phi_w))) + (1 - r).T * np.log(1 - 1 / (1 + np.exp(-phi_w))) )\n",
      "C:\\Users\\yxu59\\autumn2024\\codeBase\\JumpGP_code_py\\maximize_PD.py:80: RuntimeWarning: invalid value encountered in multiply\n",
      "  return -np.sum(r.T * np.log(1 / (1 + np.exp(-phi_w))) + (1 - r).T * np.log(1 - 1 / (1 + np.exp(-phi_w))) )\n"
     ]
    },
    {
     "name": "stdout",
     "output_type": "stream",
     "text": [
      "Initial boundary visualization\n",
      "Plotting results for mode: CEM\n"
     ]
    },
    {
     "name": "stderr",
     "output_type": "stream",
     "text": [
      "C:\\Users\\yxu59\\autumn2024\\codeBase\\JumpGP_code_py\\maximize_PD.py:80: RuntimeWarning: divide by zero encountered in log\n",
      "  return -np.sum(r.T * np.log(1 / (1 + np.exp(-phi_w))) + (1 - r).T * np.log(1 - 1 / (1 + np.exp(-phi_w))) )\n",
      "C:\\Users\\yxu59\\autumn2024\\codeBase\\JumpGP_code_py\\maximize_PD.py:80: RuntimeWarning: invalid value encountered in multiply\n",
      "  return -np.sum(r.T * np.log(1 / (1 + np.exp(-phi_w))) + (1 - r).T * np.log(1 - 1 / (1 + np.exp(-phi_w))) )\n",
      "C:\\Users\\yxu59\\autumn2024\\codeBase\\JumpGP_code_py\\maximize_PD.py:80: RuntimeWarning: divide by zero encountered in log\n",
      "  return -np.sum(r.T * np.log(1 / (1 + np.exp(-phi_w))) + (1 - r).T * np.log(1 - 1 / (1 + np.exp(-phi_w))) )\n",
      "C:\\Users\\yxu59\\autumn2024\\codeBase\\JumpGP_code_py\\maximize_PD.py:80: RuntimeWarning: invalid value encountered in multiply\n",
      "  return -np.sum(r.T * np.log(1 / (1 + np.exp(-phi_w))) + (1 - r).T * np.log(1 - 1 / (1 + np.exp(-phi_w))) )\n",
      "C:\\Users\\yxu59\\autumn2024\\codeBase\\JumpGP_code_py\\maximize_PD.py:80: RuntimeWarning: divide by zero encountered in log\n",
      "  return -np.sum(r.T * np.log(1 / (1 + np.exp(-phi_w))) + (1 - r).T * np.log(1 - 1 / (1 + np.exp(-phi_w))) )\n",
      "C:\\Users\\yxu59\\autumn2024\\codeBase\\JumpGP_code_py\\maximize_PD.py:80: RuntimeWarning: invalid value encountered in multiply\n",
      "  return -np.sum(r.T * np.log(1 / (1 + np.exp(-phi_w))) + (1 - r).T * np.log(1 - 1 / (1 + np.exp(-phi_w))) )\n"
     ]
    },
    {
     "name": "stdout",
     "output_type": "stream",
     "text": [
      "Initial boundary visualization\n",
      "Plotting results for mode: CEM\n"
     ]
    },
    {
     "name": "stderr",
     "output_type": "stream",
     "text": [
      "C:\\Users\\yxu59\\autumn2024\\codeBase\\JumpGP_code_py\\maximize_PD.py:80: RuntimeWarning: divide by zero encountered in log\n",
      "  return -np.sum(r.T * np.log(1 / (1 + np.exp(-phi_w))) + (1 - r).T * np.log(1 - 1 / (1 + np.exp(-phi_w))) )\n",
      "C:\\Users\\yxu59\\autumn2024\\codeBase\\JumpGP_code_py\\maximize_PD.py:80: RuntimeWarning: invalid value encountered in multiply\n",
      "  return -np.sum(r.T * np.log(1 / (1 + np.exp(-phi_w))) + (1 - r).T * np.log(1 - 1 / (1 + np.exp(-phi_w))) )\n",
      "C:\\Users\\yxu59\\autumn2024\\codeBase\\JumpGP_code_py\\maximize_PD.py:80: RuntimeWarning: divide by zero encountered in log\n",
      "  return -np.sum(r.T * np.log(1 / (1 + np.exp(-phi_w))) + (1 - r).T * np.log(1 - 1 / (1 + np.exp(-phi_w))) )\n",
      "C:\\Users\\yxu59\\autumn2024\\codeBase\\JumpGP_code_py\\maximize_PD.py:80: RuntimeWarning: invalid value encountered in multiply\n",
      "  return -np.sum(r.T * np.log(1 / (1 + np.exp(-phi_w))) + (1 - r).T * np.log(1 - 1 / (1 + np.exp(-phi_w))) )\n",
      "C:\\Users\\yxu59\\autumn2024\\codeBase\\JumpGP_code_py\\maximize_PD.py:80: RuntimeWarning: divide by zero encountered in log\n",
      "  return -np.sum(r.T * np.log(1 / (1 + np.exp(-phi_w))) + (1 - r).T * np.log(1 - 1 / (1 + np.exp(-phi_w))) )\n",
      "C:\\Users\\yxu59\\autumn2024\\codeBase\\JumpGP_code_py\\maximize_PD.py:80: RuntimeWarning: invalid value encountered in multiply\n",
      "  return -np.sum(r.T * np.log(1 / (1 + np.exp(-phi_w))) + (1 - r).T * np.log(1 - 1 / (1 + np.exp(-phi_w))) )\n"
     ]
    },
    {
     "name": "stdout",
     "output_type": "stream",
     "text": [
      "Initial boundary visualization\n",
      "Plotting results for mode: CEM\n"
     ]
    },
    {
     "name": "stderr",
     "output_type": "stream",
     "text": [
      "C:\\Users\\yxu59\\autumn2024\\codeBase\\JumpGP_code_py\\maximize_PD.py:80: RuntimeWarning: divide by zero encountered in log\n",
      "  return -np.sum(r.T * np.log(1 / (1 + np.exp(-phi_w))) + (1 - r).T * np.log(1 - 1 / (1 + np.exp(-phi_w))) )\n",
      "C:\\Users\\yxu59\\autumn2024\\codeBase\\JumpGP_code_py\\maximize_PD.py:80: RuntimeWarning: invalid value encountered in multiply\n",
      "  return -np.sum(r.T * np.log(1 / (1 + np.exp(-phi_w))) + (1 - r).T * np.log(1 - 1 / (1 + np.exp(-phi_w))) )\n",
      "C:\\Users\\yxu59\\autumn2024\\codeBase\\JumpGP_code_py\\maximize_PD.py:80: RuntimeWarning: divide by zero encountered in log\n",
      "  return -np.sum(r.T * np.log(1 / (1 + np.exp(-phi_w))) + (1 - r).T * np.log(1 - 1 / (1 + np.exp(-phi_w))) )\n",
      "C:\\Users\\yxu59\\autumn2024\\codeBase\\JumpGP_code_py\\maximize_PD.py:80: RuntimeWarning: invalid value encountered in multiply\n",
      "  return -np.sum(r.T * np.log(1 / (1 + np.exp(-phi_w))) + (1 - r).T * np.log(1 - 1 / (1 + np.exp(-phi_w))) )\n"
     ]
    },
    {
     "name": "stdout",
     "output_type": "stream",
     "text": [
      "Initial boundary visualization\n",
      "Plotting results for mode: CEM\n",
      "Initial boundary visualization\n",
      "Plotting results for mode: CEM\n"
     ]
    },
    {
     "name": "stderr",
     "output_type": "stream",
     "text": [
      "C:\\Users\\yxu59\\autumn2024\\codeBase\\JumpGP_code_py\\maximize_PD.py:80: RuntimeWarning: divide by zero encountered in log\n",
      "  return -np.sum(r.T * np.log(1 / (1 + np.exp(-phi_w))) + (1 - r).T * np.log(1 - 1 / (1 + np.exp(-phi_w))) )\n",
      "C:\\Users\\yxu59\\autumn2024\\codeBase\\JumpGP_code_py\\maximize_PD.py:80: RuntimeWarning: invalid value encountered in multiply\n",
      "  return -np.sum(r.T * np.log(1 / (1 + np.exp(-phi_w))) + (1 - r).T * np.log(1 - 1 / (1 + np.exp(-phi_w))) )\n",
      "C:\\Users\\yxu59\\autumn2024\\codeBase\\JumpGP_code_py\\maximize_PD.py:80: RuntimeWarning: divide by zero encountered in log\n",
      "  return -np.sum(r.T * np.log(1 / (1 + np.exp(-phi_w))) + (1 - r).T * np.log(1 - 1 / (1 + np.exp(-phi_w))) )\n",
      "C:\\Users\\yxu59\\autumn2024\\codeBase\\JumpGP_code_py\\maximize_PD.py:80: RuntimeWarning: invalid value encountered in multiply\n",
      "  return -np.sum(r.T * np.log(1 / (1 + np.exp(-phi_w))) + (1 - r).T * np.log(1 - 1 / (1 + np.exp(-phi_w))) )\n"
     ]
    },
    {
     "name": "stdout",
     "output_type": "stream",
     "text": [
      "Initial boundary visualization\n",
      "Plotting results for mode: CEM\n"
     ]
    },
    {
     "name": "stderr",
     "output_type": "stream",
     "text": [
      "C:\\Users\\yxu59\\autumn2024\\codeBase\\JumpGP_code_py\\maximize_PD.py:80: RuntimeWarning: divide by zero encountered in log\n",
      "  return -np.sum(r.T * np.log(1 / (1 + np.exp(-phi_w))) + (1 - r).T * np.log(1 - 1 / (1 + np.exp(-phi_w))) )\n",
      "C:\\Users\\yxu59\\autumn2024\\codeBase\\JumpGP_code_py\\maximize_PD.py:80: RuntimeWarning: invalid value encountered in multiply\n",
      "  return -np.sum(r.T * np.log(1 / (1 + np.exp(-phi_w))) + (1 - r).T * np.log(1 - 1 / (1 + np.exp(-phi_w))) )\n",
      "C:\\Users\\yxu59\\autumn2024\\codeBase\\JumpGP_code_py\\maximize_PD.py:80: RuntimeWarning: divide by zero encountered in log\n",
      "  return -np.sum(r.T * np.log(1 / (1 + np.exp(-phi_w))) + (1 - r).T * np.log(1 - 1 / (1 + np.exp(-phi_w))) )\n",
      "C:\\Users\\yxu59\\autumn2024\\codeBase\\JumpGP_code_py\\maximize_PD.py:80: RuntimeWarning: invalid value encountered in multiply\n",
      "  return -np.sum(r.T * np.log(1 / (1 + np.exp(-phi_w))) + (1 - r).T * np.log(1 - 1 / (1 + np.exp(-phi_w))) )\n",
      "C:\\Users\\yxu59\\autumn2024\\codeBase\\JumpGP_code_py\\maximize_PD.py:80: RuntimeWarning: divide by zero encountered in log\n",
      "  return -np.sum(r.T * np.log(1 / (1 + np.exp(-phi_w))) + (1 - r).T * np.log(1 - 1 / (1 + np.exp(-phi_w))) )\n",
      "C:\\Users\\yxu59\\autumn2024\\codeBase\\JumpGP_code_py\\maximize_PD.py:80: RuntimeWarning: invalid value encountered in multiply\n",
      "  return -np.sum(r.T * np.log(1 / (1 + np.exp(-phi_w))) + (1 - r).T * np.log(1 - 1 / (1 + np.exp(-phi_w))) )\n"
     ]
    },
    {
     "name": "stdout",
     "output_type": "stream",
     "text": [
      "Initial boundary visualization\n"
     ]
    },
    {
     "name": "stderr",
     "output_type": "stream",
     "text": [
      "C:\\Users\\yxu59\\autumn2024\\codeBase\\JumpGP_code_py\\maximize_PD.py:80: RuntimeWarning: divide by zero encountered in log\n",
      "  return -np.sum(r.T * np.log(1 / (1 + np.exp(-phi_w))) + (1 - r).T * np.log(1 - 1 / (1 + np.exp(-phi_w))) )\n",
      "C:\\Users\\yxu59\\autumn2024\\codeBase\\JumpGP_code_py\\maximize_PD.py:80: RuntimeWarning: invalid value encountered in multiply\n",
      "  return -np.sum(r.T * np.log(1 / (1 + np.exp(-phi_w))) + (1 - r).T * np.log(1 - 1 / (1 + np.exp(-phi_w))) )\n",
      "C:\\Users\\yxu59\\autumn2024\\codeBase\\JumpGP_code_py\\maximize_PD.py:80: RuntimeWarning: divide by zero encountered in log\n",
      "  return -np.sum(r.T * np.log(1 / (1 + np.exp(-phi_w))) + (1 - r).T * np.log(1 - 1 / (1 + np.exp(-phi_w))) )\n",
      "C:\\Users\\yxu59\\autumn2024\\codeBase\\JumpGP_code_py\\maximize_PD.py:80: RuntimeWarning: invalid value encountered in multiply\n",
      "  return -np.sum(r.T * np.log(1 / (1 + np.exp(-phi_w))) + (1 - r).T * np.log(1 - 1 / (1 + np.exp(-phi_w))) )\n",
      "C:\\Users\\yxu59\\autumn2024\\codeBase\\JumpGP_code_py\\maximize_PD.py:80: RuntimeWarning: divide by zero encountered in log\n",
      "  return -np.sum(r.T * np.log(1 / (1 + np.exp(-phi_w))) + (1 - r).T * np.log(1 - 1 / (1 + np.exp(-phi_w))) )\n",
      "C:\\Users\\yxu59\\autumn2024\\codeBase\\JumpGP_code_py\\maximize_PD.py:80: RuntimeWarning: invalid value encountered in multiply\n",
      "  return -np.sum(r.T * np.log(1 / (1 + np.exp(-phi_w))) + (1 - r).T * np.log(1 - 1 / (1 + np.exp(-phi_w))) )\n",
      "C:\\Users\\yxu59\\autumn2024\\codeBase\\JumpGP_code_py\\maximize_PD.py:80: RuntimeWarning: divide by zero encountered in log\n",
      "  return -np.sum(r.T * np.log(1 / (1 + np.exp(-phi_w))) + (1 - r).T * np.log(1 - 1 / (1 + np.exp(-phi_w))) )\n",
      "C:\\Users\\yxu59\\autumn2024\\codeBase\\JumpGP_code_py\\maximize_PD.py:80: RuntimeWarning: invalid value encountered in multiply\n",
      "  return -np.sum(r.T * np.log(1 / (1 + np.exp(-phi_w))) + (1 - r).T * np.log(1 - 1 / (1 + np.exp(-phi_w))) )\n",
      "C:\\Users\\yxu59\\autumn2024\\codeBase\\JumpGP_code_py\\maximize_PD.py:80: RuntimeWarning: divide by zero encountered in log\n",
      "  return -np.sum(r.T * np.log(1 / (1 + np.exp(-phi_w))) + (1 - r).T * np.log(1 - 1 / (1 + np.exp(-phi_w))) )\n",
      "C:\\Users\\yxu59\\autumn2024\\codeBase\\JumpGP_code_py\\maximize_PD.py:80: RuntimeWarning: invalid value encountered in multiply\n",
      "  return -np.sum(r.T * np.log(1 / (1 + np.exp(-phi_w))) + (1 - r).T * np.log(1 - 1 / (1 + np.exp(-phi_w))) )\n",
      "C:\\Users\\yxu59\\autumn2024\\codeBase\\JumpGP_code_py\\maximize_PD.py:80: RuntimeWarning: divide by zero encountered in log\n",
      "  return -np.sum(r.T * np.log(1 / (1 + np.exp(-phi_w))) + (1 - r).T * np.log(1 - 1 / (1 + np.exp(-phi_w))) )\n",
      "C:\\Users\\yxu59\\autumn2024\\codeBase\\JumpGP_code_py\\maximize_PD.py:80: RuntimeWarning: invalid value encountered in multiply\n",
      "  return -np.sum(r.T * np.log(1 / (1 + np.exp(-phi_w))) + (1 - r).T * np.log(1 - 1 / (1 + np.exp(-phi_w))) )\n",
      "C:\\Users\\yxu59\\autumn2024\\codeBase\\JumpGP_code_py\\maximize_PD.py:80: RuntimeWarning: divide by zero encountered in log\n",
      "  return -np.sum(r.T * np.log(1 / (1 + np.exp(-phi_w))) + (1 - r).T * np.log(1 - 1 / (1 + np.exp(-phi_w))) )\n",
      "C:\\Users\\yxu59\\autumn2024\\codeBase\\JumpGP_code_py\\maximize_PD.py:80: RuntimeWarning: invalid value encountered in multiply\n",
      "  return -np.sum(r.T * np.log(1 / (1 + np.exp(-phi_w))) + (1 - r).T * np.log(1 - 1 / (1 + np.exp(-phi_w))) )\n",
      "C:\\Users\\yxu59\\autumn2024\\codeBase\\JumpGP_code_py\\maximize_PD.py:80: RuntimeWarning: divide by zero encountered in log\n",
      "  return -np.sum(r.T * np.log(1 / (1 + np.exp(-phi_w))) + (1 - r).T * np.log(1 - 1 / (1 + np.exp(-phi_w))) )\n",
      "C:\\Users\\yxu59\\autumn2024\\codeBase\\JumpGP_code_py\\maximize_PD.py:80: RuntimeWarning: invalid value encountered in multiply\n",
      "  return -np.sum(r.T * np.log(1 / (1 + np.exp(-phi_w))) + (1 - r).T * np.log(1 - 1 / (1 + np.exp(-phi_w))) )\n",
      "C:\\Users\\yxu59\\autumn2024\\codeBase\\JumpGP_code_py\\maximize_PD.py:80: RuntimeWarning: divide by zero encountered in log\n",
      "  return -np.sum(r.T * np.log(1 / (1 + np.exp(-phi_w))) + (1 - r).T * np.log(1 - 1 / (1 + np.exp(-phi_w))) )\n",
      "C:\\Users\\yxu59\\autumn2024\\codeBase\\JumpGP_code_py\\maximize_PD.py:80: RuntimeWarning: invalid value encountered in multiply\n",
      "  return -np.sum(r.T * np.log(1 / (1 + np.exp(-phi_w))) + (1 - r).T * np.log(1 - 1 / (1 + np.exp(-phi_w))) )\n",
      "C:\\Users\\yxu59\\autumn2024\\codeBase\\JumpGP_code_py\\maximize_PD.py:80: RuntimeWarning: divide by zero encountered in log\n",
      "  return -np.sum(r.T * np.log(1 / (1 + np.exp(-phi_w))) + (1 - r).T * np.log(1 - 1 / (1 + np.exp(-phi_w))) )\n",
      "C:\\Users\\yxu59\\autumn2024\\codeBase\\JumpGP_code_py\\maximize_PD.py:80: RuntimeWarning: invalid value encountered in multiply\n",
      "  return -np.sum(r.T * np.log(1 / (1 + np.exp(-phi_w))) + (1 - r).T * np.log(1 - 1 / (1 + np.exp(-phi_w))) )\n"
     ]
    },
    {
     "name": "stdout",
     "output_type": "stream",
     "text": [
      "Plotting results for mode: CEM\n",
      "Initial boundary visualization\n"
     ]
    },
    {
     "name": "stderr",
     "output_type": "stream",
     "text": [
      "C:\\Users\\yxu59\\autumn2024\\codeBase\\JumpGP_code_py\\maximize_PD.py:80: RuntimeWarning: divide by zero encountered in log\n",
      "  return -np.sum(r.T * np.log(1 / (1 + np.exp(-phi_w))) + (1 - r).T * np.log(1 - 1 / (1 + np.exp(-phi_w))) )\n",
      "C:\\Users\\yxu59\\autumn2024\\codeBase\\JumpGP_code_py\\maximize_PD.py:80: RuntimeWarning: invalid value encountered in multiply\n",
      "  return -np.sum(r.T * np.log(1 / (1 + np.exp(-phi_w))) + (1 - r).T * np.log(1 - 1 / (1 + np.exp(-phi_w))) )\n",
      "C:\\Users\\yxu59\\autumn2024\\codeBase\\JumpGP_code_py\\maximize_PD.py:80: RuntimeWarning: divide by zero encountered in log\n",
      "  return -np.sum(r.T * np.log(1 / (1 + np.exp(-phi_w))) + (1 - r).T * np.log(1 - 1 / (1 + np.exp(-phi_w))) )\n",
      "C:\\Users\\yxu59\\autumn2024\\codeBase\\JumpGP_code_py\\maximize_PD.py:80: RuntimeWarning: invalid value encountered in multiply\n",
      "  return -np.sum(r.T * np.log(1 / (1 + np.exp(-phi_w))) + (1 - r).T * np.log(1 - 1 / (1 + np.exp(-phi_w))) )\n",
      "C:\\Users\\yxu59\\autumn2024\\codeBase\\JumpGP_code_py\\maximize_PD.py:80: RuntimeWarning: divide by zero encountered in log\n",
      "  return -np.sum(r.T * np.log(1 / (1 + np.exp(-phi_w))) + (1 - r).T * np.log(1 - 1 / (1 + np.exp(-phi_w))) )\n",
      "C:\\Users\\yxu59\\autumn2024\\codeBase\\JumpGP_code_py\\maximize_PD.py:80: RuntimeWarning: invalid value encountered in multiply\n",
      "  return -np.sum(r.T * np.log(1 / (1 + np.exp(-phi_w))) + (1 - r).T * np.log(1 - 1 / (1 + np.exp(-phi_w))) )\n",
      "C:\\Users\\yxu59\\autumn2024\\codeBase\\JumpGP_code_py\\maximize_PD.py:80: RuntimeWarning: divide by zero encountered in log\n",
      "  return -np.sum(r.T * np.log(1 / (1 + np.exp(-phi_w))) + (1 - r).T * np.log(1 - 1 / (1 + np.exp(-phi_w))) )\n",
      "C:\\Users\\yxu59\\autumn2024\\codeBase\\JumpGP_code_py\\maximize_PD.py:80: RuntimeWarning: invalid value encountered in multiply\n",
      "  return -np.sum(r.T * np.log(1 / (1 + np.exp(-phi_w))) + (1 - r).T * np.log(1 - 1 / (1 + np.exp(-phi_w))) )\n",
      "C:\\Users\\yxu59\\autumn2024\\codeBase\\JumpGP_code_py\\maximize_PD.py:80: RuntimeWarning: divide by zero encountered in log\n",
      "  return -np.sum(r.T * np.log(1 / (1 + np.exp(-phi_w))) + (1 - r).T * np.log(1 - 1 / (1 + np.exp(-phi_w))) )\n",
      "C:\\Users\\yxu59\\autumn2024\\codeBase\\JumpGP_code_py\\maximize_PD.py:80: RuntimeWarning: invalid value encountered in multiply\n",
      "  return -np.sum(r.T * np.log(1 / (1 + np.exp(-phi_w))) + (1 - r).T * np.log(1 - 1 / (1 + np.exp(-phi_w))) )\n",
      "C:\\Users\\yxu59\\autumn2024\\codeBase\\JumpGP_code_py\\maximize_PD.py:80: RuntimeWarning: divide by zero encountered in log\n",
      "  return -np.sum(r.T * np.log(1 / (1 + np.exp(-phi_w))) + (1 - r).T * np.log(1 - 1 / (1 + np.exp(-phi_w))) )\n",
      "C:\\Users\\yxu59\\autumn2024\\codeBase\\JumpGP_code_py\\maximize_PD.py:80: RuntimeWarning: invalid value encountered in multiply\n",
      "  return -np.sum(r.T * np.log(1 / (1 + np.exp(-phi_w))) + (1 - r).T * np.log(1 - 1 / (1 + np.exp(-phi_w))) )\n",
      "C:\\Users\\yxu59\\autumn2024\\codeBase\\JumpGP_code_py\\maximize_PD.py:80: RuntimeWarning: divide by zero encountered in log\n",
      "  return -np.sum(r.T * np.log(1 / (1 + np.exp(-phi_w))) + (1 - r).T * np.log(1 - 1 / (1 + np.exp(-phi_w))) )\n",
      "C:\\Users\\yxu59\\autumn2024\\codeBase\\JumpGP_code_py\\maximize_PD.py:80: RuntimeWarning: invalid value encountered in multiply\n",
      "  return -np.sum(r.T * np.log(1 / (1 + np.exp(-phi_w))) + (1 - r).T * np.log(1 - 1 / (1 + np.exp(-phi_w))) )\n",
      "C:\\Users\\yxu59\\autumn2024\\codeBase\\JumpGP_code_py\\maximize_PD.py:80: RuntimeWarning: overflow encountered in exp\n",
      "  return -np.sum(r.T * np.log(1 / (1 + np.exp(-phi_w))) + (1 - r).T * np.log(1 - 1 / (1 + np.exp(-phi_w))) )\n",
      "C:\\Users\\yxu59\\autumn2024\\codeBase\\JumpGP_code_py\\maximize_PD.py:80: RuntimeWarning: divide by zero encountered in log\n",
      "  return -np.sum(r.T * np.log(1 / (1 + np.exp(-phi_w))) + (1 - r).T * np.log(1 - 1 / (1 + np.exp(-phi_w))) )\n",
      "C:\\Users\\yxu59\\autumn2024\\codeBase\\JumpGP_code_py\\maximize_PD.py:80: RuntimeWarning: invalid value encountered in multiply\n",
      "  return -np.sum(r.T * np.log(1 / (1 + np.exp(-phi_w))) + (1 - r).T * np.log(1 - 1 / (1 + np.exp(-phi_w))) )\n",
      "C:\\Users\\yxu59\\autumn2024\\codeBase\\JumpGP_code_py\\maximize_PD.py:80: RuntimeWarning: divide by zero encountered in log\n",
      "  return -np.sum(r.T * np.log(1 / (1 + np.exp(-phi_w))) + (1 - r).T * np.log(1 - 1 / (1 + np.exp(-phi_w))) )\n",
      "C:\\Users\\yxu59\\autumn2024\\codeBase\\JumpGP_code_py\\maximize_PD.py:80: RuntimeWarning: invalid value encountered in multiply\n",
      "  return -np.sum(r.T * np.log(1 / (1 + np.exp(-phi_w))) + (1 - r).T * np.log(1 - 1 / (1 + np.exp(-phi_w))) )\n",
      "C:\\Users\\yxu59\\autumn2024\\codeBase\\JumpGP_code_py\\maximize_PD.py:80: RuntimeWarning: divide by zero encountered in log\n",
      "  return -np.sum(r.T * np.log(1 / (1 + np.exp(-phi_w))) + (1 - r).T * np.log(1 - 1 / (1 + np.exp(-phi_w))) )\n",
      "C:\\Users\\yxu59\\autumn2024\\codeBase\\JumpGP_code_py\\maximize_PD.py:80: RuntimeWarning: invalid value encountered in multiply\n",
      "  return -np.sum(r.T * np.log(1 / (1 + np.exp(-phi_w))) + (1 - r).T * np.log(1 - 1 / (1 + np.exp(-phi_w))) )\n"
     ]
    },
    {
     "name": "stdout",
     "output_type": "stream",
     "text": [
      "Plotting results for mode: CEM\n",
      "Initial boundary visualization\n"
     ]
    },
    {
     "name": "stderr",
     "output_type": "stream",
     "text": [
      "C:\\Users\\yxu59\\autumn2024\\codeBase\\JumpGP_code_py\\maximize_PD.py:80: RuntimeWarning: divide by zero encountered in log\n",
      "  return -np.sum(r.T * np.log(1 / (1 + np.exp(-phi_w))) + (1 - r).T * np.log(1 - 1 / (1 + np.exp(-phi_w))) )\n",
      "C:\\Users\\yxu59\\autumn2024\\codeBase\\JumpGP_code_py\\maximize_PD.py:80: RuntimeWarning: invalid value encountered in multiply\n",
      "  return -np.sum(r.T * np.log(1 / (1 + np.exp(-phi_w))) + (1 - r).T * np.log(1 - 1 / (1 + np.exp(-phi_w))) )\n",
      "C:\\Users\\yxu59\\autumn2024\\codeBase\\JumpGP_code_py\\maximize_PD.py:80: RuntimeWarning: overflow encountered in exp\n",
      "  return -np.sum(r.T * np.log(1 / (1 + np.exp(-phi_w))) + (1 - r).T * np.log(1 - 1 / (1 + np.exp(-phi_w))) )\n",
      "C:\\Users\\yxu59\\autumn2024\\codeBase\\JumpGP_code_py\\maximize_PD.py:80: RuntimeWarning: divide by zero encountered in log\n",
      "  return -np.sum(r.T * np.log(1 / (1 + np.exp(-phi_w))) + (1 - r).T * np.log(1 - 1 / (1 + np.exp(-phi_w))) )\n",
      "C:\\Users\\yxu59\\autumn2024\\codeBase\\JumpGP_code_py\\maximize_PD.py:80: RuntimeWarning: invalid value encountered in multiply\n",
      "  return -np.sum(r.T * np.log(1 / (1 + np.exp(-phi_w))) + (1 - r).T * np.log(1 - 1 / (1 + np.exp(-phi_w))) )\n",
      "C:\\Users\\yxu59\\autumn2024\\codeBase\\JumpGP_code_py\\maximize_PD.py:80: RuntimeWarning: divide by zero encountered in log\n",
      "  return -np.sum(r.T * np.log(1 / (1 + np.exp(-phi_w))) + (1 - r).T * np.log(1 - 1 / (1 + np.exp(-phi_w))) )\n",
      "C:\\Users\\yxu59\\autumn2024\\codeBase\\JumpGP_code_py\\maximize_PD.py:80: RuntimeWarning: invalid value encountered in multiply\n",
      "  return -np.sum(r.T * np.log(1 / (1 + np.exp(-phi_w))) + (1 - r).T * np.log(1 - 1 / (1 + np.exp(-phi_w))) )\n"
     ]
    },
    {
     "name": "stdout",
     "output_type": "stream",
     "text": [
      "Plotting results for mode: CEM\n",
      "Initial boundary visualization\n",
      "Plotting results for mode: CEM\n",
      "Initial boundary visualization\n",
      "Plotting results for mode: CEM\n"
     ]
    },
    {
     "name": "stderr",
     "output_type": "stream",
     "text": [
      "C:\\Users\\yxu59\\autumn2024\\codeBase\\JumpGP_code_py\\maximize_PD.py:80: RuntimeWarning: divide by zero encountered in log\n",
      "  return -np.sum(r.T * np.log(1 / (1 + np.exp(-phi_w))) + (1 - r).T * np.log(1 - 1 / (1 + np.exp(-phi_w))) )\n",
      "C:\\Users\\yxu59\\autumn2024\\codeBase\\JumpGP_code_py\\maximize_PD.py:80: RuntimeWarning: invalid value encountered in multiply\n",
      "  return -np.sum(r.T * np.log(1 / (1 + np.exp(-phi_w))) + (1 - r).T * np.log(1 - 1 / (1 + np.exp(-phi_w))) )\n",
      "C:\\Users\\yxu59\\autumn2024\\codeBase\\JumpGP_code_py\\maximize_PD.py:80: RuntimeWarning: divide by zero encountered in log\n",
      "  return -np.sum(r.T * np.log(1 / (1 + np.exp(-phi_w))) + (1 - r).T * np.log(1 - 1 / (1 + np.exp(-phi_w))) )\n",
      "C:\\Users\\yxu59\\autumn2024\\codeBase\\JumpGP_code_py\\maximize_PD.py:80: RuntimeWarning: invalid value encountered in multiply\n",
      "  return -np.sum(r.T * np.log(1 / (1 + np.exp(-phi_w))) + (1 - r).T * np.log(1 - 1 / (1 + np.exp(-phi_w))) )\n"
     ]
    },
    {
     "name": "stdout",
     "output_type": "stream",
     "text": [
      "Initial boundary visualization\n",
      "Plotting results for mode: CEM\n"
     ]
    },
    {
     "name": "stderr",
     "output_type": "stream",
     "text": [
      "C:\\Users\\yxu59\\autumn2024\\codeBase\\JumpGP_code_py\\maximize_PD.py:80: RuntimeWarning: divide by zero encountered in log\n",
      "  return -np.sum(r.T * np.log(1 / (1 + np.exp(-phi_w))) + (1 - r).T * np.log(1 - 1 / (1 + np.exp(-phi_w))) )\n",
      "C:\\Users\\yxu59\\autumn2024\\codeBase\\JumpGP_code_py\\maximize_PD.py:80: RuntimeWarning: invalid value encountered in multiply\n",
      "  return -np.sum(r.T * np.log(1 / (1 + np.exp(-phi_w))) + (1 - r).T * np.log(1 - 1 / (1 + np.exp(-phi_w))) )\n",
      "C:\\Users\\yxu59\\autumn2024\\codeBase\\JumpGP_code_py\\maximize_PD.py:80: RuntimeWarning: divide by zero encountered in log\n",
      "  return -np.sum(r.T * np.log(1 / (1 + np.exp(-phi_w))) + (1 - r).T * np.log(1 - 1 / (1 + np.exp(-phi_w))) )\n",
      "C:\\Users\\yxu59\\autumn2024\\codeBase\\JumpGP_code_py\\maximize_PD.py:80: RuntimeWarning: invalid value encountered in multiply\n",
      "  return -np.sum(r.T * np.log(1 / (1 + np.exp(-phi_w))) + (1 - r).T * np.log(1 - 1 / (1 + np.exp(-phi_w))) )\n",
      "C:\\Users\\yxu59\\autumn2024\\codeBase\\JumpGP_code_py\\maximize_PD.py:80: RuntimeWarning: overflow encountered in exp\n",
      "  return -np.sum(r.T * np.log(1 / (1 + np.exp(-phi_w))) + (1 - r).T * np.log(1 - 1 / (1 + np.exp(-phi_w))) )\n"
     ]
    },
    {
     "name": "stdout",
     "output_type": "stream",
     "text": [
      "Initial boundary visualization\n",
      "Plotting results for mode: CEM\n"
     ]
    },
    {
     "name": "stderr",
     "output_type": "stream",
     "text": [
      "C:\\Users\\yxu59\\autumn2024\\codeBase\\JumpGP_code_py\\maximize_PD.py:80: RuntimeWarning: divide by zero encountered in log\n",
      "  return -np.sum(r.T * np.log(1 / (1 + np.exp(-phi_w))) + (1 - r).T * np.log(1 - 1 / (1 + np.exp(-phi_w))) )\n",
      "C:\\Users\\yxu59\\autumn2024\\codeBase\\JumpGP_code_py\\maximize_PD.py:80: RuntimeWarning: invalid value encountered in multiply\n",
      "  return -np.sum(r.T * np.log(1 / (1 + np.exp(-phi_w))) + (1 - r).T * np.log(1 - 1 / (1 + np.exp(-phi_w))) )\n",
      "C:\\Users\\yxu59\\autumn2024\\codeBase\\JumpGP_code_py\\maximize_PD.py:80: RuntimeWarning: divide by zero encountered in log\n",
      "  return -np.sum(r.T * np.log(1 / (1 + np.exp(-phi_w))) + (1 - r).T * np.log(1 - 1 / (1 + np.exp(-phi_w))) )\n",
      "C:\\Users\\yxu59\\autumn2024\\codeBase\\JumpGP_code_py\\maximize_PD.py:80: RuntimeWarning: invalid value encountered in multiply\n",
      "  return -np.sum(r.T * np.log(1 / (1 + np.exp(-phi_w))) + (1 - r).T * np.log(1 - 1 / (1 + np.exp(-phi_w))) )\n",
      "C:\\Users\\yxu59\\autumn2024\\codeBase\\JumpGP_code_py\\maximize_PD.py:80: RuntimeWarning: divide by zero encountered in log\n",
      "  return -np.sum(r.T * np.log(1 / (1 + np.exp(-phi_w))) + (1 - r).T * np.log(1 - 1 / (1 + np.exp(-phi_w))) )\n",
      "C:\\Users\\yxu59\\autumn2024\\codeBase\\JumpGP_code_py\\maximize_PD.py:80: RuntimeWarning: invalid value encountered in multiply\n",
      "  return -np.sum(r.T * np.log(1 / (1 + np.exp(-phi_w))) + (1 - r).T * np.log(1 - 1 / (1 + np.exp(-phi_w))) )\n"
     ]
    },
    {
     "name": "stdout",
     "output_type": "stream",
     "text": [
      "Initial boundary visualization\n"
     ]
    },
    {
     "name": "stderr",
     "output_type": "stream",
     "text": [
      "C:\\Users\\yxu59\\autumn2024\\codeBase\\JumpGP_code_py\\maximize_PD.py:80: RuntimeWarning: divide by zero encountered in log\n",
      "  return -np.sum(r.T * np.log(1 / (1 + np.exp(-phi_w))) + (1 - r).T * np.log(1 - 1 / (1 + np.exp(-phi_w))) )\n",
      "C:\\Users\\yxu59\\autumn2024\\codeBase\\JumpGP_code_py\\maximize_PD.py:80: RuntimeWarning: invalid value encountered in multiply\n",
      "  return -np.sum(r.T * np.log(1 / (1 + np.exp(-phi_w))) + (1 - r).T * np.log(1 - 1 / (1 + np.exp(-phi_w))) )\n",
      "C:\\Users\\yxu59\\autumn2024\\codeBase\\JumpGP_code_py\\maximize_PD.py:80: RuntimeWarning: divide by zero encountered in log\n",
      "  return -np.sum(r.T * np.log(1 / (1 + np.exp(-phi_w))) + (1 - r).T * np.log(1 - 1 / (1 + np.exp(-phi_w))) )\n",
      "C:\\Users\\yxu59\\autumn2024\\codeBase\\JumpGP_code_py\\maximize_PD.py:80: RuntimeWarning: invalid value encountered in multiply\n",
      "  return -np.sum(r.T * np.log(1 / (1 + np.exp(-phi_w))) + (1 - r).T * np.log(1 - 1 / (1 + np.exp(-phi_w))) )\n",
      "C:\\Users\\yxu59\\autumn2024\\codeBase\\JumpGP_code_py\\maximize_PD.py:80: RuntimeWarning: divide by zero encountered in log\n",
      "  return -np.sum(r.T * np.log(1 / (1 + np.exp(-phi_w))) + (1 - r).T * np.log(1 - 1 / (1 + np.exp(-phi_w))) )\n",
      "C:\\Users\\yxu59\\autumn2024\\codeBase\\JumpGP_code_py\\maximize_PD.py:80: RuntimeWarning: invalid value encountered in multiply\n",
      "  return -np.sum(r.T * np.log(1 / (1 + np.exp(-phi_w))) + (1 - r).T * np.log(1 - 1 / (1 + np.exp(-phi_w))) )\n",
      "C:\\Users\\yxu59\\autumn2024\\codeBase\\JumpGP_code_py\\maximize_PD.py:80: RuntimeWarning: divide by zero encountered in log\n",
      "  return -np.sum(r.T * np.log(1 / (1 + np.exp(-phi_w))) + (1 - r).T * np.log(1 - 1 / (1 + np.exp(-phi_w))) )\n",
      "C:\\Users\\yxu59\\autumn2024\\codeBase\\JumpGP_code_py\\maximize_PD.py:80: RuntimeWarning: invalid value encountered in multiply\n",
      "  return -np.sum(r.T * np.log(1 / (1 + np.exp(-phi_w))) + (1 - r).T * np.log(1 - 1 / (1 + np.exp(-phi_w))) )\n",
      "C:\\Users\\yxu59\\autumn2024\\codeBase\\JumpGP_code_py\\maximize_PD.py:80: RuntimeWarning: divide by zero encountered in log\n",
      "  return -np.sum(r.T * np.log(1 / (1 + np.exp(-phi_w))) + (1 - r).T * np.log(1 - 1 / (1 + np.exp(-phi_w))) )\n",
      "C:\\Users\\yxu59\\autumn2024\\codeBase\\JumpGP_code_py\\maximize_PD.py:80: RuntimeWarning: invalid value encountered in multiply\n",
      "  return -np.sum(r.T * np.log(1 / (1 + np.exp(-phi_w))) + (1 - r).T * np.log(1 - 1 / (1 + np.exp(-phi_w))) )\n",
      "C:\\Users\\yxu59\\autumn2024\\codeBase\\JumpGP_code_py\\maximize_PD.py:80: RuntimeWarning: divide by zero encountered in log\n",
      "  return -np.sum(r.T * np.log(1 / (1 + np.exp(-phi_w))) + (1 - r).T * np.log(1 - 1 / (1 + np.exp(-phi_w))) )\n",
      "C:\\Users\\yxu59\\autumn2024\\codeBase\\JumpGP_code_py\\maximize_PD.py:80: RuntimeWarning: invalid value encountered in multiply\n",
      "  return -np.sum(r.T * np.log(1 / (1 + np.exp(-phi_w))) + (1 - r).T * np.log(1 - 1 / (1 + np.exp(-phi_w))) )\n",
      "C:\\Users\\yxu59\\autumn2024\\codeBase\\JumpGP_code_py\\maximize_PD.py:80: RuntimeWarning: divide by zero encountered in log\n",
      "  return -np.sum(r.T * np.log(1 / (1 + np.exp(-phi_w))) + (1 - r).T * np.log(1 - 1 / (1 + np.exp(-phi_w))) )\n",
      "C:\\Users\\yxu59\\autumn2024\\codeBase\\JumpGP_code_py\\maximize_PD.py:80: RuntimeWarning: invalid value encountered in multiply\n",
      "  return -np.sum(r.T * np.log(1 / (1 + np.exp(-phi_w))) + (1 - r).T * np.log(1 - 1 / (1 + np.exp(-phi_w))) )\n",
      "C:\\Users\\yxu59\\autumn2024\\codeBase\\JumpGP_code_py\\maximize_PD.py:80: RuntimeWarning: divide by zero encountered in log\n",
      "  return -np.sum(r.T * np.log(1 / (1 + np.exp(-phi_w))) + (1 - r).T * np.log(1 - 1 / (1 + np.exp(-phi_w))) )\n",
      "C:\\Users\\yxu59\\autumn2024\\codeBase\\JumpGP_code_py\\maximize_PD.py:80: RuntimeWarning: invalid value encountered in multiply\n",
      "  return -np.sum(r.T * np.log(1 / (1 + np.exp(-phi_w))) + (1 - r).T * np.log(1 - 1 / (1 + np.exp(-phi_w))) )\n",
      "C:\\Users\\yxu59\\autumn2024\\codeBase\\JumpGP_code_py\\maximize_PD.py:80: RuntimeWarning: divide by zero encountered in log\n",
      "  return -np.sum(r.T * np.log(1 / (1 + np.exp(-phi_w))) + (1 - r).T * np.log(1 - 1 / (1 + np.exp(-phi_w))) )\n",
      "C:\\Users\\yxu59\\autumn2024\\codeBase\\JumpGP_code_py\\maximize_PD.py:80: RuntimeWarning: invalid value encountered in multiply\n",
      "  return -np.sum(r.T * np.log(1 / (1 + np.exp(-phi_w))) + (1 - r).T * np.log(1 - 1 / (1 + np.exp(-phi_w))) )\n",
      "C:\\Users\\yxu59\\autumn2024\\codeBase\\JumpGP_code_py\\maximize_PD.py:80: RuntimeWarning: divide by zero encountered in log\n",
      "  return -np.sum(r.T * np.log(1 / (1 + np.exp(-phi_w))) + (1 - r).T * np.log(1 - 1 / (1 + np.exp(-phi_w))) )\n",
      "C:\\Users\\yxu59\\autumn2024\\codeBase\\JumpGP_code_py\\maximize_PD.py:80: RuntimeWarning: invalid value encountered in multiply\n",
      "  return -np.sum(r.T * np.log(1 / (1 + np.exp(-phi_w))) + (1 - r).T * np.log(1 - 1 / (1 + np.exp(-phi_w))) )\n"
     ]
    },
    {
     "name": "stdout",
     "output_type": "stream",
     "text": [
      "Plotting results for mode: CEM\n",
      "Initial boundary visualization\n",
      "Plotting results for mode: CEM\n"
     ]
    },
    {
     "name": "stderr",
     "output_type": "stream",
     "text": [
      "C:\\Users\\yxu59\\autumn2024\\codeBase\\JumpGP_code_py\\maximize_PD.py:80: RuntimeWarning: divide by zero encountered in log\n",
      "  return -np.sum(r.T * np.log(1 / (1 + np.exp(-phi_w))) + (1 - r).T * np.log(1 - 1 / (1 + np.exp(-phi_w))) )\n",
      "C:\\Users\\yxu59\\autumn2024\\codeBase\\JumpGP_code_py\\maximize_PD.py:80: RuntimeWarning: invalid value encountered in multiply\n",
      "  return -np.sum(r.T * np.log(1 / (1 + np.exp(-phi_w))) + (1 - r).T * np.log(1 - 1 / (1 + np.exp(-phi_w))) )\n",
      "C:\\Users\\yxu59\\autumn2024\\codeBase\\JumpGP_code_py\\maximize_PD.py:80: RuntimeWarning: divide by zero encountered in log\n",
      "  return -np.sum(r.T * np.log(1 / (1 + np.exp(-phi_w))) + (1 - r).T * np.log(1 - 1 / (1 + np.exp(-phi_w))) )\n",
      "C:\\Users\\yxu59\\autumn2024\\codeBase\\JumpGP_code_py\\maximize_PD.py:80: RuntimeWarning: invalid value encountered in multiply\n",
      "  return -np.sum(r.T * np.log(1 / (1 + np.exp(-phi_w))) + (1 - r).T * np.log(1 - 1 / (1 + np.exp(-phi_w))) )\n",
      "C:\\Users\\yxu59\\autumn2024\\codeBase\\JumpGP_code_py\\maximize_PD.py:80: RuntimeWarning: divide by zero encountered in log\n",
      "  return -np.sum(r.T * np.log(1 / (1 + np.exp(-phi_w))) + (1 - r).T * np.log(1 - 1 / (1 + np.exp(-phi_w))) )\n",
      "C:\\Users\\yxu59\\autumn2024\\codeBase\\JumpGP_code_py\\maximize_PD.py:80: RuntimeWarning: invalid value encountered in multiply\n",
      "  return -np.sum(r.T * np.log(1 / (1 + np.exp(-phi_w))) + (1 - r).T * np.log(1 - 1 / (1 + np.exp(-phi_w))) )\n",
      "C:\\Users\\yxu59\\autumn2024\\codeBase\\JumpGP_code_py\\maximize_PD.py:80: RuntimeWarning: divide by zero encountered in log\n",
      "  return -np.sum(r.T * np.log(1 / (1 + np.exp(-phi_w))) + (1 - r).T * np.log(1 - 1 / (1 + np.exp(-phi_w))) )\n",
      "C:\\Users\\yxu59\\autumn2024\\codeBase\\JumpGP_code_py\\maximize_PD.py:80: RuntimeWarning: invalid value encountered in multiply\n",
      "  return -np.sum(r.T * np.log(1 / (1 + np.exp(-phi_w))) + (1 - r).T * np.log(1 - 1 / (1 + np.exp(-phi_w))) )\n"
     ]
    },
    {
     "name": "stdout",
     "output_type": "stream",
     "text": [
      "Initial boundary visualization\n"
     ]
    },
    {
     "name": "stderr",
     "output_type": "stream",
     "text": [
      "C:\\Users\\yxu59\\autumn2024\\codeBase\\JumpGP_code_py\\maximize_PD.py:80: RuntimeWarning: divide by zero encountered in log\n",
      "  return -np.sum(r.T * np.log(1 / (1 + np.exp(-phi_w))) + (1 - r).T * np.log(1 - 1 / (1 + np.exp(-phi_w))) )\n",
      "C:\\Users\\yxu59\\autumn2024\\codeBase\\JumpGP_code_py\\maximize_PD.py:80: RuntimeWarning: invalid value encountered in multiply\n",
      "  return -np.sum(r.T * np.log(1 / (1 + np.exp(-phi_w))) + (1 - r).T * np.log(1 - 1 / (1 + np.exp(-phi_w))) )\n",
      "C:\\Users\\yxu59\\autumn2024\\codeBase\\JumpGP_code_py\\maximize_PD.py:80: RuntimeWarning: divide by zero encountered in log\n",
      "  return -np.sum(r.T * np.log(1 / (1 + np.exp(-phi_w))) + (1 - r).T * np.log(1 - 1 / (1 + np.exp(-phi_w))) )\n",
      "C:\\Users\\yxu59\\autumn2024\\codeBase\\JumpGP_code_py\\maximize_PD.py:80: RuntimeWarning: invalid value encountered in multiply\n",
      "  return -np.sum(r.T * np.log(1 / (1 + np.exp(-phi_w))) + (1 - r).T * np.log(1 - 1 / (1 + np.exp(-phi_w))) )\n"
     ]
    },
    {
     "name": "stdout",
     "output_type": "stream",
     "text": [
      "Plotting results for mode: CEM\n",
      "Initial boundary visualization\n",
      "Plotting results for mode: CEM\n",
      "Initial boundary visualization\n",
      "Plotting results for mode: CEM\n"
     ]
    },
    {
     "name": "stderr",
     "output_type": "stream",
     "text": [
      "C:\\Users\\yxu59\\autumn2024\\codeBase\\JumpGP_code_py\\maximize_PD.py:80: RuntimeWarning: divide by zero encountered in log\n",
      "  return -np.sum(r.T * np.log(1 / (1 + np.exp(-phi_w))) + (1 - r).T * np.log(1 - 1 / (1 + np.exp(-phi_w))) )\n",
      "C:\\Users\\yxu59\\autumn2024\\codeBase\\JumpGP_code_py\\maximize_PD.py:80: RuntimeWarning: invalid value encountered in multiply\n",
      "  return -np.sum(r.T * np.log(1 / (1 + np.exp(-phi_w))) + (1 - r).T * np.log(1 - 1 / (1 + np.exp(-phi_w))) )\n",
      "C:\\Users\\yxu59\\autumn2024\\codeBase\\JumpGP_code_py\\maximize_PD.py:80: RuntimeWarning: divide by zero encountered in log\n",
      "  return -np.sum(r.T * np.log(1 / (1 + np.exp(-phi_w))) + (1 - r).T * np.log(1 - 1 / (1 + np.exp(-phi_w))) )\n",
      "C:\\Users\\yxu59\\autumn2024\\codeBase\\JumpGP_code_py\\maximize_PD.py:80: RuntimeWarning: invalid value encountered in multiply\n",
      "  return -np.sum(r.T * np.log(1 / (1 + np.exp(-phi_w))) + (1 - r).T * np.log(1 - 1 / (1 + np.exp(-phi_w))) )\n"
     ]
    },
    {
     "name": "stdout",
     "output_type": "stream",
     "text": [
      "Initial boundary visualization\n",
      "Plotting results for mode: CEM\n"
     ]
    },
    {
     "name": "stderr",
     "output_type": "stream",
     "text": [
      "C:\\Users\\yxu59\\autumn2024\\codeBase\\JumpGP_code_py\\maximize_PD.py:80: RuntimeWarning: divide by zero encountered in log\n",
      "  return -np.sum(r.T * np.log(1 / (1 + np.exp(-phi_w))) + (1 - r).T * np.log(1 - 1 / (1 + np.exp(-phi_w))) )\n",
      "C:\\Users\\yxu59\\autumn2024\\codeBase\\JumpGP_code_py\\maximize_PD.py:80: RuntimeWarning: invalid value encountered in multiply\n",
      "  return -np.sum(r.T * np.log(1 / (1 + np.exp(-phi_w))) + (1 - r).T * np.log(1 - 1 / (1 + np.exp(-phi_w))) )\n"
     ]
    },
    {
     "name": "stdout",
     "output_type": "stream",
     "text": [
      "Initial boundary visualization\n",
      "we fail at iteration 0\n",
      "Plotting results for mode: CEM\n"
     ]
    },
    {
     "name": "stderr",
     "output_type": "stream",
     "text": [
      "C:\\Users\\yxu59\\autumn2024\\codeBase\\JumpGP_code_py\\maximize_PD.py:80: RuntimeWarning: divide by zero encountered in log\n",
      "  return -np.sum(r.T * np.log(1 / (1 + np.exp(-phi_w))) + (1 - r).T * np.log(1 - 1 / (1 + np.exp(-phi_w))) )\n",
      "C:\\Users\\yxu59\\autumn2024\\codeBase\\JumpGP_code_py\\maximize_PD.py:80: RuntimeWarning: invalid value encountered in multiply\n",
      "  return -np.sum(r.T * np.log(1 / (1 + np.exp(-phi_w))) + (1 - r).T * np.log(1 - 1 / (1 + np.exp(-phi_w))) )\n"
     ]
    },
    {
     "name": "stdout",
     "output_type": "stream",
     "text": [
      "Initial boundary visualization\n",
      "Plotting results for mode: CEM\n"
     ]
    },
    {
     "name": "stderr",
     "output_type": "stream",
     "text": [
      "C:\\Users\\yxu59\\autumn2024\\codeBase\\JumpGP_code_py\\maximize_PD.py:80: RuntimeWarning: divide by zero encountered in log\n",
      "  return -np.sum(r.T * np.log(1 / (1 + np.exp(-phi_w))) + (1 - r).T * np.log(1 - 1 / (1 + np.exp(-phi_w))) )\n",
      "C:\\Users\\yxu59\\autumn2024\\codeBase\\JumpGP_code_py\\maximize_PD.py:80: RuntimeWarning: invalid value encountered in multiply\n",
      "  return -np.sum(r.T * np.log(1 / (1 + np.exp(-phi_w))) + (1 - r).T * np.log(1 - 1 / (1 + np.exp(-phi_w))) )\n",
      "C:\\Users\\yxu59\\autumn2024\\codeBase\\JumpGP_code_py\\maximize_PD.py:80: RuntimeWarning: divide by zero encountered in log\n",
      "  return -np.sum(r.T * np.log(1 / (1 + np.exp(-phi_w))) + (1 - r).T * np.log(1 - 1 / (1 + np.exp(-phi_w))) )\n",
      "C:\\Users\\yxu59\\autumn2024\\codeBase\\JumpGP_code_py\\maximize_PD.py:80: RuntimeWarning: invalid value encountered in multiply\n",
      "  return -np.sum(r.T * np.log(1 / (1 + np.exp(-phi_w))) + (1 - r).T * np.log(1 - 1 / (1 + np.exp(-phi_w))) )\n"
     ]
    },
    {
     "name": "stdout",
     "output_type": "stream",
     "text": [
      "Initial boundary visualization\n"
     ]
    },
    {
     "name": "stderr",
     "output_type": "stream",
     "text": [
      "C:\\Users\\yxu59\\autumn2024\\codeBase\\JumpGP_code_py\\maximize_PD.py:80: RuntimeWarning: divide by zero encountered in log\n",
      "  return -np.sum(r.T * np.log(1 / (1 + np.exp(-phi_w))) + (1 - r).T * np.log(1 - 1 / (1 + np.exp(-phi_w))) )\n",
      "C:\\Users\\yxu59\\autumn2024\\codeBase\\JumpGP_code_py\\maximize_PD.py:80: RuntimeWarning: invalid value encountered in multiply\n",
      "  return -np.sum(r.T * np.log(1 / (1 + np.exp(-phi_w))) + (1 - r).T * np.log(1 - 1 / (1 + np.exp(-phi_w))) )\n",
      "C:\\Users\\yxu59\\autumn2024\\codeBase\\JumpGP_code_py\\maximize_PD.py:80: RuntimeWarning: divide by zero encountered in log\n",
      "  return -np.sum(r.T * np.log(1 / (1 + np.exp(-phi_w))) + (1 - r).T * np.log(1 - 1 / (1 + np.exp(-phi_w))) )\n",
      "C:\\Users\\yxu59\\autumn2024\\codeBase\\JumpGP_code_py\\maximize_PD.py:80: RuntimeWarning: invalid value encountered in multiply\n",
      "  return -np.sum(r.T * np.log(1 / (1 + np.exp(-phi_w))) + (1 - r).T * np.log(1 - 1 / (1 + np.exp(-phi_w))) )\n",
      "C:\\Users\\yxu59\\autumn2024\\codeBase\\JumpGP_code_py\\maximize_PD.py:80: RuntimeWarning: divide by zero encountered in log\n",
      "  return -np.sum(r.T * np.log(1 / (1 + np.exp(-phi_w))) + (1 - r).T * np.log(1 - 1 / (1 + np.exp(-phi_w))) )\n",
      "C:\\Users\\yxu59\\autumn2024\\codeBase\\JumpGP_code_py\\maximize_PD.py:80: RuntimeWarning: invalid value encountered in multiply\n",
      "  return -np.sum(r.T * np.log(1 / (1 + np.exp(-phi_w))) + (1 - r).T * np.log(1 - 1 / (1 + np.exp(-phi_w))) )\n",
      "C:\\Users\\yxu59\\autumn2024\\codeBase\\JumpGP_code_py\\maximize_PD.py:80: RuntimeWarning: divide by zero encountered in log\n",
      "  return -np.sum(r.T * np.log(1 / (1 + np.exp(-phi_w))) + (1 - r).T * np.log(1 - 1 / (1 + np.exp(-phi_w))) )\n",
      "C:\\Users\\yxu59\\autumn2024\\codeBase\\JumpGP_code_py\\maximize_PD.py:80: RuntimeWarning: invalid value encountered in multiply\n",
      "  return -np.sum(r.T * np.log(1 / (1 + np.exp(-phi_w))) + (1 - r).T * np.log(1 - 1 / (1 + np.exp(-phi_w))) )\n",
      "C:\\Users\\yxu59\\autumn2024\\codeBase\\JumpGP_code_py\\maximize_PD.py:80: RuntimeWarning: divide by zero encountered in log\n",
      "  return -np.sum(r.T * np.log(1 / (1 + np.exp(-phi_w))) + (1 - r).T * np.log(1 - 1 / (1 + np.exp(-phi_w))) )\n",
      "C:\\Users\\yxu59\\autumn2024\\codeBase\\JumpGP_code_py\\maximize_PD.py:80: RuntimeWarning: invalid value encountered in multiply\n",
      "  return -np.sum(r.T * np.log(1 / (1 + np.exp(-phi_w))) + (1 - r).T * np.log(1 - 1 / (1 + np.exp(-phi_w))) )\n",
      "C:\\Users\\yxu59\\autumn2024\\codeBase\\JumpGP_code_py\\maximize_PD.py:80: RuntimeWarning: divide by zero encountered in log\n",
      "  return -np.sum(r.T * np.log(1 / (1 + np.exp(-phi_w))) + (1 - r).T * np.log(1 - 1 / (1 + np.exp(-phi_w))) )\n",
      "C:\\Users\\yxu59\\autumn2024\\codeBase\\JumpGP_code_py\\maximize_PD.py:80: RuntimeWarning: invalid value encountered in multiply\n",
      "  return -np.sum(r.T * np.log(1 / (1 + np.exp(-phi_w))) + (1 - r).T * np.log(1 - 1 / (1 + np.exp(-phi_w))) )\n",
      "C:\\Users\\yxu59\\autumn2024\\codeBase\\JumpGP_code_py\\maximize_PD.py:80: RuntimeWarning: divide by zero encountered in log\n",
      "  return -np.sum(r.T * np.log(1 / (1 + np.exp(-phi_w))) + (1 - r).T * np.log(1 - 1 / (1 + np.exp(-phi_w))) )\n",
      "C:\\Users\\yxu59\\autumn2024\\codeBase\\JumpGP_code_py\\maximize_PD.py:80: RuntimeWarning: invalid value encountered in multiply\n",
      "  return -np.sum(r.T * np.log(1 / (1 + np.exp(-phi_w))) + (1 - r).T * np.log(1 - 1 / (1 + np.exp(-phi_w))) )\n"
     ]
    },
    {
     "name": "stdout",
     "output_type": "stream",
     "text": [
      "Plotting results for mode: CEM\n",
      "Initial boundary visualization\n",
      "Plotting results for mode: CEM\n"
     ]
    },
    {
     "name": "stderr",
     "output_type": "stream",
     "text": [
      "C:\\Users\\yxu59\\autumn2024\\codeBase\\JumpGP_code_py\\maximize_PD.py:80: RuntimeWarning: divide by zero encountered in log\n",
      "  return -np.sum(r.T * np.log(1 / (1 + np.exp(-phi_w))) + (1 - r).T * np.log(1 - 1 / (1 + np.exp(-phi_w))) )\n",
      "C:\\Users\\yxu59\\autumn2024\\codeBase\\JumpGP_code_py\\maximize_PD.py:80: RuntimeWarning: invalid value encountered in multiply\n",
      "  return -np.sum(r.T * np.log(1 / (1 + np.exp(-phi_w))) + (1 - r).T * np.log(1 - 1 / (1 + np.exp(-phi_w))) )\n"
     ]
    },
    {
     "name": "stdout",
     "output_type": "stream",
     "text": [
      "Initial boundary visualization\n",
      "Plotting results for mode: CEM\n",
      "Initial boundary visualization\n",
      "Plotting results for mode: CEM\n"
     ]
    },
    {
     "name": "stderr",
     "output_type": "stream",
     "text": [
      "C:\\Users\\yxu59\\autumn2024\\codeBase\\JumpGP_code_py\\maximize_PD.py:80: RuntimeWarning: divide by zero encountered in log\n",
      "  return -np.sum(r.T * np.log(1 / (1 + np.exp(-phi_w))) + (1 - r).T * np.log(1 - 1 / (1 + np.exp(-phi_w))) )\n",
      "C:\\Users\\yxu59\\autumn2024\\codeBase\\JumpGP_code_py\\maximize_PD.py:80: RuntimeWarning: invalid value encountered in multiply\n",
      "  return -np.sum(r.T * np.log(1 / (1 + np.exp(-phi_w))) + (1 - r).T * np.log(1 - 1 / (1 + np.exp(-phi_w))) )\n",
      "C:\\Users\\yxu59\\autumn2024\\codeBase\\JumpGP_code_py\\maximize_PD.py:80: RuntimeWarning: divide by zero encountered in log\n",
      "  return -np.sum(r.T * np.log(1 / (1 + np.exp(-phi_w))) + (1 - r).T * np.log(1 - 1 / (1 + np.exp(-phi_w))) )\n",
      "C:\\Users\\yxu59\\autumn2024\\codeBase\\JumpGP_code_py\\maximize_PD.py:80: RuntimeWarning: invalid value encountered in multiply\n",
      "  return -np.sum(r.T * np.log(1 / (1 + np.exp(-phi_w))) + (1 - r).T * np.log(1 - 1 / (1 + np.exp(-phi_w))) )\n"
     ]
    },
    {
     "name": "stdout",
     "output_type": "stream",
     "text": [
      "Initial boundary visualization\n"
     ]
    },
    {
     "name": "stderr",
     "output_type": "stream",
     "text": [
      "C:\\Users\\yxu59\\autumn2024\\codeBase\\JumpGP_code_py\\maximize_PD.py:80: RuntimeWarning: divide by zero encountered in log\n",
      "  return -np.sum(r.T * np.log(1 / (1 + np.exp(-phi_w))) + (1 - r).T * np.log(1 - 1 / (1 + np.exp(-phi_w))) )\n",
      "C:\\Users\\yxu59\\autumn2024\\codeBase\\JumpGP_code_py\\maximize_PD.py:80: RuntimeWarning: invalid value encountered in multiply\n",
      "  return -np.sum(r.T * np.log(1 / (1 + np.exp(-phi_w))) + (1 - r).T * np.log(1 - 1 / (1 + np.exp(-phi_w))) )\n"
     ]
    },
    {
     "name": "stdout",
     "output_type": "stream",
     "text": [
      "Plotting results for mode: CEM\n",
      "Initial boundary visualization\n"
     ]
    },
    {
     "name": "stderr",
     "output_type": "stream",
     "text": [
      "C:\\Users\\yxu59\\autumn2024\\codeBase\\JumpGP_code_py\\maximize_PD.py:80: RuntimeWarning: divide by zero encountered in log\n",
      "  return -np.sum(r.T * np.log(1 / (1 + np.exp(-phi_w))) + (1 - r).T * np.log(1 - 1 / (1 + np.exp(-phi_w))) )\n",
      "C:\\Users\\yxu59\\autumn2024\\codeBase\\JumpGP_code_py\\maximize_PD.py:80: RuntimeWarning: invalid value encountered in multiply\n",
      "  return -np.sum(r.T * np.log(1 / (1 + np.exp(-phi_w))) + (1 - r).T * np.log(1 - 1 / (1 + np.exp(-phi_w))) )\n",
      "C:\\Users\\yxu59\\autumn2024\\codeBase\\JumpGP_code_py\\cov\\covSEard.py:24: RuntimeWarning: overflow encountered in exp\n",
      "  sf2 = np.exp(2 * loghyper[D])  # Signal variance\n",
      "C:\\Users\\yxu59\\autumn2024\\codeBase\\JumpGP_code_py\\cov\\covSEard.py:28: RuntimeWarning: divide by zero encountered in divide\n",
      "  K = sf2 * np.exp(-sq_dist(np.diag(1./ell) @ x.T) / 2)\n",
      "C:\\Users\\yxu59\\autumn2024\\codeBase\\JumpGP_code_py\\cov\\sq_dist.py:39: RuntimeWarning: invalid value encountered in subtract\n",
      "  C += (np.tile(b[d, :], (n, 1)) - np.tile(a[d, :].reshape(-1, 1), (1, m))) ** 2\n",
      "C:\\Users\\yxu59\\autumn2024\\codeBase\\JumpGP_code_py\\maximize_PD.py:80: RuntimeWarning: divide by zero encountered in log\n",
      "  return -np.sum(r.T * np.log(1 / (1 + np.exp(-phi_w))) + (1 - r).T * np.log(1 - 1 / (1 + np.exp(-phi_w))) )\n",
      "C:\\Users\\yxu59\\autumn2024\\codeBase\\JumpGP_code_py\\maximize_PD.py:80: RuntimeWarning: invalid value encountered in multiply\n",
      "  return -np.sum(r.T * np.log(1 / (1 + np.exp(-phi_w))) + (1 - r).T * np.log(1 - 1 / (1 + np.exp(-phi_w))) )\n"
     ]
    },
    {
     "name": "stdout",
     "output_type": "stream",
     "text": [
      "we fail at iteration 1\n",
      "Plotting results for mode: CEM\n",
      "Initial boundary visualization\n"
     ]
    },
    {
     "name": "stderr",
     "output_type": "stream",
     "text": [
      "C:\\Users\\yxu59\\autumn2024\\codeBase\\JumpGP_code_py\\maximize_PD.py:80: RuntimeWarning: divide by zero encountered in log\n",
      "  return -np.sum(r.T * np.log(1 / (1 + np.exp(-phi_w))) + (1 - r).T * np.log(1 - 1 / (1 + np.exp(-phi_w))) )\n",
      "C:\\Users\\yxu59\\autumn2024\\codeBase\\JumpGP_code_py\\maximize_PD.py:80: RuntimeWarning: invalid value encountered in multiply\n",
      "  return -np.sum(r.T * np.log(1 / (1 + np.exp(-phi_w))) + (1 - r).T * np.log(1 - 1 / (1 + np.exp(-phi_w))) )\n",
      "C:\\Users\\yxu59\\autumn2024\\codeBase\\JumpGP_code_py\\maximize_PD.py:80: RuntimeWarning: divide by zero encountered in log\n",
      "  return -np.sum(r.T * np.log(1 / (1 + np.exp(-phi_w))) + (1 - r).T * np.log(1 - 1 / (1 + np.exp(-phi_w))) )\n",
      "C:\\Users\\yxu59\\autumn2024\\codeBase\\JumpGP_code_py\\maximize_PD.py:80: RuntimeWarning: invalid value encountered in multiply\n",
      "  return -np.sum(r.T * np.log(1 / (1 + np.exp(-phi_w))) + (1 - r).T * np.log(1 - 1 / (1 + np.exp(-phi_w))) )\n",
      "C:\\Users\\yxu59\\autumn2024\\codeBase\\JumpGP_code_py\\maximize_PD.py:80: RuntimeWarning: divide by zero encountered in log\n",
      "  return -np.sum(r.T * np.log(1 / (1 + np.exp(-phi_w))) + (1 - r).T * np.log(1 - 1 / (1 + np.exp(-phi_w))) )\n",
      "C:\\Users\\yxu59\\autumn2024\\codeBase\\JumpGP_code_py\\maximize_PD.py:80: RuntimeWarning: invalid value encountered in multiply\n",
      "  return -np.sum(r.T * np.log(1 / (1 + np.exp(-phi_w))) + (1 - r).T * np.log(1 - 1 / (1 + np.exp(-phi_w))) )\n",
      "C:\\Users\\yxu59\\autumn2024\\codeBase\\JumpGP_code_py\\maximize_PD.py:80: RuntimeWarning: divide by zero encountered in log\n",
      "  return -np.sum(r.T * np.log(1 / (1 + np.exp(-phi_w))) + (1 - r).T * np.log(1 - 1 / (1 + np.exp(-phi_w))) )\n",
      "C:\\Users\\yxu59\\autumn2024\\codeBase\\JumpGP_code_py\\maximize_PD.py:80: RuntimeWarning: invalid value encountered in multiply\n",
      "  return -np.sum(r.T * np.log(1 / (1 + np.exp(-phi_w))) + (1 - r).T * np.log(1 - 1 / (1 + np.exp(-phi_w))) )\n",
      "C:\\Users\\yxu59\\autumn2024\\codeBase\\JumpGP_code_py\\maximize_PD.py:80: RuntimeWarning: divide by zero encountered in log\n",
      "  return -np.sum(r.T * np.log(1 / (1 + np.exp(-phi_w))) + (1 - r).T * np.log(1 - 1 / (1 + np.exp(-phi_w))) )\n",
      "C:\\Users\\yxu59\\autumn2024\\codeBase\\JumpGP_code_py\\maximize_PD.py:80: RuntimeWarning: invalid value encountered in multiply\n",
      "  return -np.sum(r.T * np.log(1 / (1 + np.exp(-phi_w))) + (1 - r).T * np.log(1 - 1 / (1 + np.exp(-phi_w))) )\n",
      "C:\\Users\\yxu59\\autumn2024\\codeBase\\JumpGP_code_py\\maximize_PD.py:80: RuntimeWarning: divide by zero encountered in log\n",
      "  return -np.sum(r.T * np.log(1 / (1 + np.exp(-phi_w))) + (1 - r).T * np.log(1 - 1 / (1 + np.exp(-phi_w))) )\n",
      "C:\\Users\\yxu59\\autumn2024\\codeBase\\JumpGP_code_py\\maximize_PD.py:80: RuntimeWarning: invalid value encountered in multiply\n",
      "  return -np.sum(r.T * np.log(1 / (1 + np.exp(-phi_w))) + (1 - r).T * np.log(1 - 1 / (1 + np.exp(-phi_w))) )\n"
     ]
    },
    {
     "name": "stdout",
     "output_type": "stream",
     "text": [
      "Plotting results for mode: CEM\n",
      "Initial boundary visualization\n"
     ]
    },
    {
     "name": "stderr",
     "output_type": "stream",
     "text": [
      "C:\\Users\\yxu59\\autumn2024\\codeBase\\JumpGP_code_py\\maximize_PD.py:80: RuntimeWarning: divide by zero encountered in log\n",
      "  return -np.sum(r.T * np.log(1 / (1 + np.exp(-phi_w))) + (1 - r).T * np.log(1 - 1 / (1 + np.exp(-phi_w))) )\n",
      "C:\\Users\\yxu59\\autumn2024\\codeBase\\JumpGP_code_py\\maximize_PD.py:80: RuntimeWarning: invalid value encountered in multiply\n",
      "  return -np.sum(r.T * np.log(1 / (1 + np.exp(-phi_w))) + (1 - r).T * np.log(1 - 1 / (1 + np.exp(-phi_w))) )\n"
     ]
    },
    {
     "name": "stdout",
     "output_type": "stream",
     "text": [
      "Plotting results for mode: CEM\n",
      "Initial boundary visualization\n",
      "we fail at iteration 0\n",
      "Plotting results for mode: CEM\n"
     ]
    },
    {
     "name": "stderr",
     "output_type": "stream",
     "text": [
      "C:\\Users\\yxu59\\autumn2024\\codeBase\\JumpGP_code_py\\cov\\covSEard.py:23: RuntimeWarning: overflow encountered in exp\n",
      "  ell = np.exp(loghyper[:D])  # Characteristic length scales\n",
      "C:\\Users\\yxu59\\autumn2024\\codeBase\\JumpGP_code_py\\cov\\covSEard.py:24: RuntimeWarning: overflow encountered in exp\n",
      "  sf2 = np.exp(2 * loghyper[D])  # Signal variance\n",
      "C:\\Users\\yxu59\\autumn2024\\codeBase\\JumpGP_code_py\\cov\\covSEard.py:28: RuntimeWarning: divide by zero encountered in divide\n",
      "  K = sf2 * np.exp(-sq_dist(np.diag(1./ell) @ x.T) / 2)\n",
      "C:\\Users\\yxu59\\autumn2024\\codeBase\\JumpGP_code_py\\cov\\sq_dist.py:39: RuntimeWarning: invalid value encountered in subtract\n",
      "  C += (np.tile(b[d, :], (n, 1)) - np.tile(a[d, :].reshape(-1, 1), (1, m))) ** 2\n",
      "C:\\Users\\yxu59\\autumn2024\\codeBase\\JumpGP_code_py\\maximize_PD.py:80: RuntimeWarning: divide by zero encountered in log\n",
      "  return -np.sum(r.T * np.log(1 / (1 + np.exp(-phi_w))) + (1 - r).T * np.log(1 - 1 / (1 + np.exp(-phi_w))) )\n",
      "C:\\Users\\yxu59\\autumn2024\\codeBase\\JumpGP_code_py\\maximize_PD.py:80: RuntimeWarning: invalid value encountered in multiply\n",
      "  return -np.sum(r.T * np.log(1 / (1 + np.exp(-phi_w))) + (1 - r).T * np.log(1 - 1 / (1 + np.exp(-phi_w))) )\n"
     ]
    },
    {
     "name": "stdout",
     "output_type": "stream",
     "text": [
      "Initial boundary visualization\n",
      "Plotting results for mode: CEM\n"
     ]
    },
    {
     "name": "stderr",
     "output_type": "stream",
     "text": [
      "C:\\Users\\yxu59\\autumn2024\\codeBase\\JumpGP_code_py\\maximize_PD.py:80: RuntimeWarning: divide by zero encountered in log\n",
      "  return -np.sum(r.T * np.log(1 / (1 + np.exp(-phi_w))) + (1 - r).T * np.log(1 - 1 / (1 + np.exp(-phi_w))) )\n",
      "C:\\Users\\yxu59\\autumn2024\\codeBase\\JumpGP_code_py\\maximize_PD.py:80: RuntimeWarning: invalid value encountered in multiply\n",
      "  return -np.sum(r.T * np.log(1 / (1 + np.exp(-phi_w))) + (1 - r).T * np.log(1 - 1 / (1 + np.exp(-phi_w))) )\n",
      "C:\\Users\\yxu59\\autumn2024\\codeBase\\JumpGP_code_py\\maximize_PD.py:80: RuntimeWarning: divide by zero encountered in log\n",
      "  return -np.sum(r.T * np.log(1 / (1 + np.exp(-phi_w))) + (1 - r).T * np.log(1 - 1 / (1 + np.exp(-phi_w))) )\n",
      "C:\\Users\\yxu59\\autumn2024\\codeBase\\JumpGP_code_py\\maximize_PD.py:80: RuntimeWarning: invalid value encountered in multiply\n",
      "  return -np.sum(r.T * np.log(1 / (1 + np.exp(-phi_w))) + (1 - r).T * np.log(1 - 1 / (1 + np.exp(-phi_w))) )\n",
      "C:\\Users\\yxu59\\autumn2024\\codeBase\\JumpGP_code_py\\maximize_PD.py:80: RuntimeWarning: divide by zero encountered in log\n",
      "  return -np.sum(r.T * np.log(1 / (1 + np.exp(-phi_w))) + (1 - r).T * np.log(1 - 1 / (1 + np.exp(-phi_w))) )\n",
      "C:\\Users\\yxu59\\autumn2024\\codeBase\\JumpGP_code_py\\maximize_PD.py:80: RuntimeWarning: invalid value encountered in multiply\n",
      "  return -np.sum(r.T * np.log(1 / (1 + np.exp(-phi_w))) + (1 - r).T * np.log(1 - 1 / (1 + np.exp(-phi_w))) )\n"
     ]
    },
    {
     "name": "stdout",
     "output_type": "stream",
     "text": [
      "Initial boundary visualization\n"
     ]
    },
    {
     "name": "stderr",
     "output_type": "stream",
     "text": [
      "C:\\Users\\yxu59\\autumn2024\\codeBase\\JumpGP_code_py\\maximize_PD.py:80: RuntimeWarning: divide by zero encountered in log\n",
      "  return -np.sum(r.T * np.log(1 / (1 + np.exp(-phi_w))) + (1 - r).T * np.log(1 - 1 / (1 + np.exp(-phi_w))) )\n",
      "C:\\Users\\yxu59\\autumn2024\\codeBase\\JumpGP_code_py\\maximize_PD.py:80: RuntimeWarning: invalid value encountered in multiply\n",
      "  return -np.sum(r.T * np.log(1 / (1 + np.exp(-phi_w))) + (1 - r).T * np.log(1 - 1 / (1 + np.exp(-phi_w))) )\n",
      "C:\\Users\\yxu59\\autumn2024\\codeBase\\JumpGP_code_py\\maximize_PD.py:80: RuntimeWarning: divide by zero encountered in log\n",
      "  return -np.sum(r.T * np.log(1 / (1 + np.exp(-phi_w))) + (1 - r).T * np.log(1 - 1 / (1 + np.exp(-phi_w))) )\n",
      "C:\\Users\\yxu59\\autumn2024\\codeBase\\JumpGP_code_py\\maximize_PD.py:80: RuntimeWarning: invalid value encountered in multiply\n",
      "  return -np.sum(r.T * np.log(1 / (1 + np.exp(-phi_w))) + (1 - r).T * np.log(1 - 1 / (1 + np.exp(-phi_w))) )\n",
      "C:\\Users\\yxu59\\autumn2024\\codeBase\\JumpGP_code_py\\maximize_PD.py:80: RuntimeWarning: divide by zero encountered in log\n",
      "  return -np.sum(r.T * np.log(1 / (1 + np.exp(-phi_w))) + (1 - r).T * np.log(1 - 1 / (1 + np.exp(-phi_w))) )\n",
      "C:\\Users\\yxu59\\autumn2024\\codeBase\\JumpGP_code_py\\maximize_PD.py:80: RuntimeWarning: invalid value encountered in multiply\n",
      "  return -np.sum(r.T * np.log(1 / (1 + np.exp(-phi_w))) + (1 - r).T * np.log(1 - 1 / (1 + np.exp(-phi_w))) )\n",
      "C:\\Users\\yxu59\\autumn2024\\codeBase\\JumpGP_code_py\\maximize_PD.py:80: RuntimeWarning: divide by zero encountered in log\n",
      "  return -np.sum(r.T * np.log(1 / (1 + np.exp(-phi_w))) + (1 - r).T * np.log(1 - 1 / (1 + np.exp(-phi_w))) )\n",
      "C:\\Users\\yxu59\\autumn2024\\codeBase\\JumpGP_code_py\\maximize_PD.py:80: RuntimeWarning: invalid value encountered in multiply\n",
      "  return -np.sum(r.T * np.log(1 / (1 + np.exp(-phi_w))) + (1 - r).T * np.log(1 - 1 / (1 + np.exp(-phi_w))) )\n",
      "C:\\Users\\yxu59\\autumn2024\\codeBase\\JumpGP_code_py\\maximize_PD.py:80: RuntimeWarning: divide by zero encountered in log\n",
      "  return -np.sum(r.T * np.log(1 / (1 + np.exp(-phi_w))) + (1 - r).T * np.log(1 - 1 / (1 + np.exp(-phi_w))) )\n",
      "C:\\Users\\yxu59\\autumn2024\\codeBase\\JumpGP_code_py\\maximize_PD.py:80: RuntimeWarning: invalid value encountered in multiply\n",
      "  return -np.sum(r.T * np.log(1 / (1 + np.exp(-phi_w))) + (1 - r).T * np.log(1 - 1 / (1 + np.exp(-phi_w))) )\n",
      "C:\\Users\\yxu59\\autumn2024\\codeBase\\JumpGP_code_py\\maximize_PD.py:80: RuntimeWarning: divide by zero encountered in log\n",
      "  return -np.sum(r.T * np.log(1 / (1 + np.exp(-phi_w))) + (1 - r).T * np.log(1 - 1 / (1 + np.exp(-phi_w))) )\n",
      "C:\\Users\\yxu59\\autumn2024\\codeBase\\JumpGP_code_py\\maximize_PD.py:80: RuntimeWarning: invalid value encountered in multiply\n",
      "  return -np.sum(r.T * np.log(1 / (1 + np.exp(-phi_w))) + (1 - r).T * np.log(1 - 1 / (1 + np.exp(-phi_w))) )\n",
      "C:\\Users\\yxu59\\autumn2024\\codeBase\\JumpGP_code_py\\maximize_PD.py:80: RuntimeWarning: divide by zero encountered in log\n",
      "  return -np.sum(r.T * np.log(1 / (1 + np.exp(-phi_w))) + (1 - r).T * np.log(1 - 1 / (1 + np.exp(-phi_w))) )\n",
      "C:\\Users\\yxu59\\autumn2024\\codeBase\\JumpGP_code_py\\maximize_PD.py:80: RuntimeWarning: invalid value encountered in multiply\n",
      "  return -np.sum(r.T * np.log(1 / (1 + np.exp(-phi_w))) + (1 - r).T * np.log(1 - 1 / (1 + np.exp(-phi_w))) )\n"
     ]
    },
    {
     "name": "stdout",
     "output_type": "stream",
     "text": [
      "Plotting results for mode: CEM\n",
      "Initial boundary visualization\n",
      "Plotting results for mode: CEM\n"
     ]
    },
    {
     "name": "stderr",
     "output_type": "stream",
     "text": [
      "C:\\Users\\yxu59\\autumn2024\\codeBase\\JumpGP_code_py\\maximize_PD.py:80: RuntimeWarning: divide by zero encountered in log\n",
      "  return -np.sum(r.T * np.log(1 / (1 + np.exp(-phi_w))) + (1 - r).T * np.log(1 - 1 / (1 + np.exp(-phi_w))) )\n",
      "C:\\Users\\yxu59\\autumn2024\\codeBase\\JumpGP_code_py\\maximize_PD.py:80: RuntimeWarning: invalid value encountered in multiply\n",
      "  return -np.sum(r.T * np.log(1 / (1 + np.exp(-phi_w))) + (1 - r).T * np.log(1 - 1 / (1 + np.exp(-phi_w))) )\n",
      "C:\\Users\\yxu59\\autumn2024\\codeBase\\JumpGP_code_py\\maximize_PD.py:80: RuntimeWarning: divide by zero encountered in log\n",
      "  return -np.sum(r.T * np.log(1 / (1 + np.exp(-phi_w))) + (1 - r).T * np.log(1 - 1 / (1 + np.exp(-phi_w))) )\n",
      "C:\\Users\\yxu59\\autumn2024\\codeBase\\JumpGP_code_py\\maximize_PD.py:80: RuntimeWarning: invalid value encountered in multiply\n",
      "  return -np.sum(r.T * np.log(1 / (1 + np.exp(-phi_w))) + (1 - r).T * np.log(1 - 1 / (1 + np.exp(-phi_w))) )\n",
      "C:\\Users\\yxu59\\autumn2024\\codeBase\\JumpGP_code_py\\maximize_PD.py:80: RuntimeWarning: divide by zero encountered in log\n",
      "  return -np.sum(r.T * np.log(1 / (1 + np.exp(-phi_w))) + (1 - r).T * np.log(1 - 1 / (1 + np.exp(-phi_w))) )\n",
      "C:\\Users\\yxu59\\autumn2024\\codeBase\\JumpGP_code_py\\maximize_PD.py:80: RuntimeWarning: invalid value encountered in multiply\n",
      "  return -np.sum(r.T * np.log(1 / (1 + np.exp(-phi_w))) + (1 - r).T * np.log(1 - 1 / (1 + np.exp(-phi_w))) )\n"
     ]
    },
    {
     "name": "stdout",
     "output_type": "stream",
     "text": [
      "Initial boundary visualization\n"
     ]
    },
    {
     "name": "stderr",
     "output_type": "stream",
     "text": [
      "C:\\Users\\yxu59\\autumn2024\\codeBase\\JumpGP_code_py\\maximize_PD.py:80: RuntimeWarning: divide by zero encountered in log\n",
      "  return -np.sum(r.T * np.log(1 / (1 + np.exp(-phi_w))) + (1 - r).T * np.log(1 - 1 / (1 + np.exp(-phi_w))) )\n",
      "C:\\Users\\yxu59\\autumn2024\\codeBase\\JumpGP_code_py\\maximize_PD.py:80: RuntimeWarning: invalid value encountered in multiply\n",
      "  return -np.sum(r.T * np.log(1 / (1 + np.exp(-phi_w))) + (1 - r).T * np.log(1 - 1 / (1 + np.exp(-phi_w))) )\n",
      "C:\\Users\\yxu59\\autumn2024\\codeBase\\JumpGP_code_py\\maximize_PD.py:80: RuntimeWarning: divide by zero encountered in log\n",
      "  return -np.sum(r.T * np.log(1 / (1 + np.exp(-phi_w))) + (1 - r).T * np.log(1 - 1 / (1 + np.exp(-phi_w))) )\n",
      "C:\\Users\\yxu59\\autumn2024\\codeBase\\JumpGP_code_py\\maximize_PD.py:80: RuntimeWarning: invalid value encountered in multiply\n",
      "  return -np.sum(r.T * np.log(1 / (1 + np.exp(-phi_w))) + (1 - r).T * np.log(1 - 1 / (1 + np.exp(-phi_w))) )\n",
      "C:\\Users\\yxu59\\autumn2024\\codeBase\\JumpGP_code_py\\maximize_PD.py:80: RuntimeWarning: divide by zero encountered in log\n",
      "  return -np.sum(r.T * np.log(1 / (1 + np.exp(-phi_w))) + (1 - r).T * np.log(1 - 1 / (1 + np.exp(-phi_w))) )\n",
      "C:\\Users\\yxu59\\autumn2024\\codeBase\\JumpGP_code_py\\maximize_PD.py:80: RuntimeWarning: invalid value encountered in multiply\n",
      "  return -np.sum(r.T * np.log(1 / (1 + np.exp(-phi_w))) + (1 - r).T * np.log(1 - 1 / (1 + np.exp(-phi_w))) )\n",
      "C:\\Users\\yxu59\\autumn2024\\codeBase\\JumpGP_code_py\\maximize_PD.py:80: RuntimeWarning: divide by zero encountered in log\n",
      "  return -np.sum(r.T * np.log(1 / (1 + np.exp(-phi_w))) + (1 - r).T * np.log(1 - 1 / (1 + np.exp(-phi_w))) )\n",
      "C:\\Users\\yxu59\\autumn2024\\codeBase\\JumpGP_code_py\\maximize_PD.py:80: RuntimeWarning: invalid value encountered in multiply\n",
      "  return -np.sum(r.T * np.log(1 / (1 + np.exp(-phi_w))) + (1 - r).T * np.log(1 - 1 / (1 + np.exp(-phi_w))) )\n",
      "C:\\Users\\yxu59\\autumn2024\\codeBase\\JumpGP_code_py\\maximize_PD.py:80: RuntimeWarning: divide by zero encountered in log\n",
      "  return -np.sum(r.T * np.log(1 / (1 + np.exp(-phi_w))) + (1 - r).T * np.log(1 - 1 / (1 + np.exp(-phi_w))) )\n",
      "C:\\Users\\yxu59\\autumn2024\\codeBase\\JumpGP_code_py\\maximize_PD.py:80: RuntimeWarning: invalid value encountered in multiply\n",
      "  return -np.sum(r.T * np.log(1 / (1 + np.exp(-phi_w))) + (1 - r).T * np.log(1 - 1 / (1 + np.exp(-phi_w))) )\n",
      "C:\\Users\\yxu59\\autumn2024\\codeBase\\JumpGP_code_py\\maximize_PD.py:80: RuntimeWarning: divide by zero encountered in log\n",
      "  return -np.sum(r.T * np.log(1 / (1 + np.exp(-phi_w))) + (1 - r).T * np.log(1 - 1 / (1 + np.exp(-phi_w))) )\n",
      "C:\\Users\\yxu59\\autumn2024\\codeBase\\JumpGP_code_py\\maximize_PD.py:80: RuntimeWarning: invalid value encountered in multiply\n",
      "  return -np.sum(r.T * np.log(1 / (1 + np.exp(-phi_w))) + (1 - r).T * np.log(1 - 1 / (1 + np.exp(-phi_w))) )\n",
      "C:\\Users\\yxu59\\autumn2024\\codeBase\\JumpGP_code_py\\maximize_PD.py:80: RuntimeWarning: divide by zero encountered in log\n",
      "  return -np.sum(r.T * np.log(1 / (1 + np.exp(-phi_w))) + (1 - r).T * np.log(1 - 1 / (1 + np.exp(-phi_w))) )\n",
      "C:\\Users\\yxu59\\autumn2024\\codeBase\\JumpGP_code_py\\maximize_PD.py:80: RuntimeWarning: invalid value encountered in multiply\n",
      "  return -np.sum(r.T * np.log(1 / (1 + np.exp(-phi_w))) + (1 - r).T * np.log(1 - 1 / (1 + np.exp(-phi_w))) )\n",
      "C:\\Users\\yxu59\\autumn2024\\codeBase\\JumpGP_code_py\\maximize_PD.py:80: RuntimeWarning: divide by zero encountered in log\n",
      "  return -np.sum(r.T * np.log(1 / (1 + np.exp(-phi_w))) + (1 - r).T * np.log(1 - 1 / (1 + np.exp(-phi_w))) )\n",
      "C:\\Users\\yxu59\\autumn2024\\codeBase\\JumpGP_code_py\\maximize_PD.py:80: RuntimeWarning: invalid value encountered in multiply\n",
      "  return -np.sum(r.T * np.log(1 / (1 + np.exp(-phi_w))) + (1 - r).T * np.log(1 - 1 / (1 + np.exp(-phi_w))) )\n"
     ]
    },
    {
     "name": "stdout",
     "output_type": "stream",
     "text": [
      "Plotting results for mode: CEM\n",
      "Initial boundary visualization\n"
     ]
    },
    {
     "name": "stderr",
     "output_type": "stream",
     "text": [
      "C:\\Users\\yxu59\\autumn2024\\codeBase\\JumpGP_code_py\\maximize_PD.py:80: RuntimeWarning: divide by zero encountered in log\n",
      "  return -np.sum(r.T * np.log(1 / (1 + np.exp(-phi_w))) + (1 - r).T * np.log(1 - 1 / (1 + np.exp(-phi_w))) )\n",
      "C:\\Users\\yxu59\\autumn2024\\codeBase\\JumpGP_code_py\\maximize_PD.py:80: RuntimeWarning: invalid value encountered in multiply\n",
      "  return -np.sum(r.T * np.log(1 / (1 + np.exp(-phi_w))) + (1 - r).T * np.log(1 - 1 / (1 + np.exp(-phi_w))) )\n",
      "C:\\Users\\yxu59\\autumn2024\\codeBase\\JumpGP_code_py\\maximize_PD.py:80: RuntimeWarning: divide by zero encountered in log\n",
      "  return -np.sum(r.T * np.log(1 / (1 + np.exp(-phi_w))) + (1 - r).T * np.log(1 - 1 / (1 + np.exp(-phi_w))) )\n",
      "C:\\Users\\yxu59\\autumn2024\\codeBase\\JumpGP_code_py\\maximize_PD.py:80: RuntimeWarning: invalid value encountered in multiply\n",
      "  return -np.sum(r.T * np.log(1 / (1 + np.exp(-phi_w))) + (1 - r).T * np.log(1 - 1 / (1 + np.exp(-phi_w))) )\n",
      "C:\\Users\\yxu59\\autumn2024\\codeBase\\JumpGP_code_py\\maximize_PD.py:80: RuntimeWarning: divide by zero encountered in log\n",
      "  return -np.sum(r.T * np.log(1 / (1 + np.exp(-phi_w))) + (1 - r).T * np.log(1 - 1 / (1 + np.exp(-phi_w))) )\n",
      "C:\\Users\\yxu59\\autumn2024\\codeBase\\JumpGP_code_py\\maximize_PD.py:80: RuntimeWarning: invalid value encountered in multiply\n",
      "  return -np.sum(r.T * np.log(1 / (1 + np.exp(-phi_w))) + (1 - r).T * np.log(1 - 1 / (1 + np.exp(-phi_w))) )\n",
      "C:\\Users\\yxu59\\autumn2024\\codeBase\\JumpGP_code_py\\maximize_PD.py:80: RuntimeWarning: divide by zero encountered in log\n",
      "  return -np.sum(r.T * np.log(1 / (1 + np.exp(-phi_w))) + (1 - r).T * np.log(1 - 1 / (1 + np.exp(-phi_w))) )\n",
      "C:\\Users\\yxu59\\autumn2024\\codeBase\\JumpGP_code_py\\maximize_PD.py:80: RuntimeWarning: invalid value encountered in multiply\n",
      "  return -np.sum(r.T * np.log(1 / (1 + np.exp(-phi_w))) + (1 - r).T * np.log(1 - 1 / (1 + np.exp(-phi_w))) )\n",
      "C:\\Users\\yxu59\\autumn2024\\codeBase\\JumpGP_code_py\\maximize_PD.py:80: RuntimeWarning: divide by zero encountered in log\n",
      "  return -np.sum(r.T * np.log(1 / (1 + np.exp(-phi_w))) + (1 - r).T * np.log(1 - 1 / (1 + np.exp(-phi_w))) )\n",
      "C:\\Users\\yxu59\\autumn2024\\codeBase\\JumpGP_code_py\\maximize_PD.py:80: RuntimeWarning: invalid value encountered in multiply\n",
      "  return -np.sum(r.T * np.log(1 / (1 + np.exp(-phi_w))) + (1 - r).T * np.log(1 - 1 / (1 + np.exp(-phi_w))) )\n"
     ]
    },
    {
     "name": "stdout",
     "output_type": "stream",
     "text": [
      "Plotting results for mode: CEM\n"
     ]
    },
    {
     "name": "stderr",
     "output_type": "stream",
     "text": [
      "C:\\Users\\yxu59\\autumn2024\\codeBase\\JumpGP_code_py\\maximize_PD.py:80: RuntimeWarning: divide by zero encountered in log\n",
      "  return -np.sum(r.T * np.log(1 / (1 + np.exp(-phi_w))) + (1 - r).T * np.log(1 - 1 / (1 + np.exp(-phi_w))) )\n",
      "C:\\Users\\yxu59\\autumn2024\\codeBase\\JumpGP_code_py\\maximize_PD.py:80: RuntimeWarning: invalid value encountered in multiply\n",
      "  return -np.sum(r.T * np.log(1 / (1 + np.exp(-phi_w))) + (1 - r).T * np.log(1 - 1 / (1 + np.exp(-phi_w))) )\n",
      "C:\\Users\\yxu59\\autumn2024\\codeBase\\JumpGP_code_py\\maximize_PD.py:80: RuntimeWarning: divide by zero encountered in log\n",
      "  return -np.sum(r.T * np.log(1 / (1 + np.exp(-phi_w))) + (1 - r).T * np.log(1 - 1 / (1 + np.exp(-phi_w))) )\n",
      "C:\\Users\\yxu59\\autumn2024\\codeBase\\JumpGP_code_py\\maximize_PD.py:80: RuntimeWarning: invalid value encountered in multiply\n",
      "  return -np.sum(r.T * np.log(1 / (1 + np.exp(-phi_w))) + (1 - r).T * np.log(1 - 1 / (1 + np.exp(-phi_w))) )\n",
      "C:\\Users\\yxu59\\autumn2024\\codeBase\\JumpGP_code_py\\maximize_PD.py:80: RuntimeWarning: divide by zero encountered in log\n",
      "  return -np.sum(r.T * np.log(1 / (1 + np.exp(-phi_w))) + (1 - r).T * np.log(1 - 1 / (1 + np.exp(-phi_w))) )\n",
      "C:\\Users\\yxu59\\autumn2024\\codeBase\\JumpGP_code_py\\maximize_PD.py:80: RuntimeWarning: invalid value encountered in multiply\n",
      "  return -np.sum(r.T * np.log(1 / (1 + np.exp(-phi_w))) + (1 - r).T * np.log(1 - 1 / (1 + np.exp(-phi_w))) )\n",
      "C:\\Users\\yxu59\\autumn2024\\codeBase\\JumpGP_code_py\\maximize_PD.py:80: RuntimeWarning: divide by zero encountered in log\n",
      "  return -np.sum(r.T * np.log(1 / (1 + np.exp(-phi_w))) + (1 - r).T * np.log(1 - 1 / (1 + np.exp(-phi_w))) )\n",
      "C:\\Users\\yxu59\\autumn2024\\codeBase\\JumpGP_code_py\\maximize_PD.py:80: RuntimeWarning: invalid value encountered in multiply\n",
      "  return -np.sum(r.T * np.log(1 / (1 + np.exp(-phi_w))) + (1 - r).T * np.log(1 - 1 / (1 + np.exp(-phi_w))) )\n"
     ]
    },
    {
     "data": {
      "text/plain": [
       "<Figure size 640x480 with 0 Axes>"
      ]
     },
     "metadata": {},
     "output_type": "display_data"
    }
   ],
   "source": [
    "groups = []\n",
    "# xs = points\n",
    "for j in range(xs.shape[0]):\n",
    "    xt = xs[j, :]\n",
    "\n",
    "    # 找到k个最近邻\n",
    "    nbrs = NearestNeighbors(n_neighbors=50, algorithm='auto').fit(x)\n",
    "    idx = nbrs.kneighbors([xt], return_distance=False)[0]\n",
    "    lx, ly = x[idx, :], y[idx]\n",
    "    ly = ly.reshape(-1, 1)\n",
    "    xt = xt.reshape(1, -1)\n",
    "\n",
    "    # 选择JumpGP函数\n",
    "    mu_t, sig2_t, model, h3 = JumpGP_QD(lx, ly, xt, 'CEM', True)\n",
    "    r_flat = model['r'].flatten()\n",
    "    true_idx_set = set(idx[r_flat])\n",
    "    groups.append(true_idx_set)"
   ]
  },
  {
   "cell_type": "code",
   "execution_count": 62,
   "id": "2e1e3006-4c84-4a55-9915-21c57ab68b86",
   "metadata": {},
   "outputs": [
    {
     "data": {
      "text/plain": [
       "100"
      ]
     },
     "execution_count": 62,
     "metadata": {},
     "output_type": "execute_result"
    }
   ],
   "source": [
    "len(origin)"
   ]
  },
  {
   "cell_type": "code",
   "execution_count": 92,
   "id": "7db6c910-b194-4e61-a1f6-a7ce92ae740e",
   "metadata": {},
   "outputs": [],
   "source": [
    "origin = groups.copy()"
   ]
  },
  {
   "cell_type": "code",
   "execution_count": null,
   "id": "dca6d77d-1f31-4280-934c-3182a047d482",
   "metadata": {},
   "outputs": [],
   "source": []
  },
  {
   "cell_type": "code",
   "execution_count": 101,
   "id": "f452b4d0-92fc-45fc-95f3-453f6607f683",
   "metadata": {},
   "outputs": [
    {
     "name": "stdout",
     "output_type": "stream",
     "text": [
      "49\n"
     ]
    }
   ],
   "source": [
    "groups1 = origin.copy()\n",
    "print(len(groups1))\n",
    "tau = 7\n",
    "merged_groups = merge_groups(groups1, tau)"
   ]
  },
  {
   "cell_type": "code",
   "execution_count": 102,
   "id": "0fffffcb-5fd0-49a9-ab6a-ff2adc8eabeb",
   "metadata": {},
   "outputs": [
    {
     "data": {
      "text/plain": [
       "49"
      ]
     },
     "execution_count": 102,
     "metadata": {},
     "output_type": "execute_result"
    }
   ],
   "source": [
    "len(origin)"
   ]
  },
  {
   "cell_type": "code",
   "execution_count": 103,
   "id": "947279fc-bd07-4db1-be50-cf97d034ac8c",
   "metadata": {},
   "outputs": [
    {
     "data": {
      "text/plain": [
       "9"
      ]
     },
     "execution_count": 103,
     "metadata": {},
     "output_type": "execute_result"
    }
   ],
   "source": [
    "len(merged_groups)"
   ]
  },
  {
   "cell_type": "code",
   "execution_count": 104,
   "id": "0fcb9e83-319b-442f-9f66-4f2a74163769",
   "metadata": {},
   "outputs": [
    {
     "data": {
      "image/png": "[encoded data removed]",
      "text/plain": [
       "<Figure size 640x480 with 1 Axes>"
      ]
     },
     "metadata": {},
     "output_type": "display_data"
    }
   ],
   "source": [
    "import matplotlib.pyplot as plt\n",
    "import numpy as np\n",
    "\n",
    "# 假设 yt, L, gx, merged_groups, x, lx 已定义\n",
    "plt.imshow(np.reshape(yt, (L, L)), cmap='gray', extent=(gx[0], gx[-1], gx[-1], gx[0]))\n",
    "\n",
    "# 使用不同的颜色给每个组\n",
    "colors = plt.cm.rainbow(np.linspace(0, 1, len(merged_groups)))  # 选择一个颜色映射，如 'rainbow'\n",
    "\n",
    "for i, group in enumerate(merged_groups):\n",
    "    idx = list(group)\n",
    "    plt.scatter(x[idx, 0], x[idx, 1], color=colors[i], marker='+', s=70, label=f'Group {i+1}')\n",
    "plt.scatter(xs[:, 0], xs[:, 1], color='c', marker='o', s=100, label=f'Group {i+1}')\n",
    "\n",
    "# plt.legend()\n",
    "num_points = 50\n",
    "plt.savefig(f'./results/hier/hier{caseno}_tau{tau}_rand{rand}_num{num_points}.jpg', dpi=300, bbox_inches='tight')\n",
    "plt.show()\n",
    "\n"
   ]
  },
  {
   "cell_type": "code",
   "execution_count": 53,
   "id": "120c6cee-8fb5-45cc-aef8-58ff9174c92e",
   "metadata": {},
   "outputs": [
    {
     "data": {
      "text/plain": [
       "8"
      ]
     },
     "execution_count": 53,
     "metadata": {},
     "output_type": "execute_result"
    }
   ],
   "source": [
    "len(groups)"
   ]
  },
  {
   "cell_type": "code",
   "execution_count": 77,
   "id": "b3ddb9df-cced-4b4f-a354-a898399cdee2",
   "metadata": {},
   "outputs": [
    {
     "data": {
      "text/plain": [
       "(50, 2)"
      ]
     },
     "execution_count": 77,
     "metadata": {},
     "output_type": "execute_result"
    }
   ],
   "source": [
    "xs.shape"
   ]
  },
  {
   "cell_type": "code",
   "execution_count": null,
   "id": "a25c9a51-30f8-4d62-82af-c2a7b13595fa",
   "metadata": {},
   "outputs": [],
   "source": []
  }
 ],
 "metadata": {
  "kernelspec": {
   "display_name": "Python 3 (ipykernel)",
   "language": "python",
   "name": "python3"
  },
  "language_info": {
   "codemirror_mode": {
    "name": "ipython",
    "version": 3
   },
   "file_extension": ".py",
   "mimetype": "text/x-python",
   "name": "python",
   "nbconvert_exporter": "python",
   "pygments_lexer": "ipython3",
   "version": "3.12.7"
  }
 },
 "nbformat": 4,
 "nbformat_minor": 5
}
