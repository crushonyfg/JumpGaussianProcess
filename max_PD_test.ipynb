{
 "cells": [
  {
   "cell_type": "code",
   "execution_count": 85,
   "id": "ec149905-9387-4d87-8ec4-bc701c3f3148",
   "metadata": {},
   "outputs": [],
   "source": [
    "from cov.covSum import covSum\n",
    "from cov.covSEard import covSEard\n",
    "from cov.covNoise import covNoise\n",
    "from lik.loglikelihood import loglikelihood\n",
    "import numpy as np\n",
    "from scipy.optimize import minimize\n",
    "from local_linearfit import local_linearfit\n",
    "from calculate_gx import calculate_gx\n",
    "from maximize_PD import maximize_PD\n",
    "from JumpGP_LD import JumpGP_LD\n",
    "from simulate_case import simulate_case\n",
    "\n",
    "import matplotlib.pyplot as plt\n",
    "from sklearn.neighbors import NearestNeighbors\n",
    "from skimage import measure\n",
    "\n",
    "import numpy as np\n",
    "from scipy.optimize import minimize\n",
    "from scipy.linalg import cholesky\n",
    "from scipy.stats import norm\n",
    "\n",
    "from lik.loglikelihood import loglikelihood\n",
    "from calculate_gx import calculate_gx\n",
    "from cov.covSum import covSum\n",
    "from cov.covSEard import covSEard\n",
    "from cov.covNoise import covNoise\n",
    "from lik.loglikelihood import loglikelihood"
   ]
  },
  {
   "cell_type": "code",
   "execution_count": 86,
   "id": "1002ea18-8320-4874-b83f-0a4f2d2b41f7",
   "metadata": {},
   "outputs": [
    {
     "name": "stdout",
     "output_type": "stream",
     "text": [
      "***loglike:209.51753875841325\n",
      "MATLAB 赋值语句：\n",
      "x = [-1.225158631852229 0.03700571886690396\n",
      "-0.3605310250300522 0.7771436575213644\n",
      "-0.8077893186912565 -0.11294888428782468\n",
      "-1.7150432148499195 -1.0369811239378226\n",
      "-0.6096603965902962 0.5070797720577044\n",
      "2.1619422820069367 -0.6649885383229238\n",
      "-1.2091563763526048 1.5547730146903511\n",
      "-0.7408712649564935 -0.27701076659907703\n",
      "0.97126746708683 1.8678675021443787\n",
      "-0.19573421843461902 -0.9931543272060414\n",
      "-1.556200584118978 0.40052421786163095\n",
      "0.5003826491902008 0.1736282812121666\n",
      "-0.5658431927414014 0.46186234920240715\n",
      "0.1074965195507832 -0.3385661158119187\n",
      "1.4918379335933019 1.6106089564905781\n",
      "-1.3810407050260178 -2.078213642867812\n",
      "1.1071443836089105 -0.1478899236681129\n",
      "1.7588931745423677 1.7173826395052272\n",
      "0.15597088983845306 0.161115379917849\n",
      "-0.5589698640312925 -0.16517382294177915\n",
      "0.18356274161905597 -1.1253981058419382\n",
      "0.5778154725051887 -0.9640147055145757\n",
      "-1.4854787254587336 -0.4784501673636039\n",
      "-3.1585504797405424 -1.7771132926101092\n",
      "0.5451245806720969 -1.070562475877354\n",
      "-1.1671180387621223 1.8684308516965265\n",
      "-0.286453361817748 -1.5571983589112997\n",
      "-0.5067376768580965 -1.5924539915127727\n",
      "1.114361339922948 0.06374997807617033\n",
      "-0.5282833465374202 1.8244571175361493\n",
      "1.2360189490097644 -1.011886208472242\n",
      "0.09632070538129375 -1.2649873292423217\n",
      "0.7211132668517914 -0.8858933900715095\n",
      "0.2638351668196627 1.2697657059946972\n",
      "-1.6848843628353611 -0.11965885421543852\n",
      "0.43129962714923725 -0.2504511291337009\n",
      "-0.5187372014690654 0.584360045995023\n",
      "0.8486098999252036 0.27256159589194434\n",
      "0.4503314615504303 0.3345506895849732\n",
      "-0.7877415820928296 -0.9498544806875426\n",
      "-0.6631811777572235 -0.7883665654020345\n",
      "-0.0044520817574987045 0.5697108567638365\n",
      "-0.6583401768546913 -0.2912874031890932\n",
      "-2.0314359159971995 0.7849446419420367\n",
      "-0.7365800693679145 -0.015820275897673097\n",
      "0.025869808920751882 -0.11470164034361681\n",
      "-1.8173186503675631 1.9890985360067586\n",
      "-0.1007582358027593 0.8994616979060872\n",
      "1.2358833964590104 -0.061129997334669284\n",
      "0.8164522930722211 -1.4276232207259734\n",
      "-1.490986011002182 2.0230861745566284\n",
      "0.38882791486968743 0.33371986556826577\n",
      "-0.18113747868186583 0.13204191060067919\n",
      "-0.9662161117950693 -0.1208120437601982\n",
      "0.017237705922948002 -0.23460703288089566\n",
      "0.38339620078480074 -0.0642393372768051\n",
      "0.39108375858174094 2.307070215569744\n",
      "1.1493995689079874 0.5656275275209718\n",
      "0.14429357620687286 1.762232199874325\n",
      "-0.3476375668099857 0.10850134337656205\n",
      "-0.9295643120784536 -2.397979472292122\n",
      "0.9270522305701759 -0.1773017032231402\n",
      "0.2706388983151287 0.26782786198518005\n",
      "1.0425990355544963 0.773433288890373\n",
      "0.48046083789777366 -0.4258503905981823\n",
      "0.3675666271595349 -0.6995170778801058\n",
      "-0.43338226281800035 -0.45268107609333297\n",
      "-0.9402334475178021 -1.3345950891867144\n",
      "-0.014789575745473786 -1.304747026948376\n",
      "0.7290021019758134 1.0428957528066094\n",
      "1.6282466433883365 0.5685032585949937\n",
      "0.0641225277120996 -2.4544926576226835\n",
      "-0.3720722204812719 -1.2461870268083355\n",
      "0.9703447572020456 0.8169405208599645\n",
      "-0.021934114293873017 -0.7363205974615452\n",
      "-0.36001631348322644 0.26743284357040453\n",
      "0.3146973941780271 -0.16661307194357505\n",
      "-0.43567389613885465 -1.0962161271354858\n",
      "0.12796574871432254 0.16622448034822224\n",
      "1.8709879375102723 -0.2941883984544646\n",
      "-0.9072707234438773 -0.9464739134350374\n",
      "0.2524674276283241 0.10037342978148352\n",
      "0.38109615462065294 -0.6241575216606251\n",
      "-1.067534389945286 1.2555992337448587\n",
      "0.9553484325647906 1.0754864068283385\n",
      "0.09497049706204684 1.1574709814354882\n",
      "0.10590208294117738 1.3677719744460417\n",
      "-1.6182300748803042 0.9865437126553955\n",
      "0.09006445652708966 0.10051225988866822\n",
      "0.5919929123651962 0.5087294250162796\n",
      "-0.2447275729176105 -0.9773115149273929\n",
      "-1.1587991500075705 -0.5336839931226716\n",
      "-2.444571257434317 0.728851783033109\n",
      "-1.6771555757843108 0.14925106528542065\n",
      "-0.23661317652822356 2.8584193630174837\n",
      "-0.9440838469744861 -0.633635918662043\n",
      "1.2406934588198346 1.445458476000675\n",
      "-0.2891870463497077 0.793648571491883\n",
      "0.2128652293976683 0.9518040350297464\n",
      "0.04858374480041978 0.7779209647206778];\n",
      "y = [-0.5098817497776704\n",
      "-1.5376265529808644\n",
      "0.21240567281184702\n",
      "0.724692869788784\n",
      "0.47391167801835904\n",
      "1.0329943813849796\n",
      "-0.4741104044564783\n",
      "-1.2198236132290414\n",
      "-1.453349000167009\n",
      "-0.02104532176030363\n",
      "-0.6955452165351947\n",
      "-0.38117631529526785\n",
      "0.15019486203992324\n",
      "-0.09493262944276515\n",
      "-1.6551902920379948\n",
      "-0.6508509088537724\n",
      "-0.31269952960441744\n",
      "1.8796034283910603\n",
      "0.9401186152027027\n",
      "0.7435154790902453\n",
      "0.6412408387317503\n",
      "-1.2010797683568315\n",
      "-0.44860297479492905\n",
      "-0.7761995049636513\n",
      "-1.4859992700692384\n",
      "0.549556138859875\n",
      "-0.6039766446979826\n",
      "-1.415742356076344\n",
      "1.687140434175974\n",
      "-0.07975338083707256\n",
      "1.196810550942293\n",
      "-1.2056878751748792\n",
      "-0.4972116868203663\n",
      "-0.3450719316183225\n",
      "0.5268546399577626\n",
      "0.20504568625372457\n",
      "-0.07420145659595173\n",
      "0.1290605582673717\n",
      "-0.9669590696777304\n",
      "-0.2846872276594329\n",
      "0.942324238621071\n",
      "-2.117529438514999\n",
      "-1.475436988770109\n",
      "0.33607808424615\n",
      "-0.06463691627833544\n",
      "-0.17391803938589492\n",
      "0.401907085770713\n",
      "0.3853905334759661\n",
      "1.5665801239341086\n",
      "-1.6548022035696233\n",
      "1.2548904049898117\n",
      "0.11098850968949657\n",
      "-0.6414934402478761\n",
      "-1.1260008958622383\n",
      "-1.7107147036932424\n",
      "1.0145318840983921\n",
      "-1.0574726095939504\n",
      "-1.3582797709897305\n",
      "1.602872315970186\n",
      "-1.1332528491841272\n",
      "2.3174604957274925\n",
      "0.6260688417849442\n",
      "-0.5868931638564273\n",
      "0.1916722220647993\n",
      "-0.5262173151134283\n",
      "-0.4870911295077706\n",
      "0.06360081241203565\n",
      "0.7283686493005176\n",
      "-0.0849798373108518\n",
      "0.22893344744099375\n",
      "0.662061026487873\n",
      "-1.539038304611233\n",
      "1.3730357134265725\n",
      "-1.4632999932203477\n",
      "-0.23372624216418666\n",
      "-1.1114253966046785\n",
      "-2.0409558185228387\n",
      "-0.21315011148142474\n",
      "-0.27599272162952904\n",
      "-0.7401060754584436\n",
      "-0.13118096183428593\n",
      "-0.37257509684416784\n",
      "-0.605703960700275\n",
      "-0.4049259325160146\n",
      "-0.40805925059770765\n",
      "1.4093921733910353\n",
      "0.6759608433466178\n",
      "1.1141235400428637\n",
      "-0.7247528254133339\n",
      "0.22289310811954052\n",
      "1.2284548162746451\n",
      "-0.5644700340813661\n",
      "-0.47755053136971937\n",
      "0.5302454880704313\n",
      "-0.16564284191515102\n",
      "0.19450259098533912\n",
      "1.360442886745795\n",
      "-0.7669124060951659\n",
      "-0.5440355959163978\n",
      "0.5900787254123535];\n",
      "x0 = [1.0737317707712553 -0.8448700684975817];\n",
      "logtheta = [0.6745723645241696;\n",
      "-1.6982513555453815;\n",
      "-1.4501836463586093;\n",
      "-0.7665559945626316];\n",
      "loglike = loglikelihood(logtheta, cv,x,y);\n"
     ]
    }
   ],
   "source": [
    "import numpy as np\n",
    "\n",
    "# 随机生成 Training Inputs (x)\n",
    "n = 100  # 行数\n",
    "D = 2  # 列数\n",
    "n_test = 1\n",
    "\n",
    "x = np.random.randn(n, D)  # 生成 n x D 的随机矩阵\n",
    "x0 = np.random.randn(n_test, D)\n",
    "\n",
    "# 随机生成 Target Outputs (y)\n",
    "y = np.random.randn(n, 1)  # 生成 n 行 1 列的随机列向量\n",
    "\n",
    "# 随机生成 logtheta\n",
    "logtheta = np.random.randn(D+2)  # 生成 D+1 维的随机向量\n",
    "loglike = loglikelihood(logtheta, covSum, [covSEard, covNoise], x, y)\n",
    "print(f\"***loglike:{loglike}\")\n",
    "\n",
    "# 转换为 MATLAB 赋值语句\n",
    "x_matlab = '\\n'.join([' '.join(map(str, row)) for row in x])\n",
    "y_matlab = '\\n'.join(map(str, y.flatten()))\n",
    "x_test_matlab = '\\n'.join([' '.join(map(str, row)) for row in x0])\n",
    "logtheta_matlab = ';\\n'.join(map(str, logtheta))\n",
    "\n",
    "print(\"MATLAB 赋值语句：\")\n",
    "print(f\"x = [{x_matlab}];\")\n",
    "print(f\"y = [{y_matlab}];\")\n",
    "print(f\"x0 = [{x_test_matlab}];\")\n",
    "print(f\"logtheta = [{logtheta_matlab}];\")\n",
    "print(f\"loglike = loglikelihood(logtheta, cv,x,y);\")\n"
   ]
  },
  {
   "cell_type": "code",
   "execution_count": 3,
   "id": "968ea5fd-9f51-4e1c-a40e-34654521d8a6",
   "metadata": {},
   "outputs": [
    {
     "name": "stdout",
     "output_type": "stream",
     "text": [
      "Initial boundary visualization\n"
     ]
    },
    {
     "data": {
      "image/png": "[encoded data removed]",
      "text/plain": [
       "<Figure size 640x480 with 1 Axes>"
      ]
     },
     "metadata": {},
     "output_type": "display_data"
    }
   ],
   "source": [
    "mu_t, sig2_t, model, h = JumpGP_LD(x,y,x0,'CEM',1)"
   ]
  },
  {
   "cell_type": "code",
   "execution_count": 4,
   "id": "2bf93a98-eb30-4770-b050-bb8774b9c695",
   "metadata": {},
   "outputs": [
    {
     "ename": "NameError",
     "evalue": "name 'L' is not defined",
     "output_type": "error",
     "traceback": [
      "\u001b[1;31m---------------------------------------------------------------------------\u001b[0m",
      "\u001b[1;31mNameError\u001b[0m                                 Traceback (most recent call last)",
      "Cell \u001b[1;32mIn[4], line 2\u001b[0m\n\u001b[0;32m      1\u001b[0m xt \u001b[38;5;241m=\u001b[39m x0\n\u001b[1;32m----> 2\u001b[0m plt\u001b[38;5;241m.\u001b[39mimshow(np\u001b[38;5;241m.\u001b[39mreshape(y, (L, L)), cmap\u001b[38;5;241m=\u001b[39m\u001b[38;5;124m'\u001b[39m\u001b[38;5;124mgray\u001b[39m\u001b[38;5;124m'\u001b[39m, extent\u001b[38;5;241m=\u001b[39m(gx[\u001b[38;5;241m0\u001b[39m], gx[\u001b[38;5;241m-\u001b[39m\u001b[38;5;241m1\u001b[39m], gx[\u001b[38;5;241m0\u001b[39m], gx[\u001b[38;5;241m-\u001b[39m\u001b[38;5;241m1\u001b[39m]))\n\u001b[0;32m      4\u001b[0m \u001b[38;5;66;03m# 绘制局部训练点\u001b[39;00m\n\u001b[0;32m      5\u001b[0m plt\u001b[38;5;241m.\u001b[39mscatter(x[:, \u001b[38;5;241m0\u001b[39m], x[:, \u001b[38;5;241m1\u001b[39m], color\u001b[38;5;241m=\u001b[39m\u001b[38;5;124m'\u001b[39m\u001b[38;5;124mr\u001b[39m\u001b[38;5;124m'\u001b[39m, marker\u001b[38;5;241m=\u001b[39m\u001b[38;5;124m'\u001b[39m\u001b[38;5;124m+\u001b[39m\u001b[38;5;124m'\u001b[39m, s\u001b[38;5;241m=\u001b[39m\u001b[38;5;241m100\u001b[39m, label\u001b[38;5;241m=\u001b[39m\u001b[38;5;124m'\u001b[39m\u001b[38;5;124mLocal Training Inputs\u001b[39m\u001b[38;5;124m'\u001b[39m)\n",
      "\u001b[1;31mNameError\u001b[0m: name 'L' is not defined"
     ]
    }
   ],
   "source": [
    "xt = x0\n",
    "plt.imshow(np.reshape(y, (L, L)), cmap='gray', extent=(gx[0], gx[-1], gx[0], gx[-1]))\n",
    "\n",
    "# 绘制局部训练点\n",
    "plt.scatter(x[:, 0], x[:, 1], color='r', marker='+', s=100, label='Local Training Inputs')\n",
    "\n",
    "# 绘制测试点\n",
    "plt.scatter(xt[0,0], xt[0,1], color='c', marker='o', s=100, label='Test Point')\n",
    "\n",
    "current_ax = plt.gca()\n",
    "\n",
    "# 函数用于复制 PathCollection\n",
    "def copy_path_collection(artist, ax):\n",
    "    # 获取 PathCollection 的属性\n",
    "    offsets = artist.get_offsets()  # 获取点的坐标\n",
    "    sizes = artist.get_sizes()  # 获取点的大小\n",
    "    facecolors = artist.get_facecolor()  # 获取点的颜色\n",
    "    edgecolors = artist.get_edgecolor()  # 获取边缘颜色\n",
    "\n",
    "    # 重新绘制散点图\n",
    "    return ax.scatter(offsets[:, 0], offsets[:, 1], s=sizes, c=facecolors, \n",
    "                      edgecolor=edgecolors, alpha=artist.get_alpha(), label=artist.get_label())\n",
    "\n",
    "# 重新绘制 h3\n",
    "new_artist = copy_path_collection(h[0], current_ax)\n",
    "# line = h3[1][1]\n",
    "# current_ax.plot(line.get_xdata(), line.get_ydata(),\n",
    "#                 color=line.get_color(), linewidth=line.get_linewidth(),\n",
    "#                 label=line.get_label())\n",
    "\n",
    "# 添加图例\n",
    "plt.legend()\n",
    "plt.show()"
   ]
  },
  {
   "cell_type": "code",
   "execution_count": 3,
   "id": "d984b873-2d27-420a-bc6c-6d77179e6ac8",
   "metadata": {},
   "outputs": [],
   "source": [
    "xt = x0\n",
    "cv = [covSum, [covSEard, covNoise]]\n",
    "d = x.shape[1]  # Get the number of features (columns)\n",
    "px = x\n",
    "pxt = xt\n",
    "\n",
    "# Initial estimation of the boundary B(x)\n",
    "logtheta = np.zeros(d + 2)\n",
    "logtheta[d + 2 - 1] = -1.15\n",
    "w, _ = local_linearfit(x, y, xt)\n",
    "nw = np.linalg.norm(w)\n",
    "w = w / nw\n",
    "\n",
    "# Fine-tune the intercept term\n",
    "b = np.arange(-1 + w[0].item(), 1 + w[0].item() , 0.01)\n",
    "fd = []\n",
    "for bi in b:\n",
    "    w_d = w.copy()\n",
    "    w_d[0] = bi\n",
    "    gx, _ = calculate_gx(px, w_d)\n",
    "    r = gx >= 0\n",
    "    var_r = np.var(y[r], ddof=1) if np.sum(r) > 1 else 0\n",
    "    var_not_r = np.var(y[~r], ddof=1) if np.sum(~r) > 1 else 0\n",
    "    fd.append(np.mean(r) * var_r + np.mean(~r) * var_not_r)\n",
    "\n",
    "try:\n",
    "    k = np.nanargmin(fd)\n",
    "except:\n",
    "    print(\"fd is all nan\")\n",
    "    k = 0\n",
    "w[0] = b[k]\n",
    "w = nw * w"
   ]
  },
  {
   "cell_type": "code",
   "execution_count": 58,
   "id": "b788cfe7-cadd-4667-b1e0-926d003fb7f9",
   "metadata": {},
   "outputs": [
    {
     "data": {
      "text/plain": [
       "array([[-0.90471592],\n",
       "       [ 0.14659086],\n",
       "       [ 0.27482338],\n",
       "       [ 0.08776316]])"
      ]
     },
     "execution_count": 58,
     "metadata": {},
     "output_type": "execute_result"
    }
   ],
   "source": [
    "w"
   ]
  },
  {
   "cell_type": "code",
   "execution_count": 5,
   "id": "940f9516-1cf8-45d9-bb7c-bf443bc52162",
   "metadata": {},
   "outputs": [
    {
     "name": "stdout",
     "output_type": "stream",
     "text": [
      "Initial boundary visualization\n"
     ]
    },
    {
     "name": "stderr",
     "output_type": "stream",
     "text": [
      "C:\\Users\\yxu59\\autumn2024\\codeBase\\JumpGP_code_py\\maximize_PD.py:80: RuntimeWarning: divide by zero encountered in log\n",
      "  return -np.sum(r.T * np.log(1 / (1 + np.exp(-phi_w))) + (1 - r).T * np.log(1 - 1 / (1 + np.exp(-phi_w))) )\n",
      "C:\\Users\\yxu59\\autumn2024\\codeBase\\JumpGP_code_py\\maximize_PD.py:80: RuntimeWarning: invalid value encountered in multiply\n",
      "  return -np.sum(r.T * np.log(1 / (1 + np.exp(-phi_w))) + (1 - r).T * np.log(1 - 1 / (1 + np.exp(-phi_w))) )\n",
      "C:\\Users\\yxu59\\autumn2024\\codeBase\\JumpGP_code_py\\maximize_PD.py:80: RuntimeWarning: divide by zero encountered in log\n",
      "  return -np.sum(r.T * np.log(1 / (1 + np.exp(-phi_w))) + (1 - r).T * np.log(1 - 1 / (1 + np.exp(-phi_w))) )\n",
      "C:\\Users\\yxu59\\autumn2024\\codeBase\\JumpGP_code_py\\maximize_PD.py:80: RuntimeWarning: invalid value encountered in multiply\n",
      "  return -np.sum(r.T * np.log(1 / (1 + np.exp(-phi_w))) + (1 - r).T * np.log(1 - 1 / (1 + np.exp(-phi_w))) )\n",
      "C:\\Users\\yxu59\\autumn2024\\codeBase\\JumpGP_code_py\\maximize_PD.py:80: RuntimeWarning: divide by zero encountered in log\n",
      "  return -np.sum(r.T * np.log(1 / (1 + np.exp(-phi_w))) + (1 - r).T * np.log(1 - 1 / (1 + np.exp(-phi_w))) )\n",
      "C:\\Users\\yxu59\\autumn2024\\codeBase\\JumpGP_code_py\\maximize_PD.py:80: RuntimeWarning: invalid value encountered in multiply\n",
      "  return -np.sum(r.T * np.log(1 / (1 + np.exp(-phi_w))) + (1 - r).T * np.log(1 - 1 / (1 + np.exp(-phi_w))) )\n",
      "C:\\Users\\yxu59\\autumn2024\\codeBase\\JumpGP_code_py\\maximize_PD.py:80: RuntimeWarning: divide by zero encountered in log\n",
      "  return -np.sum(r.T * np.log(1 / (1 + np.exp(-phi_w))) + (1 - r).T * np.log(1 - 1 / (1 + np.exp(-phi_w))) )\n",
      "C:\\Users\\yxu59\\autumn2024\\codeBase\\JumpGP_code_py\\maximize_PD.py:80: RuntimeWarning: invalid value encountered in multiply\n",
      "  return -np.sum(r.T * np.log(1 / (1 + np.exp(-phi_w))) + (1 - r).T * np.log(1 - 1 / (1 + np.exp(-phi_w))) )\n"
     ]
    }
   ],
   "source": [
    "model = maximize_PD(x, y, xt, px, pxt, w, logtheta, cv, 1)"
   ]
  },
  {
   "cell_type": "code",
   "execution_count": 6,
   "id": "d0a99cb1-0c2c-41ea-a769-21804da8c722",
   "metadata": {},
   "outputs": [
    {
     "data": {
      "text/plain": [
       "{'x': array([[ 9.18529459e-01,  1.32902666e-03, -2.58883649e-01],\n",
       "        [ 2.13516967e-01, -4.47572462e-01, -4.94119556e-01],\n",
       "        [ 6.35932005e-01,  2.23098675e+00,  2.76385170e-01],\n",
       "        [-1.07645690e+00,  9.24576772e-01, -3.21494482e-01],\n",
       "        [-1.84758916e-01, -9.66890382e-01, -2.72045196e-02]]),\n",
       " 'y': array([[ 1.09442217],\n",
       "        [-1.57575689],\n",
       "        [ 0.25934436],\n",
       "        [-0.24367   ],\n",
       "        [ 0.6906059 ]]),\n",
       " 'RR': np.float64(0.06986691736575705),\n",
       " 'fs': array([[-0.91300836]]),\n",
       " 'sigma': np.float64(0.25088126332820654),\n",
       " 'xt': array([[ 0.35726261, -1.22451332, -1.73153892]]),\n",
       " 'px': array([[ 9.18529459e-01,  1.32902666e-03, -2.58883649e-01],\n",
       "        [ 2.13516967e-01, -4.47572462e-01, -4.94119556e-01],\n",
       "        [ 6.35932005e-01,  2.23098675e+00,  2.76385170e-01],\n",
       "        [-1.07645690e+00,  9.24576772e-01, -3.21494482e-01],\n",
       "        [-1.84758916e-01, -9.66890382e-01, -2.72045196e-02]]),\n",
       " 'pxt': array([[ 0.35726261, -1.22451332, -1.73153892]]),\n",
       " 'nll': np.float64(1.9453133965129683),\n",
       " 'r': array([[False],\n",
       "        [ True],\n",
       "        [False],\n",
       "        [ True],\n",
       "        [False]]),\n",
       " 'gamma': array([[1.08281377e-13],\n",
       "        [9.51099871e-01],\n",
       "        [2.94902241e-04],\n",
       "        [9.88590568e-01],\n",
       "        [1.00583979e-08]]),\n",
       " 'nw': np.float64(42.32009211392389),\n",
       " 'w': array([-0.08103813, -0.46028363,  0.19044782, -0.86330842]),\n",
       " 'ms': -0.9097134465500367,\n",
       " 'logtheta': array([-1.03434794, -1.28847843, -0.01154328, -0.64274655, -0.89459129]),\n",
       " 'cv': [<function cov.covSum.covSum(covfunc, logtheta=None, x=None, z=None)>,\n",
       "  [<function cov.covSEard.covSEard(loghyper=None, x=None, z=None)>,\n",
       "   <function cov.covNoise.covNoise(logtheta=None, x=None, z=None)>]],\n",
       " 'mu_t': array([[-0.91300836]]),\n",
       " 'sig2_t': array([[0.44360005]])}"
      ]
     },
     "execution_count": 6,
     "metadata": {},
     "output_type": "execute_result"
    }
   ],
   "source": [
    "model"
   ]
  },
  {
   "cell_type": "code",
   "execution_count": 4,
   "id": "0eb81fe3-8cc2-412b-8a30-92ec50ff75ff",
   "metadata": {},
   "outputs": [
    {
     "data": {
      "text/plain": [
       "(array([[ 9.18529459e-01,  1.32902666e-03, -2.58883649e-01],\n",
       "        [ 2.13516967e-01, -4.47572462e-01, -4.94119556e-01],\n",
       "        [ 6.35932005e-01,  2.23098675e+00,  2.76385170e-01],\n",
       "        [-1.07645690e+00,  9.24576772e-01, -3.21494482e-01],\n",
       "        [-1.84758916e-01, -9.66890382e-01, -2.72045196e-02]]),\n",
       " array([[ 1.09442217],\n",
       "        [-1.57575689],\n",
       "        [ 0.25934436],\n",
       "        [-0.24367   ],\n",
       "        [ 0.6906059 ]]),\n",
       " array([[ 0.35726261, -1.22451332, -1.73153892]]),\n",
       " array([[ 9.18529459e-01,  1.32902666e-03, -2.58883649e-01],\n",
       "        [ 2.13516967e-01, -4.47572462e-01, -4.94119556e-01],\n",
       "        [ 6.35932005e-01,  2.23098675e+00,  2.76385170e-01],\n",
       "        [-1.07645690e+00,  9.24576772e-01, -3.21494482e-01],\n",
       "        [-1.84758916e-01, -9.66890382e-01, -2.72045196e-02]]),\n",
       " array([[ 0.35726261, -1.22451332, -1.73153892]]),\n",
       " array([[ 0.51083581],\n",
       "        [ 0.2032643 ],\n",
       "        [-0.26271854],\n",
       "        [ 2.6565215 ]]),\n",
       " array([ 0.  ,  0.  ,  0.  ,  0.  , -1.15]),\n",
       " [<function cov.covSum.covSum(covfunc, logtheta=None, x=None, z=None)>,\n",
       "  [<function cov.covSEard.covSEard(loghyper=None, x=None, z=None)>,\n",
       "   <function cov.covNoise.covNoise(logtheta=None, x=None, z=None)>]])"
      ]
     },
     "execution_count": 4,
     "metadata": {},
     "output_type": "execute_result"
    }
   ],
   "source": [
    "x, y, xt, px, pxt, w, logtheta, cv"
   ]
  },
  {
   "cell_type": "code",
   "execution_count": 62,
   "id": "f5391551-b65e-4a65-9b49-c5ac20329ebb",
   "metadata": {},
   "outputs": [],
   "source": [
    "nw = np.linalg.norm(w)\n",
    "w = w / nw\n",
    "nIter = 100\n",
    "\n",
    "phi_xt = np.dot(np.hstack(([1], pxt[0])), w) #phi_xt shape (1,Nt)\n",
    "w = w * np.sign(phi_xt)\n",
    "gx, phi_x = calculate_gx(px, w)\n",
    "\n",
    "r = gx >= 0"
   ]
  },
  {
   "cell_type": "code",
   "execution_count": 63,
   "id": "82367f94-7a8d-42f8-b86b-b54d63c4847e",
   "metadata": {},
   "outputs": [
    {
     "data": {
      "text/plain": [
       "(np.float64(0.960848600567215),\n",
       " array([[ 0.9415801 ],\n",
       "        [-0.15256395],\n",
       "        [-0.28602152],\n",
       "        [-0.09133922]]),\n",
       " array([[-5.08855783e-04],\n",
       "        [ 8.98327064e-01],\n",
       "        [ 5.86585088e-01],\n",
       "        [ 9.96565482e-01],\n",
       "        [ 8.13117594e-01]]),\n",
       " array([[ 1.        ,  1.07482595,  2.51978084,  0.62840164],\n",
       "        [ 1.        , -0.19822747, -0.05086625,  0.96392588],\n",
       "        [ 1.        ,  0.50753521,  0.35351684,  1.93180982],\n",
       "        [ 1.        , -1.2529568 ,  0.71064681, -0.73451056],\n",
       "        [ 1.        , -1.94048102,  1.13218679,  1.10226659]]),\n",
       " array([[False],\n",
       "        [ True],\n",
       "        [ True],\n",
       "        [ True],\n",
       "        [ True]]))"
      ]
     },
     "execution_count": 63,
     "metadata": {},
     "output_type": "execute_result"
    }
   ],
   "source": [
    "nw,w,gx,phi_x,r"
   ]
  },
  {
   "cell_type": "code",
   "execution_count": 73,
   "id": "fb80667b-8624-4d34-8f6b-9929de6aacae",
   "metadata": {},
   "outputs": [],
   "source": [
    "def negloglikelihood(logtheta, covfunc1, covfunc2, x, y, nargout=1):\n",
    "    return -loglikelihood(logtheta, covfunc1, covfunc2, x, y, nargout)"
   ]
  },
  {
   "cell_type": "code",
   "execution_count": 102,
   "id": "9a67eeea-b7bc-45c6-9b8a-3bad3d00dbd3",
   "metadata": {},
   "outputs": [],
   "source": [
    "logtheta = np.zeros(d + 2)\n",
    "logtheta[d + 2 - 1] = -1.15\n",
    "\n",
    "r1 = r.flatten()\n",
    "ms = np.mean(y[r1]).item()\n",
    "try:\n",
    "    logtheta = minimize(loglikelihood, logtheta, args=(covSum, [covSEard, covNoise], x[r1,:], y[r1] - ms), options={'maxiter': nIter}).x\n",
    "except:\n",
    "    print(f\"we fail at iteration {k}\")\n",
    "    err_flag = True"
   ]
  },
  {
   "cell_type": "code",
   "execution_count": 103,
   "id": "d6990c19-22e1-4e60-8015-95b6db25c6d8",
   "metadata": {},
   "outputs": [
    {
     "data": {
      "text/plain": [
       "(-0.4506074461820338,\n",
       " array([15.32934822,  4.66800759, -1.17070281, -1.31294752, -1.71196093]))"
      ]
     },
     "execution_count": 103,
     "metadata": {},
     "output_type": "execute_result"
    }
   ],
   "source": [
    "ms, logtheta"
   ]
  },
  {
   "cell_type": "code",
   "execution_count": 109,
   "id": "9e99a37f-a734-4ecc-8e2c-0757841571a1",
   "metadata": {},
   "outputs": [],
   "source": [
    "logtheta = np.array([1.6032, 0.8211, -1.2560, -1.2075, -2.0838])"
   ]
  },
  {
   "cell_type": "code",
   "execution_count": 110,
   "id": "55e71246-b340-452e-b17f-2f883e0b4a74",
   "metadata": {},
   "outputs": [],
   "source": [
    "K = covSum([covSEard, covNoise], logtheta, x[r1,:])\n",
    "_, Kt = covSum([covSEard, covNoise], logtheta, x[r1,:], x)\n",
    "L = cholesky(K, lower=True)\n",
    "Ly = np.linalg.solve(L, y[r1] - ms)\n",
    "LK = np.linalg.solve(L, Kt)\n",
    "fs = np.dot(LK.T, Ly) + ms\n",
    "\n",
    "sigma = np.sqrt(np.mean((y[r1] - fs[r1]) ** 2))\n",
    "\n",
    "like = norm.pdf(y, loc=fs, scale=sigma)\n",
    "RR = norm.pdf(2.5 * sigma, loc=0, scale=sigma)\n",
    "prior_z = 1 / (1 + np.exp(-0.05 * nw * gx))\n",
    "prior_z = prior_z.reshape(-1,1)\n",
    "pos_z = prior_z * like / (prior_z * like + (1 - prior_z) * RR)\n",
    "\n",
    "r = pos_z >= 0.5"
   ]
  },
  {
   "cell_type": "code",
   "execution_count": 175,
   "id": "bddb2a58-a2d4-4a36-b797-384c124cf70a",
   "metadata": {},
   "outputs": [],
   "source": [
    "def wfun(wo):\n",
    "    phi_w = np.dot(phi_x, wo)\n",
    "    return -np.sum(r.T * np.log(1 / (1 + np.exp(-phi_w))) + (1 - r).T * np.log(1 - 1 / (1 + np.exp(-phi_w))) )\n",
    "from scipy.optimize import LinearConstraint\n",
    "lc = LinearConstraint(-np.array([1, *pxt.flatten()]), ub=0)\n",
    "\n",
    "w_flattened = w.ravel()\n",
    "constraints = {'type': 'ineq', 'fun': lambda wo: np.dot(np.array([1, *pxt.flatten()]), wo)}  # -[1, pxt]\n",
    "w_new = minimize(wfun, w_flattened, constraints=lc, options={'disp': False}).x\n",
    "# w_new = minimize(wfun, w_flattened, constraints=constraints, options={'disp': False}, method='SLSQP').x\n",
    "# w_new = minimize(wfun, w_flattened, options={'disp': False}).x\n",
    "# w_new = minimize(wfun, w_flattened, bounds=[(-np.inf, np.inf)], method='SLSQP').x\n",
    "# w_new = w_new.reshape(w.shape)\n",
    "conv_crit = np.linalg.norm(w_new / np.linalg.norm(w_new) - w / np.linalg.norm(w))"
   ]
  },
  {
   "cell_type": "code",
   "execution_count": 176,
   "id": "294d5921-1495-4482-a096-57f778ca4332",
   "metadata": {},
   "outputs": [
    {
     "data": {
      "text/plain": [
       "np.float64(2.839734273951422)"
      ]
     },
     "execution_count": 176,
     "metadata": {},
     "output_type": "execute_result"
    }
   ],
   "source": [
    "conv_crit"
   ]
  },
  {
   "cell_type": "code",
   "execution_count": 177,
   "id": "6477112f-f412-45a0-8a8f-1905f99908a5",
   "metadata": {},
   "outputs": [
    {
     "data": {
      "text/plain": [
       "array([ 10.1364, -11.5609,  -7.656 ,   7.6179])"
      ]
     },
     "execution_count": 177,
     "metadata": {},
     "output_type": "execute_result"
    }
   ],
   "source": [
    "np.round(w_new,4)"
   ]
  },
  {
   "cell_type": "code",
   "execution_count": 170,
   "id": "d30fdad7-072a-4a53-9f25-79e02bb80261",
   "metadata": {},
   "outputs": [
    {
     "data": {
      "text/plain": [
       "np.float64(1.3963175195485557e-06)"
      ]
     },
     "execution_count": 170,
     "metadata": {},
     "output_type": "execute_result"
    }
   ],
   "source": [
    "wfun(w_new)"
   ]
  },
  {
   "cell_type": "code",
   "execution_count": 171,
   "id": "f0d335ce-018e-4738-a797-4392a6160632",
   "metadata": {},
   "outputs": [
    {
     "data": {
      "text/plain": [
       "np.float64(5.466491254517345)"
      ]
     },
     "execution_count": 171,
     "metadata": {},
     "output_type": "execute_result"
    }
   ],
   "source": [
    "np.dot(np.array([1, *pxt.flatten()]),w_new)"
   ]
  },
  {
   "cell_type": "code",
   "execution_count": 160,
   "id": "d1eba649-89ca-46e5-86f8-6887e5c58453",
   "metadata": {},
   "outputs": [
    {
     "data": {
      "text/plain": [
       "np.float64(5.466491254517345)"
      ]
     },
     "execution_count": 160,
     "metadata": {},
     "output_type": "execute_result"
    }
   ],
   "source": [
    "np.dot(np.array([1, *pxt.flatten()]), w_new)"
   ]
  },
  {
   "cell_type": "markdown",
   "id": "9ea5b389-453b-4132-a5f4-e9a3dcd45fee",
   "metadata": {},
   "source": [
    "## JumpGP_QD"
   ]
  },
  {
   "cell_type": "code",
   "execution_count": 7,
   "id": "e7ff34dc-7f66-4535-b634-654e140c36b0",
   "metadata": {},
   "outputs": [],
   "source": [
    "xt = x0"
   ]
  },
  {
   "cell_type": "code",
   "execution_count": 87,
   "id": "7b7bfa8e-76e4-4a68-bb0e-98650d7b7794",
   "metadata": {},
   "outputs": [],
   "source": [
    "import local_qfit\n",
    "import JumpGP_QD\n",
    "\n",
    "import importlib\n",
    "importlib.reload(JumpGP_QD)\n",
    "\n",
    "from local_qfit import local_qfit\n",
    "from JumpGP_QD import JumpGP_QD"
   ]
  },
  {
   "cell_type": "code",
   "execution_count": 88,
   "id": "315679f2-b56c-4fa7-80be-53d1aa0f91f1",
   "metadata": {},
   "outputs": [
    {
     "data": {
      "text/plain": [
       "((100, 2), (100, 1), (1, 2))"
      ]
     },
     "execution_count": 88,
     "metadata": {},
     "output_type": "execute_result"
    }
   ],
   "source": [
    "x.shape,y.shape,xt.shape"
   ]
  },
  {
   "cell_type": "code",
   "execution_count": 89,
   "id": "f7caa740-e0e3-43df-ac4d-ef1f18a8dee5",
   "metadata": {},
   "outputs": [
    {
     "name": "stdout",
     "output_type": "stream",
     "text": [
      "Initial boundary visualization\n"
     ]
    },
    {
     "name": "stderr",
     "output_type": "stream",
     "text": [
      "C:\\Users\\yxu59\\autumn2024\\codeBase\\JumpGP_code_py\\maximize_PD.py:80: RuntimeWarning: divide by zero encountered in log\n",
      "  return -np.sum(r.T * np.log(1 / (1 + np.exp(-phi_w))) + (1 - r).T * np.log(1 - 1 / (1 + np.exp(-phi_w))) )\n",
      "C:\\Users\\yxu59\\autumn2024\\codeBase\\JumpGP_code_py\\maximize_PD.py:80: RuntimeWarning: invalid value encountered in multiply\n",
      "  return -np.sum(r.T * np.log(1 / (1 + np.exp(-phi_w))) + (1 - r).T * np.log(1 - 1 / (1 + np.exp(-phi_w))) )\n",
      "C:\\Users\\yxu59\\autumn2024\\codeBase\\JumpGP_code_py\\maximize_PD.py:80: RuntimeWarning: divide by zero encountered in log\n",
      "  return -np.sum(r.T * np.log(1 / (1 + np.exp(-phi_w))) + (1 - r).T * np.log(1 - 1 / (1 + np.exp(-phi_w))) )\n",
      "C:\\Users\\yxu59\\autumn2024\\codeBase\\JumpGP_code_py\\maximize_PD.py:80: RuntimeWarning: invalid value encountered in multiply\n",
      "  return -np.sum(r.T * np.log(1 / (1 + np.exp(-phi_w))) + (1 - r).T * np.log(1 - 1 / (1 + np.exp(-phi_w))) )\n",
      "C:\\Users\\yxu59\\autumn2024\\codeBase\\JumpGP_code_py\\maximize_PD.py:80: RuntimeWarning: divide by zero encountered in log\n",
      "  return -np.sum(r.T * np.log(1 / (1 + np.exp(-phi_w))) + (1 - r).T * np.log(1 - 1 / (1 + np.exp(-phi_w))) )\n",
      "C:\\Users\\yxu59\\autumn2024\\codeBase\\JumpGP_code_py\\maximize_PD.py:80: RuntimeWarning: invalid value encountered in multiply\n",
      "  return -np.sum(r.T * np.log(1 / (1 + np.exp(-phi_w))) + (1 - r).T * np.log(1 - 1 / (1 + np.exp(-phi_w))) )\n",
      "C:\\Users\\yxu59\\autumn2024\\codeBase\\JumpGP_code_py\\maximize_PD.py:80: RuntimeWarning: divide by zero encountered in log\n",
      "  return -np.sum(r.T * np.log(1 / (1 + np.exp(-phi_w))) + (1 - r).T * np.log(1 - 1 / (1 + np.exp(-phi_w))) )\n",
      "C:\\Users\\yxu59\\autumn2024\\codeBase\\JumpGP_code_py\\maximize_PD.py:80: RuntimeWarning: invalid value encountered in multiply\n",
      "  return -np.sum(r.T * np.log(1 / (1 + np.exp(-phi_w))) + (1 - r).T * np.log(1 - 1 / (1 + np.exp(-phi_w))) )\n",
      "C:\\Users\\yxu59\\autumn2024\\codeBase\\JumpGP_code_py\\maximize_PD.py:80: RuntimeWarning: divide by zero encountered in log\n",
      "  return -np.sum(r.T * np.log(1 / (1 + np.exp(-phi_w))) + (1 - r).T * np.log(1 - 1 / (1 + np.exp(-phi_w))) )\n",
      "C:\\Users\\yxu59\\autumn2024\\codeBase\\JumpGP_code_py\\maximize_PD.py:80: RuntimeWarning: invalid value encountered in multiply\n",
      "  return -np.sum(r.T * np.log(1 / (1 + np.exp(-phi_w))) + (1 - r).T * np.log(1 - 1 / (1 + np.exp(-phi_w))) )\n"
     ]
    },
    {
     "name": "stdout",
     "output_type": "stream",
     "text": [
      "Plotting results for mode: CEM\n"
     ]
    },
    {
     "data": {
      "image/png": "[encoded data removed]",
      "text/plain": [
       "<Figure size 640x480 with 1 Axes>"
      ]
     },
     "metadata": {},
     "output_type": "display_data"
    },
    {
     "data": {
      "text/plain": [
       "(array([[-0.1513]]),\n",
       " array([[0.7962]]),\n",
       " {'x': array([[-1.2252,  0.037 ],\n",
       "         [-0.3605,  0.7771],\n",
       "         [-0.8078, -0.1129],\n",
       "         [-1.715 , -1.037 ],\n",
       "         [-0.6097,  0.5071],\n",
       "         [ 2.1619, -0.665 ],\n",
       "         [-1.2092,  1.5548],\n",
       "         [-0.7409, -0.277 ],\n",
       "         [ 0.9713,  1.8679],\n",
       "         [-0.1957, -0.9932],\n",
       "         [-1.5562,  0.4005],\n",
       "         [ 0.5004,  0.1736],\n",
       "         [-0.5658,  0.4619],\n",
       "         [ 0.1075, -0.3386],\n",
       "         [ 1.4918,  1.6106],\n",
       "         [-1.381 , -2.0782],\n",
       "         [ 1.1071, -0.1479],\n",
       "         [ 1.7589,  1.7174],\n",
       "         [ 0.156 ,  0.1611],\n",
       "         [-0.559 , -0.1652],\n",
       "         [ 0.1836, -1.1254],\n",
       "         [ 0.5778, -0.964 ],\n",
       "         [-1.4855, -0.4785],\n",
       "         [-3.1586, -1.7771],\n",
       "         [ 0.5451, -1.0706],\n",
       "         [-1.1671,  1.8684],\n",
       "         [-0.2865, -1.5572],\n",
       "         [-0.5067, -1.5925],\n",
       "         [ 1.1144,  0.0637],\n",
       "         [-0.5283,  1.8245],\n",
       "         [ 1.236 , -1.0119],\n",
       "         [ 0.0963, -1.265 ],\n",
       "         [ 0.7211, -0.8859],\n",
       "         [ 0.2638,  1.2698],\n",
       "         [-1.6849, -0.1197],\n",
       "         [ 0.4313, -0.2505],\n",
       "         [-0.5187,  0.5844],\n",
       "         [ 0.8486,  0.2726],\n",
       "         [ 0.4503,  0.3346],\n",
       "         [-0.7877, -0.9499],\n",
       "         [-0.6632, -0.7884],\n",
       "         [-0.0045,  0.5697],\n",
       "         [-0.6583, -0.2913],\n",
       "         [-2.0314,  0.7849],\n",
       "         [-0.7366, -0.0158],\n",
       "         [ 0.0259, -0.1147],\n",
       "         [-1.8173,  1.9891],\n",
       "         [-0.1008,  0.8995],\n",
       "         [ 1.2359, -0.0611],\n",
       "         [ 0.8165, -1.4276],\n",
       "         [-1.491 ,  2.0231],\n",
       "         [ 0.3888,  0.3337],\n",
       "         [-0.1811,  0.132 ],\n",
       "         [-0.9662, -0.1208],\n",
       "         [ 0.0172, -0.2346],\n",
       "         [ 0.3834, -0.0642],\n",
       "         [ 0.3911,  2.3071],\n",
       "         [ 1.1494,  0.5656],\n",
       "         [ 0.1443,  1.7622],\n",
       "         [-0.3476,  0.1085],\n",
       "         [-0.9296, -2.398 ],\n",
       "         [ 0.9271, -0.1773],\n",
       "         [ 0.2706,  0.2678],\n",
       "         [ 1.0426,  0.7734],\n",
       "         [ 0.4805, -0.4259],\n",
       "         [ 0.3676, -0.6995],\n",
       "         [-0.4334, -0.4527],\n",
       "         [-0.9402, -1.3346],\n",
       "         [-0.0148, -1.3047],\n",
       "         [ 0.729 ,  1.0429],\n",
       "         [ 1.6282,  0.5685],\n",
       "         [ 0.0641, -2.4545],\n",
       "         [-0.3721, -1.2462],\n",
       "         [ 0.9703,  0.8169],\n",
       "         [-0.0219, -0.7363],\n",
       "         [-0.36  ,  0.2674],\n",
       "         [ 0.3147, -0.1666],\n",
       "         [-0.4357, -1.0962],\n",
       "         [ 0.128 ,  0.1662],\n",
       "         [ 1.871 , -0.2942],\n",
       "         [-0.9073, -0.9465],\n",
       "         [ 0.2525,  0.1004],\n",
       "         [ 0.3811, -0.6242],\n",
       "         [-1.0675,  1.2556],\n",
       "         [ 0.9553,  1.0755],\n",
       "         [ 0.095 ,  1.1575],\n",
       "         [ 0.1059,  1.3678],\n",
       "         [-1.6182,  0.9865],\n",
       "         [ 0.0901,  0.1005],\n",
       "         [ 0.592 ,  0.5087],\n",
       "         [-0.2447, -0.9773],\n",
       "         [-1.1588, -0.5337],\n",
       "         [-2.4446,  0.7289],\n",
       "         [-1.6772,  0.1493],\n",
       "         [-0.2366,  2.8584],\n",
       "         [-0.9441, -0.6336],\n",
       "         [ 1.2407,  1.4455],\n",
       "         [-0.2892,  0.7936],\n",
       "         [ 0.2129,  0.9518],\n",
       "         [ 0.0486,  0.7779]]),\n",
       "  'y': array([[-0.5099],\n",
       "         [-1.5376],\n",
       "         [ 0.2124],\n",
       "         [ 0.7247],\n",
       "         [ 0.4739],\n",
       "         [ 1.033 ],\n",
       "         [-0.4741],\n",
       "         [-1.2198],\n",
       "         [-1.4533],\n",
       "         [-0.021 ],\n",
       "         [-0.6955],\n",
       "         [-0.3812],\n",
       "         [ 0.1502],\n",
       "         [-0.0949],\n",
       "         [-1.6552],\n",
       "         [-0.6509],\n",
       "         [-0.3127],\n",
       "         [ 1.8796],\n",
       "         [ 0.9401],\n",
       "         [ 0.7435],\n",
       "         [ 0.6412],\n",
       "         [-1.2011],\n",
       "         [-0.4486],\n",
       "         [-0.7762],\n",
       "         [-1.486 ],\n",
       "         [ 0.5496],\n",
       "         [-0.604 ],\n",
       "         [-1.4157],\n",
       "         [ 1.6871],\n",
       "         [-0.0798],\n",
       "         [ 1.1968],\n",
       "         [-1.2057],\n",
       "         [-0.4972],\n",
       "         [-0.3451],\n",
       "         [ 0.5269],\n",
       "         [ 0.205 ],\n",
       "         [-0.0742],\n",
       "         [ 0.1291],\n",
       "         [-0.967 ],\n",
       "         [-0.2847],\n",
       "         [ 0.9423],\n",
       "         [-2.1175],\n",
       "         [-1.4754],\n",
       "         [ 0.3361],\n",
       "         [-0.0646],\n",
       "         [-0.1739],\n",
       "         [ 0.4019],\n",
       "         [ 0.3854],\n",
       "         [ 1.5666],\n",
       "         [-1.6548],\n",
       "         [ 1.2549],\n",
       "         [ 0.111 ],\n",
       "         [-0.6415],\n",
       "         [-1.126 ],\n",
       "         [-1.7107],\n",
       "         [ 1.0145],\n",
       "         [-1.0575],\n",
       "         [-1.3583],\n",
       "         [ 1.6029],\n",
       "         [-1.1333],\n",
       "         [ 2.3175],\n",
       "         [ 0.6261],\n",
       "         [-0.5869],\n",
       "         [ 0.1917],\n",
       "         [-0.5262],\n",
       "         [-0.4871],\n",
       "         [ 0.0636],\n",
       "         [ 0.7284],\n",
       "         [-0.085 ],\n",
       "         [ 0.2289],\n",
       "         [ 0.6621],\n",
       "         [-1.539 ],\n",
       "         [ 1.373 ],\n",
       "         [-1.4633],\n",
       "         [-0.2337],\n",
       "         [-1.1114],\n",
       "         [-2.041 ],\n",
       "         [-0.2132],\n",
       "         [-0.276 ],\n",
       "         [-0.7401],\n",
       "         [-0.1312],\n",
       "         [-0.3726],\n",
       "         [-0.6057],\n",
       "         [-0.4049],\n",
       "         [-0.4081],\n",
       "         [ 1.4094],\n",
       "         [ 0.676 ],\n",
       "         [ 1.1141],\n",
       "         [-0.7248],\n",
       "         [ 0.2229],\n",
       "         [ 1.2285],\n",
       "         [-0.5645],\n",
       "         [-0.4776],\n",
       "         [ 0.5302],\n",
       "         [-0.1656],\n",
       "         [ 0.1945],\n",
       "         [ 1.3604],\n",
       "         [-0.7669],\n",
       "         [-0.544 ],\n",
       "         [ 0.5901]]),\n",
       "  'RR': np.float64(0.020894850471453074),\n",
       "  'fs': array([[-0.1513]]),\n",
       "  'sigma': np.float64(0.838881355840092),\n",
       "  'xt': array([[ 1.0737, -0.8449]]),\n",
       "  'px': array([[-1.2252,  0.037 ,  1.501 , -0.0453,  0.0014],\n",
       "         [-0.3605,  0.7771,  0.13  , -0.2802,  0.604 ],\n",
       "         [-0.8078, -0.1129,  0.6525,  0.0912,  0.0128],\n",
       "         [-1.715 , -1.037 ,  2.9414,  1.7785,  1.0753],\n",
       "         [-0.6097,  0.5071,  0.3717, -0.3091,  0.2571],\n",
       "         [ 2.1619, -0.665 ,  4.674 , -1.4377,  0.4422],\n",
       "         [-1.2092,  1.5548,  1.4621, -1.88  ,  2.4173],\n",
       "         [-0.7409, -0.277 ,  0.5489,  0.2052,  0.0767],\n",
       "         [ 0.9713,  1.8679,  0.9434,  1.8142,  3.4889],\n",
       "         [-0.1957, -0.9932,  0.0383,  0.1944,  0.9864],\n",
       "         [-1.5562,  0.4005,  2.4218, -0.6233,  0.1604],\n",
       "         [ 0.5004,  0.1736,  0.2504,  0.0869,  0.0301],\n",
       "         [-0.5658,  0.4619,  0.3202, -0.2613,  0.2133],\n",
       "         [ 0.1075, -0.3386,  0.0116, -0.0364,  0.1146],\n",
       "         [ 1.4918,  1.6106,  2.2256,  2.4028,  2.5941],\n",
       "         [-1.381 , -2.0782,  1.9073,  2.8701,  4.319 ],\n",
       "         [ 1.1071, -0.1479,  1.2258, -0.1637,  0.0219],\n",
       "         [ 1.7589,  1.7174,  3.0937,  3.0207,  2.9494],\n",
       "         [ 0.156 ,  0.1611,  0.0243,  0.0251,  0.026 ],\n",
       "         [-0.559 , -0.1652,  0.3124,  0.0923,  0.0273],\n",
       "         [ 0.1836, -1.1254,  0.0337, -0.2066,  1.2665],\n",
       "         [ 0.5778, -0.964 ,  0.3339, -0.557 ,  0.9293],\n",
       "         [-1.4855, -0.4785,  2.2066,  0.7107,  0.2289],\n",
       "         [-3.1586, -1.7771,  9.9764,  5.6131,  3.1581],\n",
       "         [ 0.5451, -1.0706,  0.2972, -0.5836,  1.1461],\n",
       "         [-1.1671,  1.8684,  1.3622, -2.1807,  3.491 ],\n",
       "         [-0.2865, -1.5572,  0.0821,  0.4461,  2.4249],\n",
       "         [-0.5067, -1.5925,  0.2568,  0.807 ,  2.5359],\n",
       "         [ 1.1144,  0.0637,  1.2418,  0.071 ,  0.0041],\n",
       "         [-0.5283,  1.8245,  0.2791, -0.9638,  3.3286],\n",
       "         [ 1.236 , -1.0119,  1.5277, -1.2507,  1.0239],\n",
       "         [ 0.0963, -1.265 ,  0.0093, -0.1218,  1.6002],\n",
       "         [ 0.7211, -0.8859,  0.52  , -0.6388,  0.7848],\n",
       "         [ 0.2638,  1.2698,  0.0696,  0.335 ,  1.6123],\n",
       "         [-1.6849, -0.1197,  2.8388,  0.2016,  0.0143],\n",
       "         [ 0.4313, -0.2505,  0.186 , -0.108 ,  0.0627],\n",
       "         [-0.5187,  0.5844,  0.2691, -0.3031,  0.3415],\n",
       "         [ 0.8486,  0.2726,  0.7201,  0.2313,  0.0743],\n",
       "         [ 0.4503,  0.3346,  0.2028,  0.1507,  0.1119],\n",
       "         [-0.7877, -0.9499,  0.6205,  0.7482,  0.9022],\n",
       "         [-0.6632, -0.7884,  0.4398,  0.5228,  0.6215],\n",
       "         [-0.0045,  0.5697,  0.    , -0.0025,  0.3246],\n",
       "         [-0.6583, -0.2913,  0.4334,  0.1918,  0.0848],\n",
       "         [-2.0314,  0.7849,  4.1267, -1.5946,  0.6161],\n",
       "         [-0.7366, -0.0158,  0.5426,  0.0117,  0.0003],\n",
       "         [ 0.0259, -0.1147,  0.0007, -0.003 ,  0.0132],\n",
       "         [-1.8173,  1.9891,  3.3026, -3.6148,  3.9565],\n",
       "         [-0.1008,  0.8995,  0.0102, -0.0906,  0.809 ],\n",
       "         [ 1.2359, -0.0611,  1.5274, -0.0755,  0.0037],\n",
       "         [ 0.8165, -1.4276,  0.6666, -1.1656,  2.0381],\n",
       "         [-1.491 ,  2.0231,  2.223 , -3.0164,  4.0929],\n",
       "         [ 0.3888,  0.3337,  0.1512,  0.1298,  0.1114],\n",
       "         [-0.1811,  0.132 ,  0.0328, -0.0239,  0.0174],\n",
       "         [-0.9662, -0.1208,  0.9336,  0.1167,  0.0146],\n",
       "         [ 0.0172, -0.2346,  0.0003, -0.004 ,  0.055 ],\n",
       "         [ 0.3834, -0.0642,  0.147 , -0.0246,  0.0041],\n",
       "         [ 0.3911,  2.3071,  0.1529,  0.9023,  5.3226],\n",
       "         [ 1.1494,  0.5656,  1.3211,  0.6501,  0.3199],\n",
       "         [ 0.1443,  1.7622,  0.0208,  0.2543,  3.1055],\n",
       "         [-0.3476,  0.1085,  0.1209, -0.0377,  0.0118],\n",
       "         [-0.9296, -2.398 ,  0.8641,  2.2291,  5.7503],\n",
       "         [ 0.9271, -0.1773,  0.8594, -0.1644,  0.0314],\n",
       "         [ 0.2706,  0.2678,  0.0732,  0.0725,  0.0717],\n",
       "         [ 1.0426,  0.7734,  1.087 ,  0.8064,  0.5982],\n",
       "         [ 0.4805, -0.4259,  0.2308, -0.2046,  0.1813],\n",
       "         [ 0.3676, -0.6995,  0.1351, -0.2571,  0.4893],\n",
       "         [-0.4334, -0.4527,  0.1878,  0.1962,  0.2049],\n",
       "         [-0.9402, -1.3346,  0.884 ,  1.2548,  1.7811],\n",
       "         [-0.0148, -1.3047,  0.0002,  0.0193,  1.7024],\n",
       "         [ 0.729 ,  1.0429,  0.5314,  0.7603,  1.0876],\n",
       "         [ 1.6282,  0.5685,  2.6512,  0.9257,  0.3232],\n",
       "         [ 0.0641, -2.4545,  0.0041, -0.1574,  6.0245],\n",
       "         [-0.3721, -1.2462,  0.1384,  0.4637,  1.553 ],\n",
       "         [ 0.9703,  0.8169,  0.9416,  0.7927,  0.6674],\n",
       "         [-0.0219, -0.7363,  0.0005,  0.0162,  0.5422],\n",
       "         [-0.36  ,  0.2674,  0.1296, -0.0963,  0.0715],\n",
       "         [ 0.3147, -0.1666,  0.099 , -0.0524,  0.0278],\n",
       "         [-0.4357, -1.0962,  0.1898,  0.4776,  1.2017],\n",
       "         [ 0.128 ,  0.1662,  0.0164,  0.0213,  0.0276],\n",
       "         [ 1.871 , -0.2942,  3.5006, -0.5504,  0.0865],\n",
       "         [-0.9073, -0.9465,  0.8231,  0.8587,  0.8958],\n",
       "         [ 0.2525,  0.1004,  0.0637,  0.0253,  0.0101],\n",
       "         [ 0.3811, -0.6242,  0.1452, -0.2379,  0.3896],\n",
       "         [-1.0675,  1.2556,  1.1396, -1.3404,  1.5765],\n",
       "         [ 0.9553,  1.0755,  0.9127,  1.0275,  1.1567],\n",
       "         [ 0.095 ,  1.1575,  0.009 ,  0.1099,  1.3397],\n",
       "         [ 0.1059,  1.3678,  0.0112,  0.1448,  1.8708],\n",
       "         [-1.6182,  0.9865,  2.6187, -1.5965,  0.9733],\n",
       "         [ 0.0901,  0.1005,  0.0081,  0.0091,  0.0101],\n",
       "         [ 0.592 ,  0.5087,  0.3505,  0.3012,  0.2588],\n",
       "         [-0.2447, -0.9773,  0.0599,  0.2392,  0.9551],\n",
       "         [-1.1588, -0.5337,  1.3428,  0.6184,  0.2848],\n",
       "         [-2.4446,  0.7289,  5.9759, -1.7817,  0.5312],\n",
       "         [-1.6772,  0.1493,  2.8129, -0.2503,  0.0223],\n",
       "         [-0.2366,  2.8584,  0.056 , -0.6763,  8.1706],\n",
       "         [-0.9441, -0.6336,  0.8913,  0.5982,  0.4015],\n",
       "         [ 1.2407,  1.4455,  1.5393,  1.7934,  2.0894],\n",
       "         [-0.2892,  0.7936,  0.0836, -0.2295,  0.6299],\n",
       "         [ 0.2129,  0.9518,  0.0453,  0.2026,  0.9059],\n",
       "         [ 0.0486,  0.7779,  0.0024,  0.0378,  0.6052]]),\n",
       "  'pxt': array([[ 1.0737, -0.8449,  1.1529, -0.9072,  0.7138]]),\n",
       "  'nll': np.float64(1.3181863409083414),\n",
       "  'r': array([[ True],\n",
       "         [ True],\n",
       "         [ True],\n",
       "         [ True],\n",
       "         [ True],\n",
       "         [ True],\n",
       "         [ True],\n",
       "         [ True],\n",
       "         [ True],\n",
       "         [ True],\n",
       "         [ True],\n",
       "         [ True],\n",
       "         [ True],\n",
       "         [ True],\n",
       "         [ True],\n",
       "         [ True],\n",
       "         [ True],\n",
       "         [False],\n",
       "         [ True],\n",
       "         [ True],\n",
       "         [ True],\n",
       "         [ True],\n",
       "         [ True],\n",
       "         [ True],\n",
       "         [ True],\n",
       "         [ True],\n",
       "         [ True],\n",
       "         [ True],\n",
       "         [ True],\n",
       "         [ True],\n",
       "         [ True],\n",
       "         [ True],\n",
       "         [ True],\n",
       "         [ True],\n",
       "         [ True],\n",
       "         [ True],\n",
       "         [ True],\n",
       "         [ True],\n",
       "         [ True],\n",
       "         [ True],\n",
       "         [ True],\n",
       "         [ True],\n",
       "         [ True],\n",
       "         [ True],\n",
       "         [ True],\n",
       "         [ True],\n",
       "         [ True],\n",
       "         [ True],\n",
       "         [ True],\n",
       "         [ True],\n",
       "         [ True],\n",
       "         [ True],\n",
       "         [ True],\n",
       "         [ True],\n",
       "         [ True],\n",
       "         [ True],\n",
       "         [ True],\n",
       "         [ True],\n",
       "         [ True],\n",
       "         [ True],\n",
       "         [False],\n",
       "         [ True],\n",
       "         [ True],\n",
       "         [ True],\n",
       "         [ True],\n",
       "         [ True],\n",
       "         [ True],\n",
       "         [ True],\n",
       "         [ True],\n",
       "         [ True],\n",
       "         [ True],\n",
       "         [ True],\n",
       "         [ True],\n",
       "         [ True],\n",
       "         [ True],\n",
       "         [ True],\n",
       "         [ True],\n",
       "         [ True],\n",
       "         [ True],\n",
       "         [ True],\n",
       "         [ True],\n",
       "         [ True],\n",
       "         [ True],\n",
       "         [ True],\n",
       "         [ True],\n",
       "         [ True],\n",
       "         [ True],\n",
       "         [ True],\n",
       "         [ True],\n",
       "         [ True],\n",
       "         [ True],\n",
       "         [ True],\n",
       "         [ True],\n",
       "         [ True],\n",
       "         [ True],\n",
       "         [ True],\n",
       "         [ True],\n",
       "         [ True],\n",
       "         [ True],\n",
       "         [ True]]),\n",
       "  'gamma': array([[0.9836],\n",
       "         [0.947 ],\n",
       "         [0.979 ],\n",
       "         [0.9633],\n",
       "         [0.9772],\n",
       "         [0.9387],\n",
       "         [0.9884],\n",
       "         [0.9645],\n",
       "         [0.9107],\n",
       "         [0.9757],\n",
       "         [0.9849],\n",
       "         [0.9764],\n",
       "         [0.9814],\n",
       "         [0.9773],\n",
       "         [0.849 ],\n",
       "         [0.9547],\n",
       "         [0.9728],\n",
       "         [0.4666],\n",
       "         [0.9422],\n",
       "         [0.9614],\n",
       "         [0.9584],\n",
       "         [0.9591],\n",
       "         [0.9814],\n",
       "         [0.9569],\n",
       "         [0.9394],\n",
       "         [0.9858],\n",
       "         [0.9682],\n",
       "         [0.9229],\n",
       "         [0.8432],\n",
       "         [0.9846],\n",
       "         [0.9214],\n",
       "         [0.9473],\n",
       "         [0.9749],\n",
       "         [0.9765],\n",
       "         [0.9803],\n",
       "         [0.9738],\n",
       "         [0.9828],\n",
       "         [0.9742],\n",
       "         [0.966 ],\n",
       "         [0.9761],\n",
       "         [0.9541],\n",
       "         [0.8254],\n",
       "         [0.9465],\n",
       "         [0.9896],\n",
       "         [0.9818],\n",
       "         [0.9785],\n",
       "         [0.9918],\n",
       "         [0.9761],\n",
       "         [0.875 ],\n",
       "         [0.9112],\n",
       "         [0.9721],\n",
       "         [0.976 ],\n",
       "         [0.9789],\n",
       "         [0.9712],\n",
       "         [0.9185],\n",
       "         [0.936 ],\n",
       "         [0.9559],\n",
       "         [0.9333],\n",
       "         [0.8665],\n",
       "         [0.9695],\n",
       "         [0.2025],\n",
       "         [0.9671],\n",
       "         [0.9764],\n",
       "         [0.9682],\n",
       "         [0.9754],\n",
       "         [0.9757],\n",
       "         [0.9781],\n",
       "         [0.9562],\n",
       "         [0.9736],\n",
       "         [0.9708],\n",
       "         [0.9519],\n",
       "         [0.8919],\n",
       "         [0.894 ],\n",
       "         [0.9261],\n",
       "         [0.9767],\n",
       "         [0.9709],\n",
       "         [0.8213],\n",
       "         [0.9746],\n",
       "         [0.9789],\n",
       "         [0.9667],\n",
       "         [0.977 ],\n",
       "         [0.978 ],\n",
       "         [0.9748],\n",
       "         [0.9874],\n",
       "         [0.9708],\n",
       "         [0.9132],\n",
       "         [0.9708],\n",
       "         [0.9724],\n",
       "         [0.976 ],\n",
       "         [0.9733],\n",
       "         [0.9283],\n",
       "         [0.9791],\n",
       "         [0.9918],\n",
       "         [0.9822],\n",
       "         [0.98  ],\n",
       "         [0.9774],\n",
       "         [0.8454],\n",
       "         [0.9787],\n",
       "         [0.9758],\n",
       "         [0.9685]]),\n",
       "  'nw': np.float64(15.75639124941452),\n",
       "  'w': array([ 0.9217, -0.2674,  0.1404,  0.0256, -0.2317, -0.0701]),\n",
       "  'ms': -0.1769866082929647,\n",
       "  'logtheta': array([-1.1835, -1.2214, -1.4786, -0.1457]),\n",
       "  'cv': [<function cov.covSum.covSum(covfunc, logtheta=None, x=None, z=None)>,\n",
       "   [<function cov.covSEard.covSEard(loghyper=None, x=None, z=None)>,\n",
       "    <function cov.covNoise.covNoise(logtheta=None, x=None, z=None)>]],\n",
       "  'mu_t': array([[-0.1513]]),\n",
       "  'sig2_t': array([[0.7962]])},\n",
       " <matplotlib.collections.PathCollection at 0x22949cac800>)"
      ]
     },
     "execution_count": 89,
     "metadata": {},
     "output_type": "execute_result"
    }
   ],
   "source": [
    "xt = x0\n",
    "JumpGP_QD(x,y,xt,'CEM',1)"
   ]
  },
  {
   "cell_type": "code",
   "execution_count": 75,
   "id": "b5a96b8d-c951-41fa-be55-60ac5d2db37c",
   "metadata": {},
   "outputs": [
    {
     "name": "stderr",
     "output_type": "stream",
     "text": [
      "C:\\Users\\yxu59\\AppData\\Local\\Temp\\ipykernel_4252\\126336772.py:19: DeprecationWarning: Conversion of an array with ndim > 0 to a scalar is deprecated, and will error in future. Ensure you extract a single element from your array before performing this operation. (Deprecated NumPy 1.25.)\n",
      "  b_range = np.arange(-0.2 + w[0], 0.2 + w[0], 0.0005)\n"
     ]
    },
    {
     "name": "stdout",
     "output_type": "stream",
     "text": [
      "Initial boundary visualization\n"
     ]
    }
   ],
   "source": [
    "x, y, xt, mode, bVerbose = x,y,xt,'CEM',1\n",
    "cv = [covSum, [covSEard, covNoise]]\n",
    "d = x.shape[1]\n",
    "g1, g2 = np.meshgrid(np.arange(d), np.arange(d))\n",
    "g1, g2 = g1.flatten(order='F'), g2.flatten(order='F')\n",
    "id_mask = g1 >= g2\n",
    "\n",
    "px = np.hstack([x, (x[:, g1[id_mask]] * x[:, g2[id_mask]])])\n",
    "pxt = np.hstack([xt, (xt[:, g1[id_mask]] * xt[:, g2[id_mask]])])\n",
    "\n",
    "# Initial estimation of boundary B(x)\n",
    "logtheta = np.zeros(d + 2)\n",
    "logtheta[-1] = -1.15\n",
    "w, _ = local_qfit(x, y, xt)\n",
    "nw = np.linalg.norm(w)\n",
    "w /= nw\n",
    "\n",
    "# Fine-tune intercept term\n",
    "b_range = np.arange(-0.2 + w[0], 0.2 + w[0], 0.0005)\n",
    "fd = []\n",
    "for b_k in b_range:\n",
    "    w_d = np.copy(w)\n",
    "    w_d[0] = b_k\n",
    "    gx, _ = calculate_gx(px, w_d)\n",
    "    r = gx >= 0\n",
    "    r1 = r.flatten()\n",
    "    fd.append(loglikelihood(logtheta, covSum, [covSEard, covNoise], x[r1,:], y[r1]) + loglikelihood(logtheta, covSum, [covSEard, covNoise], x[~r1,:], y[~r1]))\n",
    "\n",
    "w[0] = b_range[np.argmin(fd)]\n",
    "w *= nw\n",
    "\n",
    "if mode == 'CEM':\n",
    "    model = maximize_PD(x, y, xt, px, pxt, w, logtheta, None, bVerbose)\n",
    "elif mode == 'VEM':\n",
    "    model = variationalEM(x, y, xt, px, pxt, w, logtheta, None, bVerbose)\n",
    "elif mode == 'SEM':\n",
    "    model = stochasticEM(x, y, xt, px, pxt, w, logtheta, None, bVerbose)\n",
    "else:\n",
    "    raise ValueError(\"Invalid mode specified. Choose from 'CEM', 'VEM', or 'SEM'.\")\n",
    "\n",
    "mu_t = model['mu_t']\n",
    "sig2_t = model['sig2_t']"
   ]
  },
  {
   "cell_type": "code",
   "execution_count": 76,
   "id": "c4b661e8-2d95-4424-9d98-9ebb0c216470",
   "metadata": {},
   "outputs": [],
   "source": [
    "gx_range = np.linspace(0, 1, int(1 / 0.025)) - 0.5\n",
    "ptx, pty = np.meshgrid(gx_range, gx_range)\n",
    "allx = np.hstack([ptx.ravel().reshape(-1, 1), pty.ravel().reshape(-1, 1)])\n",
    "allx = np.hstack([allx, (allx[:, g1[id_mask]] * allx[:, g2[id_mask]])])\n",
    "gx, _ = calculate_gx(allx, model['w'])\n",
    "gy = np.sign(gx)"
   ]
  },
  {
   "cell_type": "code",
   "execution_count": 79,
   "id": "3cd569af-1ea8-43cd-b65a-9a8bb71cf122",
   "metadata": {},
   "outputs": [
    {
     "data": {
      "text/plain": [
       "(1600,)"
      ]
     },
     "execution_count": 79,
     "metadata": {},
     "output_type": "execute_result"
    }
   ],
   "source": [
    "gy.shape"
   ]
  },
  {
   "cell_type": "code",
   "execution_count": 81,
   "id": "2123598a-2d4b-4dd1-b778-570c896083d0",
   "metadata": {},
   "outputs": [
    {
     "data": {
      "image/png": "[encoded data removed]",
      "text/plain": [
       "<Figure size 640x480 with 1 Axes>"
      ]
     },
     "metadata": {},
     "output_type": "display_data"
    }
   ],
   "source": [
    "import numpy as np\n",
    "import matplotlib.pyplot as plt\n",
    "\n",
    "# 假设 gx 和 gy 已经定义，并且 L 是已知的\n",
    "# gx = ...\n",
    "# gy = ...\n",
    "# L = ...\n",
    "\n",
    "# 将 gy 重新形状为 LxL\n",
    "L = len(gx_range)\n",
    "gy_reshaped = np.reshape(gy, (L, L))\n",
    "\n",
    "# 绘制等高线\n",
    "plt.contour(gx_range, gx_range, gy_reshaped, levels=[1], colors='r', linewidths=3)\n",
    "gx,_ = calculate_gx(px, model.w)  # 调用计算函数\n",
    "\n",
    "# 使用布尔索引筛选 x 中的行\n",
    "x_filtered = x[gx >= 0]\n",
    "\n",
    "# 绘制散点图\n",
    "h2 = plt.scatter(x_filtered[:, 0], x_filtered[:, 1], color='g', marker='s')\n",
    "\n",
    "# 添加标题和标签\n",
    "plt.title('Contour Plot')\n",
    "plt.xlabel('gx axis')\n",
    "plt.ylabel('gy axis')\n",
    "\n",
    "# 显示图形\n",
    "plt.show()\n"
   ]
  },
  {
   "cell_type": "code",
   "execution_count": 55,
   "id": "61ae91f9-1356-4aa7-92cd-9d372699ac35",
   "metadata": {},
   "outputs": [],
   "source": [
    "d = x.shape[1]\n",
    "g1, g2 = np.meshgrid(np.arange(d), np.arange(d))\n",
    "g1, g2 = g1.flatten(order='F'), g2.flatten(order='F')\n",
    "id_mask = g1 >= g2\n",
    "\n",
    "px = np.hstack([x, (x[:, g1[id_mask]] * x[:, g2[id_mask]])])\n",
    "pxt = np.hstack([xt, (xt[:, g1[id_mask]] * xt[:, g2[id_mask]])])\n",
    "\n",
    "# Initial estimation of boundary B(x)\n",
    "logtheta = np.zeros(d + 2)\n",
    "logtheta[-1] = -1.15\n",
    "w,_ = local_qfit(x, y, xt)\n",
    "nw = np.linalg.norm(w)\n",
    "w /= nw"
   ]
  },
  {
   "cell_type": "code",
   "execution_count": 56,
   "id": "25d5fafa-e7d0-471d-ab70-4f3c2bdfcb63",
   "metadata": {},
   "outputs": [
    {
     "data": {
      "text/plain": [
       "array([[ 0.178 ],\n",
       "       [ 0.0741],\n",
       "       [-0.01  ],\n",
       "       [ 0.3844],\n",
       "       [-0.1481],\n",
       "       [ 0.2127],\n",
       "       [ 0.2973],\n",
       "       [-0.246 ],\n",
       "       [-0.7711],\n",
       "       [-0.0662]])"
      ]
     },
     "execution_count": 56,
     "metadata": {},
     "output_type": "execute_result"
    }
   ],
   "source": [
    "w"
   ]
  },
  {
   "cell_type": "code",
   "execution_count": 11,
   "id": "cd348194-b73e-4e73-846d-0e8ffb6348d4",
   "metadata": {},
   "outputs": [],
   "source": [
    "x0, y0, xt = x,y,xt"
   ]
  },
  {
   "cell_type": "code",
   "execution_count": 44,
   "id": "191c71cb-6e38-409d-a766-902f190ea2e0",
   "metadata": {},
   "outputs": [],
   "source": [
    "N, p = x0.shape\n",
    "\n",
    "# Calculate differences between x0 and xt\n",
    "d = x0 - xt\n",
    "d2 = np.sum(d ** 2, axis=1)\n",
    "\n",
    "# Bandwidth for Gaussian kernel\n",
    "h = np.max(np.sqrt(d2))\n",
    "\n",
    "# Gaussian kernel weights\n",
    "Kh = np.exp(-0.5 * d2 / (h ** 2)) / (2 * np.pi * (h ** 2))\n",
    "\n",
    "# Construct the local linear basis matrix\n",
    "g1, g2 = np.meshgrid(np.arange(p), np.arange(p))\n",
    "g1, g2 = g1.flatten(order='F'), g2.flatten(order='F')\n",
    "id_mask = g1 >= g2"
   ]
  },
  {
   "cell_type": "code",
   "execution_count": 38,
   "id": "3ef638ae-db1c-4085-9342-186d8785d674",
   "metadata": {},
   "outputs": [
    {
     "data": {
      "text/plain": [
       "array([0.01924727, 0.01661828, 0.01815097, 0.01683869, 0.0198405 ])"
      ]
     },
     "execution_count": 38,
     "metadata": {},
     "output_type": "execute_result"
    }
   ],
   "source": [
    "Kh"
   ]
  },
  {
   "cell_type": "code",
   "execution_count": 39,
   "id": "dac687ba-f0b6-4734-8ec5-013ea7f22fd5",
   "metadata": {},
   "outputs": [
    {
     "data": {
      "text/plain": [
       "array([[ 2.93373393e-01,  1.08294472e+00, -1.82751285e-01,\n",
       "         3.99753115e+00, -6.74599486e-01,  1.13841381e-01],\n",
       "       [ 6.45647864e+00,  2.98237980e+00,  7.79860884e-01,\n",
       "         1.37762235e+00,  3.60233725e-01,  9.41973222e-02],\n",
       "       [ 2.67886464e-03, -1.22674196e-03,  8.09965834e-02,\n",
       "         5.61766286e-04, -3.70910520e-02,  2.44896529e+00],\n",
       "       [ 2.99378685e+00, -1.35922838e+00,  7.13887832e-01,\n",
       "         6.17111994e-01, -3.24116794e-01,  1.70231169e-01],\n",
       "       [ 6.10911252e-01, -5.16439884e-01, -8.61478320e-01,\n",
       "         4.36577577e-01,  7.28259240e-01,  1.21481622e+00]])"
      ]
     },
     "execution_count": 39,
     "metadata": {},
     "output_type": "execute_result"
    }
   ],
   "source": [
    "(x0[:, g1[id_mask]] * x0[:, g2[id_mask]])"
   ]
  },
  {
   "cell_type": "code",
   "execution_count": 45,
   "id": "3b5ce009-d4da-41e5-a9c2-f895377de483",
   "metadata": {},
   "outputs": [],
   "source": [
    "X = np.hstack([np.ones((N, 1)), x0, (x0[:, g1[id_mask]] * x0[:, g2[id_mask]])])\n",
    "\n",
    "# Weighted least squares\n",
    "XWX = X.T @ np.diag(Kh) @ X\n",
    "XWy = X.T @ np.diag(Kh) @ y0\n",
    "\n",
    "# Solve for beta\n",
    "beta = np.linalg.solve(XWX, XWy)"
   ]
  },
  {
   "cell_type": "code",
   "execution_count": 46,
   "id": "38e9ea7e-a4c8-4c3c-9cfb-7f7d85a645d0",
   "metadata": {},
   "outputs": [
    {
     "data": {
      "text/plain": [
       "array([[ 1.    ,  0.5416,  1.9994, -0.3374,  0.2934,  1.0829,  3.9975,\n",
       "        -0.1828, -0.6746,  0.1138],\n",
       "       [ 1.    ,  2.541 ,  1.1737,  0.3069,  6.4565,  2.9824,  1.3776,\n",
       "         0.7799,  0.3602,  0.0942],\n",
       "       [ 1.    , -0.0518,  0.0237, -1.5649,  0.0027, -0.0012,  0.0006,\n",
       "         0.081 , -0.0371,  2.449 ],\n",
       "       [ 1.    , -1.7303,  0.7856, -0.4126,  2.9938, -1.3592,  0.6171,\n",
       "         0.7139, -0.3241,  0.1702],\n",
       "       [ 1.    ,  0.7816, -0.6607, -1.1022,  0.6109, -0.5164,  0.4366,\n",
       "        -0.8615,  0.7283,  1.2148]])"
      ]
     },
     "execution_count": 46,
     "metadata": {},
     "output_type": "execute_result"
    }
   ],
   "source": [
    "np.set_printoptions(suppress=True, precision=4)\n",
    "np.round(X,4)"
   ]
  },
  {
   "cell_type": "code",
   "execution_count": 49,
   "id": "877aea03-9f45-4f2b-bdaa-56504d7d5886",
   "metadata": {},
   "outputs": [
    {
     "data": {
      "text/plain": [
       "array([[-0.0527],\n",
       "       [-0.017 ],\n",
       "       [-0.0041],\n",
       "       [ 0.0472],\n",
       "       [-0.0679],\n",
       "       [ 0.0088],\n",
       "       [-0.0416],\n",
       "       [ 0.0134],\n",
       "       [-0.0138],\n",
       "       [-0.0566]])"
      ]
     },
     "execution_count": 49,
     "metadata": {},
     "output_type": "execute_result"
    }
   ],
   "source": [
    "XWy"
   ]
  },
  {
   "cell_type": "code",
   "execution_count": 91,
   "id": "0bc4a216-03a2-4eb6-ba42-c2ca369a04d2",
   "metadata": {},
   "outputs": [],
   "source": [
    "percent_train=0.5\n",
    "sig=2\n",
    "caseno = 4  # 使用4为图8，使用6为图9\n",
    "n_neighbors = 40"
   ]
  },
  {
   "cell_type": "code",
   "execution_count": 136,
   "id": "35d0472b-004d-4c1f-abac-3c145c31c760",
   "metadata": {},
   "outputs": [],
   "source": [
    "x, y, xt, yt, y0, gx, r, bw = simulate_case(caseno, sig, percent_train)\n",
    "L = len(gx)\n",
    "\n",
    "# 数据中心化\n",
    "my = np.mean(yt)\n",
    "y, yt, y0 = y - my, yt - my, y0 - my\n",
    "\n",
    "# 获取边界\n",
    "bw = bw.reshape(L, L)\n",
    "\n",
    "# 定义测试点\n",
    "xs_cases = {\n",
    "    4: np.array([[37, 11], [36, 36], [8, 35], [17, 24], [21, 21], [34, 32]]),\n",
    "    6: np.array([[27, 21], [10, 27], [37, 31], [9, 19], [21, 22], [27, 15]])\n",
    "}"
   ]
  },
  {
   "cell_type": "code",
   "execution_count": 137,
   "id": "406cf5a5-f063-493a-b852-ae235c754feb",
   "metadata": {},
   "outputs": [],
   "source": [
    "xs = xs_cases[caseno] / len(np.arange(0, 1.025, 0.025)) - 0.5\n",
    "\n",
    "# 绘图设置\n",
    "# fig, axs = plt.subplots(3, 4, figsize=(15, 15))\n",
    "sel = [1, 2, 3, 6]"
   ]
  },
  {
   "cell_type": "code",
   "execution_count": 138,
   "id": "6e970ddd-384f-41bd-a90c-148e0d2cbcad",
   "metadata": {},
   "outputs": [
    {
     "name": "stdout",
     "output_type": "stream",
     "text": [
      "Initial boundary visualization\n",
      "Plotting results for mode: CEM\n"
     ]
    },
    {
     "name": "stderr",
     "output_type": "stream",
     "text": [
      "C:\\Users\\yxu59\\autumn2024\\codeBase\\JumpGP_code_py\\maximize_PD.py:80: RuntimeWarning: divide by zero encountered in log\n",
      "  return -np.sum(r.T * np.log(1 / (1 + np.exp(-phi_w))) + (1 - r).T * np.log(1 - 1 / (1 + np.exp(-phi_w))) )\n",
      "C:\\Users\\yxu59\\autumn2024\\codeBase\\JumpGP_code_py\\maximize_PD.py:80: RuntimeWarning: invalid value encountered in multiply\n",
      "  return -np.sum(r.T * np.log(1 / (1 + np.exp(-phi_w))) + (1 - r).T * np.log(1 - 1 / (1 + np.exp(-phi_w))) )\n",
      "C:\\Users\\yxu59\\autumn2024\\codeBase\\JumpGP_code_py\\maximize_PD.py:80: RuntimeWarning: overflow encountered in exp\n",
      "  return -np.sum(r.T * np.log(1 / (1 + np.exp(-phi_w))) + (1 - r).T * np.log(1 - 1 / (1 + np.exp(-phi_w))) )\n",
      "C:\\Users\\yxu59\\autumn2024\\codeBase\\JumpGP_code_py\\maximize_PD.py:80: RuntimeWarning: divide by zero encountered in log\n",
      "  return -np.sum(r.T * np.log(1 / (1 + np.exp(-phi_w))) + (1 - r).T * np.log(1 - 1 / (1 + np.exp(-phi_w))) )\n",
      "C:\\Users\\yxu59\\autumn2024\\codeBase\\JumpGP_code_py\\maximize_PD.py:80: RuntimeWarning: invalid value encountered in multiply\n",
      "  return -np.sum(r.T * np.log(1 / (1 + np.exp(-phi_w))) + (1 - r).T * np.log(1 - 1 / (1 + np.exp(-phi_w))) )\n"
     ]
    },
    {
     "data": {
      "image/png": "[encoded data removed]",
      "text/plain": [
       "<Figure size 640x480 with 1 Axes>"
      ]
     },
     "metadata": {},
     "output_type": "display_data"
    }
   ],
   "source": [
    "j = 0\n",
    "k = 0 if j < 4 else 1\n",
    "xt = xs[j, :]\n",
    "\n",
    "# 找到k个最近邻\n",
    "nbrs = NearestNeighbors(n_neighbors=n_neighbors, algorithm='auto').fit(x)\n",
    "idx = nbrs.kneighbors([xt], return_distance=False)[0]\n",
    "lx, ly = x[idx, :], y[idx]\n",
    "ly = ly.reshape(-1, 1)\n",
    "xt = xt.reshape(1, -1)\n",
    "\n",
    "# 选择JumpGP函数\n",
    "if k == 0:\n",
    "    mu_t, sig2_t, model, h3 = JumpGP_QD(lx, ly, xt, 'CEM', True)\n",
    "else:\n",
    "    mu_t, sig2_t, model, h3 = JumpGP_QD(lx, ly, xt, 'VEM', True)"
   ]
  },
  {
   "cell_type": "code",
   "execution_count": 139,
   "id": "e55c4406-7ae4-4406-a362-8fd0b04a3c3a",
   "metadata": {},
   "outputs": [],
   "source": [
    "gx_range = np.linspace(0, 1, int(1 / 0.025)) - 0.5\n",
    "ptx, pty = np.meshgrid(gx_range, gx_range)\n",
    "allx = np.hstack([ptx.ravel().reshape(-1, 1), pty.ravel().reshape(-1, 1)])\n",
    "allx = np.hstack([allx, (allx[:, g1[id_mask]] * allx[:, g2[id_mask]])])\n",
    "gx, _ = calculate_gx(allx, model['w'])\n",
    "gy = np.sign(gx)"
   ]
  },
  {
   "cell_type": "code",
   "execution_count": 141,
   "id": "2c0799b5-fbd4-4ddb-8531-a55bb3ef6015",
   "metadata": {},
   "outputs": [
    {
     "data": {
      "text/plain": [
       "array([-0.3605, -0.3367, -0.3137, ...,  0.0769,  0.0845,  0.0914])"
      ]
     },
     "execution_count": 141,
     "metadata": {},
     "output_type": "execute_result"
    }
   ],
   "source": [
    "gx"
   ]
  },
  {
   "cell_type": "code",
   "execution_count": 142,
   "id": "c7681a1b-af50-40b4-9719-96e8cc9ec127",
   "metadata": {},
   "outputs": [
    {
     "data": {
      "image/png": "[encoded data removed]",
      "text/plain": [
       "<Figure size 640x480 with 1 Axes>"
      ]
     },
     "metadata": {},
     "output_type": "display_data"
    }
   ],
   "source": [
    "plt.imshow(np.reshape(yt, (L, L)), cmap='gray', extent=(gx[0], gx[-1], gx[-1], gx[0]))\n",
    "plt.scatter(lx[:, 0], lx[:, 1], color='r', marker='+', s=100, label='Local Training Inputs')\n",
    "\n",
    "plt.scatter(xt[0, 0], xt[0, 1], color='c', marker='o', s=100, label='test point')\n",
    "current_ax = plt.gca()\n",
    "\n",
    "# 函数用于复制 PathCollection\n",
    "def copy_path_collection(artist, ax):\n",
    "    # 获取 PathCollection 的属性\n",
    "    offsets = artist.get_offsets()  # 获取点的坐标\n",
    "    sizes = artist.get_sizes()  # 获取点的大小\n",
    "    facecolors = artist.get_facecolor()  # 获取点的颜色\n",
    "    edgecolors = artist.get_edgecolor()  # 获取边缘颜色\n",
    "\n",
    "    # 重新绘制散点图\n",
    "    return ax.scatter(offsets[:, 0], offsets[:, 1], s=sizes, c=facecolors, \n",
    "                    edgecolor=edgecolors, alpha=artist.get_alpha(), label=artist.get_label())\n",
    "\n",
    "# 重新绘制 h3\n",
    "new_artist = copy_path_collection(h3, current_ax)\n",
    "# A, B, C, D, E, F = model[\"w\"][::-1]\n",
    "# ggx = np.linspace(-0.5, 0.5, 400)\n",
    "\n",
    "# # 创建一个网格以计算 y 值\n",
    "# ggX, ggY = np.meshgrid(ggx, ggx)\n",
    "\n",
    "# # 计算椭圆方程\n",
    "# Z = A * ggX**2 + B * ggX * ggY + C * ggY**2 + D * ggX + E * ggY + F\n",
    "L1 = len(gx_range)\n",
    "# plt.contour(gx_range, gx_range, np.reshape(gy, (L1, L1)), levels=[0], colors='r')\n",
    "\n",
    "plt.imshow(np.reshape(yt, (L, L)), cmap='gray', extent=(gx[0], gx[-1], gx[-1], gx[0]))\n",
    "\n",
    "# if i == 1 and k == 1:\n",
    "#     ax.set_xlabel('x1')\n",
    "#     ax.set_ylabel('x2')\n",
    "\n",
    "plt.legend()\n",
    "plt.show()"
   ]
  },
  {
   "cell_type": "code",
   "execution_count": 147,
   "id": "3927797b-bba3-47b8-a074-2066d345e997",
   "metadata": {},
   "outputs": [
    {
     "data": {
      "image/png": "[encoded data removed]",
      "text/plain": [
       "<Figure size 640x480 with 1 Axes>"
      ]
     },
     "metadata": {},
     "output_type": "display_data"
    }
   ],
   "source": [
    "import numpy as np\n",
    "import matplotlib.pyplot as plt\n",
    "\n",
    "# 二次曲线系数（示例，这里假设形成一个椭圆）\n",
    "A, B, C, D, E, F = 0.4519, -0.4441, 0.4603, -0.4511, 0.3488, -0.2482\n",
    "\n",
    "# 生成 x 值\n",
    "x = np.linspace(0, 1, 400) - 0.5\n",
    "# gx_range = np.linspace(0, 1, int(1 / 0.025)) - 0.5\n",
    "ptx, pty = np.meshgrid(x, x)\n",
    "allx = np.hstack([ptx.ravel().reshape(-1, 1), pty.ravel().reshape(-1, 1)])\n",
    "allx = np.hstack([allx, (allx[:, g1[id_mask]] * allx[:, g2[id_mask]])])\n",
    "gx, _ = calculate_gx(allx, model['w'])\n",
    "gy = np.sign(gx)\n",
    "L1 = len(x)\n",
    "plt.contour(x, x, np.reshape(gy, (L1, L1)), levels=[0], colors='r')\n",
    "\n",
    "# # 创建一个网格以计算 y 值\n",
    "# X, Y = np.meshgrid(x, x)\n",
    "\n",
    "# # 计算椭圆方程\n",
    "# Z = A * X**2 + B * X * Y + C * Y**2 + D * X + E * Y + F\n",
    "\n",
    "# 绘图\n",
    "# plt.figure(figsize=(10, 10))\n",
    "# plt.contour(X, Y, Z, levels=[0], colors='b')  # 只绘制零级等高线\n",
    "# plt.title('Quadratic Curve (Ellipse)')\n",
    "# plt.xlabel('x')\n",
    "# plt.ylabel('y')\n",
    "# plt.axhline(0, color='black', lw=0.5, ls='--')  # 添加 y=0 参考线\n",
    "# plt.axvline(0, color='black', lw=0.5, ls='--')  # 添加 x=0 参考线\n",
    "# plt.grid()\n",
    "# plt.axis('equal')  # 确保 x 和 y 轴等比例\n",
    "plt.show()\n"
   ]
  },
  {
   "cell_type": "code",
   "execution_count": 114,
   "id": "85a66c5e-cfd0-4678-bba9-854fd3281065",
   "metadata": {},
   "outputs": [
    {
     "data": {
      "text/plain": [
       "(6,)"
      ]
     },
     "execution_count": 114,
     "metadata": {},
     "output_type": "execute_result"
    }
   ],
   "source": [
    "(model[\"w\"]).shape"
   ]
  },
  {
   "cell_type": "code",
   "execution_count": null,
   "id": "d3afe389-aaff-4e62-985a-861db8387fdd",
   "metadata": {},
   "outputs": [],
   "source": []
  }
 ],
 "metadata": {
  "kernelspec": {
   "display_name": "Python 3 (ipykernel)",
   "language": "python",
   "name": "python3"
  },
  "language_info": {
   "codemirror_mode": {
    "name": "ipython",
    "version": 3
   },
   "file_extension": ".py",
   "mimetype": "text/x-python",
   "name": "python",
   "nbconvert_exporter": "python",
   "pygments_lexer": "ipython3",
   "version": "3.12.7"
  }
 },
 "nbformat": 4,
 "nbformat_minor": 5
}
