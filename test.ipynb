{
 "cells": [
  {
   "cell_type": "code",
   "execution_count": 1,
   "metadata": {},
   "outputs": [],
   "source": [
    "from jumpgp import *\n",
    "from simulate_case import simulate_case\n",
    "import numpy as np\n"
   ]
  },
  {
   "cell_type": "code",
   "execution_count": 9,
   "metadata": {},
   "outputs": [
    {
     "name": "stderr",
     "output_type": "stream",
     "text": [
      "100%|██████████| 200/200 [00:08<00:00, 23.70it/s]"
     ]
    },
    {
     "name": "stdout",
     "output_type": "stream",
     "text": [
      "RMSE: 4.391313674894104, Mean CRPS: 2.0686791416147883\n"
     ]
    },
    {
     "name": "stderr",
     "output_type": "stream",
     "text": [
      "\n"
     ]
    }
   ],
   "source": [
    "caseno, sig, percent_train = 5, 2, 0.5\n",
    "x, y, xt, yt, y0, gx, r, bw = simulate_case(caseno, sig, percent_train)\n",
    "xt, yt = xt[:200], yt[:200]\n",
    "JGP = JumpGP(x, y, xt, L=1, M=20, mode='CEM', bVerbose=False)\n",
    "JGP.fit()\n",
    "rmse, mean_crps = JGP.metrics(yt)\n",
    "print(f\"RMSE: {rmse}, Mean CRPS: {mean_crps}\")"
   ]
  },
  {
   "cell_type": "code",
   "execution_count": 10,
   "metadata": {},
   "outputs": [
    {
     "name": "stdout",
     "output_type": "stream",
     "text": [
      "(1300, 2) (200, 2) (1300,) (200,)\n"
     ]
    }
   ],
   "source": [
    "print(x.shape, xt.shape, y.shape, yt.shape)"
   ]
  },
  {
   "cell_type": "code",
   "execution_count": null,
   "metadata": {},
   "outputs": [],
   "source": []
  }
 ],
 "metadata": {
  "kernelspec": {
   "display_name": "jumpGP",
   "language": "python",
   "name": "python3"
  },
  "language_info": {
   "codemirror_mode": {
    "name": "ipython",
    "version": 3
   },
   "file_extension": ".py",
   "mimetype": "text/x-python",
   "name": "python",
   "nbconvert_exporter": "python",
   "pygments_lexer": "ipython3",
   "version": "3.12.7"
  }
 },
 "nbformat": 4,
 "nbformat_minor": 2
}
